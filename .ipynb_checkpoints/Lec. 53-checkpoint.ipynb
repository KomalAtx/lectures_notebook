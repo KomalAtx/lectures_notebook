{
 "cells": [
  {
   "cell_type": "code",
   "execution_count": 27,
   "id": "0b7f45e6-48be-44a6-b01f-73a2e225da81",
   "metadata": {},
   "outputs": [],
   "source": [
    "import pandas as pd\n",
    "import re\n",
    "import string\n",
    "from nltk.stem.snowball import SnowballStemmer"
   ]
  },
  {
   "cell_type": "code",
   "execution_count": 28,
   "id": "acbe3405-94a9-42e2-b3ff-36fbb9facc55",
   "metadata": {},
   "outputs": [
    {
     "name": "stdout",
     "output_type": "stream",
     "text": [
      "(72180, 4)\n"
     ]
    }
   ],
   "source": [
    "# Reading the data file into a DataFrame and checking the shape\n",
    "data = pd.read_csv('AmazonMobileDataCleaned2.csv')\n",
    "print(data.shape)"
   ]
  },
  {
   "cell_type": "code",
   "execution_count": 29,
   "id": "0e480ba0-c4de-42cf-87b0-2119c8f1e4a9",
   "metadata": {},
   "outputs": [
    {
     "name": "stdout",
     "output_type": "stream",
     "text": [
      "Index(['uncleanedreview', 'decision', 'cleanedreview', 'cleanedreview_2'], dtype='object')\n"
     ]
    }
   ],
   "source": [
    "print(data.columns)"
   ]
  },
  {
   "cell_type": "code",
   "execution_count": 30,
   "id": "1a089747-a719-4a7c-b30b-25354db8e4e4",
   "metadata": {},
   "outputs": [
    {
     "name": "stdout",
     "output_type": "stream",
     "text": [
      "(72180, 2)\n"
     ]
    }
   ],
   "source": [
    "data.drop(['uncleanedreview', 'cleanedreview'], axis=1,inplace=True)\n",
    "print(data.shape)"
   ]
  },
  {
   "cell_type": "code",
   "execution_count": 31,
   "id": "03c032cc-a406-4e4a-8c4c-a67d97a0f7db",
   "metadata": {},
   "outputs": [
    {
     "data": {
      "text/html": [
       "<div>\n",
       "<style scoped>\n",
       "    .dataframe tbody tr th:only-of-type {\n",
       "        vertical-align: middle;\n",
       "    }\n",
       "\n",
       "    .dataframe tbody tr th {\n",
       "        vertical-align: top;\n",
       "    }\n",
       "\n",
       "    .dataframe thead th {\n",
       "        text-align: right;\n",
       "    }\n",
       "</style>\n",
       "<table border=\"1\" class=\"dataframe\">\n",
       "  <thead>\n",
       "    <tr style=\"text-align: right;\">\n",
       "      <th></th>\n",
       "      <th>decision</th>\n",
       "      <th>cleanedreview_2</th>\n",
       "    </tr>\n",
       "  </thead>\n",
       "  <tbody>\n",
       "    <tr>\n",
       "      <th>0</th>\n",
       "      <td>positive</td>\n",
       "      <td>samsung awhile absolute doo doo read review de...</td>\n",
       "    </tr>\n",
       "    <tr>\n",
       "      <th>1</th>\n",
       "      <td>positive</td>\n",
       "      <td>due software issue nokia sprint phones text me...</td>\n",
       "    </tr>\n",
       "    <tr>\n",
       "      <th>2</th>\n",
       "      <td>positive</td>\n",
       "      <td>great reliable phone also purchased phone sams...</td>\n",
       "    </tr>\n",
       "    <tr>\n",
       "      <th>3</th>\n",
       "      <td>positive</td>\n",
       "      <td>love phone really need one didnt expect price ...</td>\n",
       "    </tr>\n",
       "    <tr>\n",
       "      <th>4</th>\n",
       "      <td>positive</td>\n",
       "      <td>phone great every purpose offers except day bo...</td>\n",
       "    </tr>\n",
       "    <tr>\n",
       "      <th>...</th>\n",
       "      <td>...</td>\n",
       "      <td>...</td>\n",
       "    </tr>\n",
       "    <tr>\n",
       "      <th>72175</th>\n",
       "      <td>NaN</td>\n",
       "      <td>b</td>\n",
       "    </tr>\n",
       "    <tr>\n",
       "      <th>72176</th>\n",
       "      <td>$\u0003vþh;ÛµfæKfy÷Dv2\u0013&lt;ò&amp;\u0017Àâ\u001c",
       "Iãß\u0019Û&gt;Ó¡¥(dÚê÷Öñê...</td>\n",
       "      <td>js</td>\n",
       "    </tr>\n",
       "    <tr>\n",
       "      <th>72177</th>\n",
       "      <td>NaN</td>\n",
       "      <td>bn\u001agg\u0013\u0001kgfacy\u0012</td>\n",
       "    </tr>\n",
       "    <tr>\n",
       "      <th>72178</th>\n",
       "      <td>NaN</td>\n",
       "      <td>e\u0017\u0013xpealk</td>\n",
       "    </tr>\n",
       "    <tr>\n",
       "      <th>72179</th>\n",
       "      <td>Âè¥Ç8\u0003Õ£Ãä</td>\n",
       "      <td>b\u0007 r\u0006\u0016</td>\n",
       "    </tr>\n",
       "  </tbody>\n",
       "</table>\n",
       "<p>72180 rows × 2 columns</p>\n",
       "</div>"
      ],
      "text/plain": [
       "                                                decision  \\\n",
       "0                                               positive   \n",
       "1                                               positive   \n",
       "2                                               positive   \n",
       "3                                               positive   \n",
       "4                                               positive   \n",
       "...                                                  ...   \n",
       "72175                                                NaN   \n",
       "72176  $\u0003vþh;ÛµfæKfy÷Dv2\u0013<ò&\u0017Àâ\n",
       "Iãß\u0019Û>Ó¡¥(dÚê÷Öñê...   \n",
       "72177                                                NaN   \n",
       "72178                                                NaN   \n",
       "72179                                        Âè¥Ç8\u0003Õ£Ãä   \n",
       "\n",
       "                                         cleanedreview_2  \n",
       "0      samsung awhile absolute doo doo read review de...  \n",
       "1      due software issue nokia sprint phones text me...  \n",
       "2      great reliable phone also purchased phone sams...  \n",
       "3      love phone really need one didnt expect price ...  \n",
       "4      phone great every purpose offers except day bo...  \n",
       "...                                                  ...  \n",
       "72175                                                  b  \n",
       "72176                                                 js  \n",
       "72177                                     bn\u001agg\u0013\u0001kgfacy\u0012  \n",
       "72178                                         e\u0017\u0013xpealk  \n",
       "72179                                             b\u0007 r\u0006\u0016  \n",
       "\n",
       "[72180 rows x 2 columns]"
      ]
     },
     "execution_count": 31,
     "metadata": {},
     "output_type": "execute_result"
    }
   ],
   "source": [
    "data"
   ]
  },
  {
   "cell_type": "code",
   "execution_count": 32,
   "id": "ef03f59d-6cb4-4269-aacb-2525b8832a73",
   "metadata": {},
   "outputs": [],
   "source": [
    "def contraction_to_expansion(text):\n",
    "    text = re.sub(\"didn't\", \"did not\", text)\n",
    "    text = re.sub(\"don't\", \"do not\", text)\n",
    "    text = re.sub(\"won't\", \"will not\", text)\n",
    "    text = re.sub(\"can't\", \"can not\", text)\n",
    "    text = re.sub(\"\\'ve\", \" have\", text)\n",
    "    text = re.sub(\"\\'ll\", \" will\", text)\n",
    "    text = re.sub(\"\\'re\", \" are\", text)\n",
    "    text = re.sub(\"\\'s\", \" is\", text)\n",
    "    text = re.sub(\"\\'d\", \" would\", text)\n",
    "    text = re.sub(\"\\'m\", \" am\", text)\n",
    "    text = re.sub(\"\\'t\", \" not\", text)\n",
    "\n",
    "    return text"
   ]
  },
  {
   "cell_type": "code",
   "execution_count": 33,
   "id": "3d2b4afc-0803-4eb9-a995-6c0a143708c0",
   "metadata": {},
   "outputs": [],
   "source": [
    "uncleaned = [i  for i in data.cleanedreview_2]     #list of uncleaned reviews \n",
    "cleaned = []    #list of cleaned reviews\n",
    "\n",
    "for i in uncleaned:\n",
    "    try: \n",
    "        creview = contraction_to_expansion(i)   #calling function removepuctuation() that returnn a string\n",
    "        if len(creview) == 0: raise()\n",
    "        cleaned.append(creview)\n",
    "    except: \n",
    "        cleaned.append(\"NAN\")     "
   ]
  },
  {
   "cell_type": "code",
   "execution_count": 34,
   "id": "ebf70056-48cb-42b3-b5cb-f44fda9a960f",
   "metadata": {},
   "outputs": [
    {
     "name": "stdout",
     "output_type": "stream",
     "text": [
      "(72180, 3)\n"
     ]
    }
   ],
   "source": [
    "data['cleanedreview_3'] = cleaned    #attaching the cleaned reviews as a new column to the dataset\n",
    "print(data.shape)"
   ]
  },
  {
   "cell_type": "code",
   "execution_count": 35,
   "id": "9ab43e7e-bb68-47f5-9a66-b943157fa948",
   "metadata": {},
   "outputs": [
    {
     "name": "stdout",
     "output_type": "stream",
     "text": [
      "(72126, 3)\n",
      "(72126, 3)\n",
      "(72126, 3)\n"
     ]
    }
   ],
   "source": [
    "#deleting rows that have only special symbols\n",
    "\n",
    "data.drop(data[data[\"cleanedreview_3\"]==\"NAN\"].index, axis = 0, inplace = True)    #deleting rows that have cleanedreview as NAN\n",
    "print(data.shape)\n",
    "data.reset_index(drop = True, inplace=True)   #after deleting rows index should be reset\n",
    "print(data.shape)\n",
    "data = data.dropna(how='all')\n",
    "print(data.shape)"
   ]
  },
  {
   "cell_type": "code",
   "execution_count": 36,
   "id": "4385ee56-9284-4000-96db-971913b460ee",
   "metadata": {},
   "outputs": [
    {
     "name": "stdout",
     "output_type": "stream",
     "text": [
      "(72115, 3)\n"
     ]
    }
   ],
   "source": [
    "data['decision'] = data['decision'].replace('positive',1)\n",
    "data['decision'] = data['decision'].replace('negative',0)\n",
    "data = data.dropna(subset=['decision'])\n",
    "print(data.shape)"
   ]
  },
  {
   "cell_type": "code",
   "execution_count": 37,
   "id": "ec7c82e4-76c5-445b-9d13-150aba35566e",
   "metadata": {},
   "outputs": [],
   "source": [
    "uncleaned_des = [i  for i in data.decision]     #list of uncleaned reviews \n",
    "cleaned_des = []    #list of cleaned reviews\n",
    "\n",
    "for i in uncleaned_des:\n",
    "    if type(i) == int: \n",
    "        cleaned_des.append(i)\n",
    "    else:\n",
    "        cleaned_des.append(\"NAN\") "
   ]
  },
  {
   "cell_type": "code",
   "execution_count": 38,
   "id": "cec9dc9e-9bcf-4de2-9b26-2a70f38ef40b",
   "metadata": {},
   "outputs": [
    {
     "name": "stdout",
     "output_type": "stream",
     "text": [
      "(72115, 4)\n"
     ]
    }
   ],
   "source": [
    "data['decision_2'] = cleaned_des    #attaching the cleaned decision as a new column to the dataset\n",
    "print(data.shape)"
   ]
  },
  {
   "cell_type": "code",
   "execution_count": 39,
   "id": "e1c45732-f926-4e75-a52f-5ef027544fa4",
   "metadata": {},
   "outputs": [
    {
     "name": "stdout",
     "output_type": "stream",
     "text": [
      "(71909, 4)\n",
      "(71909, 4)\n",
      "(71909, 4)\n"
     ]
    }
   ],
   "source": [
    "#deleting rows that have only special symbols in decision\n",
    "\n",
    "data.drop(data[data[\"decision_2\"]==\"NAN\"].index, axis = 0, inplace = True)    #deleting rows that have cleanedreview as NAN\n",
    "print(data.shape)\n",
    "data.reset_index(drop = True, inplace=True)   #after deleting rows index should be reset\n",
    "print(data.shape)\n",
    "data = data.dropna(how='all')\n",
    "print(data.shape)"
   ]
  },
  {
   "cell_type": "code",
   "execution_count": 40,
   "id": "e9015d52-e2aa-4858-873f-c5b6b38b0153",
   "metadata": {},
   "outputs": [
    {
     "data": {
      "text/html": [
       "<div>\n",
       "<style scoped>\n",
       "    .dataframe tbody tr th:only-of-type {\n",
       "        vertical-align: middle;\n",
       "    }\n",
       "\n",
       "    .dataframe tbody tr th {\n",
       "        vertical-align: top;\n",
       "    }\n",
       "\n",
       "    .dataframe thead th {\n",
       "        text-align: right;\n",
       "    }\n",
       "</style>\n",
       "<table border=\"1\" class=\"dataframe\">\n",
       "  <thead>\n",
       "    <tr style=\"text-align: right;\">\n",
       "      <th></th>\n",
       "      <th>decision</th>\n",
       "      <th>cleanedreview_2</th>\n",
       "      <th>cleanedreview_3</th>\n",
       "      <th>decision_2</th>\n",
       "    </tr>\n",
       "  </thead>\n",
       "  <tbody>\n",
       "    <tr>\n",
       "      <th>0</th>\n",
       "      <td>1</td>\n",
       "      <td>samsung awhile absolute doo doo read review de...</td>\n",
       "      <td>samsung awhile absolute doo doo read review de...</td>\n",
       "      <td>1</td>\n",
       "    </tr>\n",
       "    <tr>\n",
       "      <th>1</th>\n",
       "      <td>1</td>\n",
       "      <td>due software issue nokia sprint phones text me...</td>\n",
       "      <td>due software issue nokia sprint phones text me...</td>\n",
       "      <td>1</td>\n",
       "    </tr>\n",
       "    <tr>\n",
       "      <th>2</th>\n",
       "      <td>1</td>\n",
       "      <td>great reliable phone also purchased phone sams...</td>\n",
       "      <td>great reliable phone also purchased phone sams...</td>\n",
       "      <td>1</td>\n",
       "    </tr>\n",
       "    <tr>\n",
       "      <th>3</th>\n",
       "      <td>1</td>\n",
       "      <td>love phone really need one didnt expect price ...</td>\n",
       "      <td>love phone really need one didnt expect price ...</td>\n",
       "      <td>1</td>\n",
       "    </tr>\n",
       "    <tr>\n",
       "      <th>4</th>\n",
       "      <td>1</td>\n",
       "      <td>phone great every purpose offers except day bo...</td>\n",
       "      <td>phone great every purpose offers except day bo...</td>\n",
       "      <td>1</td>\n",
       "    </tr>\n",
       "    <tr>\n",
       "      <th>...</th>\n",
       "      <td>...</td>\n",
       "      <td>...</td>\n",
       "      <td>...</td>\n",
       "      <td>...</td>\n",
       "    </tr>\n",
       "    <tr>\n",
       "      <th>71904</th>\n",
       "      <td>1</td>\n",
       "      <td>wish could give positive experience</td>\n",
       "      <td>wish could give positive experience</td>\n",
       "      <td>1</td>\n",
       "    </tr>\n",
       "    <tr>\n",
       "      <th>71905</th>\n",
       "      <td>1</td>\n",
       "      <td>loved</td>\n",
       "      <td>loved</td>\n",
       "      <td>1</td>\n",
       "    </tr>\n",
       "    <tr>\n",
       "      <th>71906</th>\n",
       "      <td>1</td>\n",
       "      <td>best forever</td>\n",
       "      <td>best forever</td>\n",
       "      <td>1</td>\n",
       "    </tr>\n",
       "    <tr>\n",
       "      <th>71907</th>\n",
       "      <td>1</td>\n",
       "      <td>little bit scared purchase given one star revi...</td>\n",
       "      <td>little bit scared purchase given one star revi...</td>\n",
       "      <td>1</td>\n",
       "    </tr>\n",
       "    <tr>\n",
       "      <th>71908</th>\n",
       "      <td>1</td>\n",
       "      <td>good phone</td>\n",
       "      <td>good phone</td>\n",
       "      <td>1</td>\n",
       "    </tr>\n",
       "  </tbody>\n",
       "</table>\n",
       "<p>71909 rows × 4 columns</p>\n",
       "</div>"
      ],
      "text/plain": [
       "      decision                                    cleanedreview_2  \\\n",
       "0            1  samsung awhile absolute doo doo read review de...   \n",
       "1            1  due software issue nokia sprint phones text me...   \n",
       "2            1  great reliable phone also purchased phone sams...   \n",
       "3            1  love phone really need one didnt expect price ...   \n",
       "4            1  phone great every purpose offers except day bo...   \n",
       "...        ...                                                ...   \n",
       "71904        1                wish could give positive experience   \n",
       "71905        1                                              loved   \n",
       "71906        1                                       best forever   \n",
       "71907        1  little bit scared purchase given one star revi...   \n",
       "71908        1                                         good phone   \n",
       "\n",
       "                                         cleanedreview_3 decision_2  \n",
       "0      samsung awhile absolute doo doo read review de...          1  \n",
       "1      due software issue nokia sprint phones text me...          1  \n",
       "2      great reliable phone also purchased phone sams...          1  \n",
       "3      love phone really need one didnt expect price ...          1  \n",
       "4      phone great every purpose offers except day bo...          1  \n",
       "...                                                  ...        ...  \n",
       "71904                wish could give positive experience          1  \n",
       "71905                                              loved          1  \n",
       "71906                                       best forever          1  \n",
       "71907  little bit scared purchase given one star revi...          1  \n",
       "71908                                         good phone          1  \n",
       "\n",
       "[71909 rows x 4 columns]"
      ]
     },
     "execution_count": 40,
     "metadata": {},
     "output_type": "execute_result"
    }
   ],
   "source": [
    "data"
   ]
  },
  {
   "cell_type": "code",
   "execution_count": 41,
   "id": "ccd3a671-a1f4-4cd3-b050-70aa9e115be2",
   "metadata": {},
   "outputs": [
    {
     "name": "stdout",
     "output_type": "stream",
     "text": [
      "(71909, 2)\n"
     ]
    }
   ],
   "source": [
    "data.drop(['cleanedreview_2','decision'], axis=1,inplace=True)\n",
    "print(data.shape)"
   ]
  },
  {
   "cell_type": "code",
   "execution_count": 42,
   "id": "5e02f727-0406-40ac-8dee-2e2a7aa8b620",
   "metadata": {},
   "outputs": [
    {
     "data": {
      "text/html": [
       "<div>\n",
       "<style scoped>\n",
       "    .dataframe tbody tr th:only-of-type {\n",
       "        vertical-align: middle;\n",
       "    }\n",
       "\n",
       "    .dataframe tbody tr th {\n",
       "        vertical-align: top;\n",
       "    }\n",
       "\n",
       "    .dataframe thead th {\n",
       "        text-align: right;\n",
       "    }\n",
       "</style>\n",
       "<table border=\"1\" class=\"dataframe\">\n",
       "  <thead>\n",
       "    <tr style=\"text-align: right;\">\n",
       "      <th></th>\n",
       "      <th>cleanedreview_3</th>\n",
       "      <th>decision_2</th>\n",
       "    </tr>\n",
       "  </thead>\n",
       "  <tbody>\n",
       "    <tr>\n",
       "      <th>0</th>\n",
       "      <td>samsung awhile absolute doo doo read review de...</td>\n",
       "      <td>1</td>\n",
       "    </tr>\n",
       "    <tr>\n",
       "      <th>1</th>\n",
       "      <td>due software issue nokia sprint phones text me...</td>\n",
       "      <td>1</td>\n",
       "    </tr>\n",
       "    <tr>\n",
       "      <th>2</th>\n",
       "      <td>great reliable phone also purchased phone sams...</td>\n",
       "      <td>1</td>\n",
       "    </tr>\n",
       "    <tr>\n",
       "      <th>3</th>\n",
       "      <td>love phone really need one didnt expect price ...</td>\n",
       "      <td>1</td>\n",
       "    </tr>\n",
       "    <tr>\n",
       "      <th>4</th>\n",
       "      <td>phone great every purpose offers except day bo...</td>\n",
       "      <td>1</td>\n",
       "    </tr>\n",
       "    <tr>\n",
       "      <th>...</th>\n",
       "      <td>...</td>\n",
       "      <td>...</td>\n",
       "    </tr>\n",
       "    <tr>\n",
       "      <th>71904</th>\n",
       "      <td>wish could give positive experience</td>\n",
       "      <td>1</td>\n",
       "    </tr>\n",
       "    <tr>\n",
       "      <th>71905</th>\n",
       "      <td>loved</td>\n",
       "      <td>1</td>\n",
       "    </tr>\n",
       "    <tr>\n",
       "      <th>71906</th>\n",
       "      <td>best forever</td>\n",
       "      <td>1</td>\n",
       "    </tr>\n",
       "    <tr>\n",
       "      <th>71907</th>\n",
       "      <td>little bit scared purchase given one star revi...</td>\n",
       "      <td>1</td>\n",
       "    </tr>\n",
       "    <tr>\n",
       "      <th>71908</th>\n",
       "      <td>good phone</td>\n",
       "      <td>1</td>\n",
       "    </tr>\n",
       "  </tbody>\n",
       "</table>\n",
       "<p>71909 rows × 2 columns</p>\n",
       "</div>"
      ],
      "text/plain": [
       "                                         cleanedreview_3 decision_2\n",
       "0      samsung awhile absolute doo doo read review de...          1\n",
       "1      due software issue nokia sprint phones text me...          1\n",
       "2      great reliable phone also purchased phone sams...          1\n",
       "3      love phone really need one didnt expect price ...          1\n",
       "4      phone great every purpose offers except day bo...          1\n",
       "...                                                  ...        ...\n",
       "71904                wish could give positive experience          1\n",
       "71905                                              loved          1\n",
       "71906                                       best forever          1\n",
       "71907  little bit scared purchase given one star revi...          1\n",
       "71908                                         good phone          1\n",
       "\n",
       "[71909 rows x 2 columns]"
      ]
     },
     "execution_count": 42,
     "metadata": {},
     "output_type": "execute_result"
    }
   ],
   "source": [
    "data"
   ]
  },
  {
   "cell_type": "code",
   "execution_count": 43,
   "id": "accbd94d-f7a5-4e13-8063-3aaa121adee4",
   "metadata": {},
   "outputs": [],
   "source": [
    "data.to_csv('AmazonMobileDataCleaned3.csv', index = None) "
   ]
  },
  {
   "cell_type": "code",
   "execution_count": 53,
   "id": "d4d829bb-557e-4627-8600-2af2e6ea8ab5",
   "metadata": {},
   "outputs": [
    {
     "data": {
      "text/plain": [
       "(71909, 2)"
      ]
     },
     "execution_count": 53,
     "metadata": {},
     "output_type": "execute_result"
    }
   ],
   "source": [
    "datafile = pd.read_csv('AmazonMobileDataCleaned3.csv')   #reading the cleaned dataset\n",
    "\n",
    "label = datafile['decision_2'].values   #  output y is separated in a list called as label\n",
    "feedback = datafile.drop(['decision_2'], axis = 1)    #input x is separated in form of Dataframe only called as data \n",
    "datafile.shape"
   ]
  },
  {
   "cell_type": "code",
   "execution_count": 54,
   "id": "89bf99a9-9725-477a-baf5-1e8d2c5aa0eb",
   "metadata": {},
   "outputs": [
    {
     "data": {
      "text/plain": [
       "numpy.ndarray"
      ]
     },
     "execution_count": 54,
     "metadata": {},
     "output_type": "execute_result"
    }
   ],
   "source": [
    "type(label)"
   ]
  },
  {
   "cell_type": "code",
   "execution_count": 55,
   "id": "29f093f7-2ac8-4342-8d78-b9ca1976db38",
   "metadata": {},
   "outputs": [
    {
     "data": {
      "text/plain": [
       "pandas.core.frame.DataFrame"
      ]
     },
     "execution_count": 55,
     "metadata": {},
     "output_type": "execute_result"
    }
   ],
   "source": [
    "type(feedback)"
   ]
  },
  {
   "cell_type": "code",
   "execution_count": null,
   "id": "ee75643d-fe4d-4125-a9ec-c236ddf15d5a",
   "metadata": {},
   "outputs": [],
   "source": []
  },
  {
   "cell_type": "code",
   "execution_count": 47,
   "id": "0e2e894c-5bea-48f1-a1fb-678f360917b2",
   "metadata": {},
   "outputs": [],
   "source": [
    "# split data into training, validation, testing data\n",
    "from sklearn.model_selection import train_test_split   #class to split data\n",
    "\n",
    "inputtrain, inputtest, outputtrain, outputtest = train_test_split(feedback, label, test_size = 0.2, stratify = label)\n",
    "inputtrain, inputcv, outputtrain, outputcv = train_test_split(inputtrain, outputtrain, test_size = 0.2, stratify = outputtrain)\n",
    "# cv = cross- validation"
   ]
  },
  {
   "cell_type": "code",
   "execution_count": 48,
   "id": "fca7b377-deed-41d1-8181-0069558f445d",
   "metadata": {},
   "outputs": [
    {
     "data": {
      "text/plain": [
       "(46021, 1)"
      ]
     },
     "execution_count": 48,
     "metadata": {},
     "output_type": "execute_result"
    }
   ],
   "source": [
    "inputtrain.shape"
   ]
  },
  {
   "cell_type": "code",
   "execution_count": 49,
   "id": "7a498aa9-aa7f-4025-8858-46877d86fe31",
   "metadata": {},
   "outputs": [
    {
     "data": {
      "text/plain": [
       "(46021,)"
      ]
     },
     "execution_count": 49,
     "metadata": {},
     "output_type": "execute_result"
    }
   ],
   "source": [
    "outputtrain.shape"
   ]
  },
  {
   "cell_type": "code",
   "execution_count": 50,
   "id": "36dd7874-b5a3-4e29-b7bf-a07903cdf576",
   "metadata": {},
   "outputs": [
    {
     "data": {
      "text/html": [
       "<div>\n",
       "<style scoped>\n",
       "    .dataframe tbody tr th:only-of-type {\n",
       "        vertical-align: middle;\n",
       "    }\n",
       "\n",
       "    .dataframe tbody tr th {\n",
       "        vertical-align: top;\n",
       "    }\n",
       "\n",
       "    .dataframe thead th {\n",
       "        text-align: right;\n",
       "    }\n",
       "</style>\n",
       "<table border=\"1\" class=\"dataframe\">\n",
       "  <thead>\n",
       "    <tr style=\"text-align: right;\">\n",
       "      <th></th>\n",
       "      <th>cleanedreview_3</th>\n",
       "    </tr>\n",
       "  </thead>\n",
       "  <tbody>\n",
       "    <tr>\n",
       "      <th>2911</th>\n",
       "      <td>got phone girlfriend nothing impressed wanted ...</td>\n",
       "    </tr>\n",
       "    <tr>\n",
       "      <th>4324</th>\n",
       "      <td>wow great price deal fisher great phone first ...</td>\n",
       "    </tr>\n",
       "    <tr>\n",
       "      <th>43576</th>\n",
       "      <td>concur reviews phone feels premium runs smooth...</td>\n",
       "    </tr>\n",
       "    <tr>\n",
       "      <th>28508</th>\n",
       "      <td>edge att version full bloatware buy asia unloc...</td>\n",
       "    </tr>\n",
       "    <tr>\n",
       "      <th>62936</th>\n",
       "      <td>love huawei phones love way phone handles char...</td>\n",
       "    </tr>\n",
       "    <tr>\n",
       "      <th>...</th>\n",
       "      <td>...</td>\n",
       "    </tr>\n",
       "    <tr>\n",
       "      <th>49357</th>\n",
       "      <td>thanks</td>\n",
       "    </tr>\n",
       "    <tr>\n",
       "      <th>25946</th>\n",
       "      <td>phone not unlocked thank nothing</td>\n",
       "    </tr>\n",
       "    <tr>\n",
       "      <th>25268</th>\n",
       "      <td>worked awesome</td>\n",
       "    </tr>\n",
       "    <tr>\n",
       "      <th>24644</th>\n",
       "      <td>phone started acting shutting time battery lif...</td>\n",
       "    </tr>\n",
       "    <tr>\n",
       "      <th>69835</th>\n",
       "      <td>perfect conditions</td>\n",
       "    </tr>\n",
       "  </tbody>\n",
       "</table>\n",
       "<p>46021 rows × 1 columns</p>\n",
       "</div>"
      ],
      "text/plain": [
       "                                         cleanedreview_3\n",
       "2911   got phone girlfriend nothing impressed wanted ...\n",
       "4324   wow great price deal fisher great phone first ...\n",
       "43576  concur reviews phone feels premium runs smooth...\n",
       "28508  edge att version full bloatware buy asia unloc...\n",
       "62936  love huawei phones love way phone handles char...\n",
       "...                                                  ...\n",
       "49357                                             thanks\n",
       "25946                   phone not unlocked thank nothing\n",
       "25268                                     worked awesome\n",
       "24644  phone started acting shutting time battery lif...\n",
       "69835                                 perfect conditions\n",
       "\n",
       "[46021 rows x 1 columns]"
      ]
     },
     "execution_count": 50,
     "metadata": {},
     "output_type": "execute_result"
    }
   ],
   "source": [
    "inputtrain"
   ]
  },
  {
   "cell_type": "code",
   "execution_count": 51,
   "id": "05fb7d15-3a75-4c58-b577-79a79c83c9c3",
   "metadata": {},
   "outputs": [],
   "source": [
    "# convert ...\n",
    "\n",
    "from sklearn.feature_extraction.text import CountVectorizer  \n",
    "\n",
    "vec = CountVectorizer(min_df = 10, ngram_range=(1,3))\n",
    "vec.fit(inputtrain['cleanedreview_3'].values)\n",
    "\n",
    "#vec.transform(feedback['cleanedreview_3'].values)\n",
    "\n",
    "inputtrain = vec.transform(inputtrain['cleanedreview_3'].values)  \n",
    "inputcv = vec.transform(inputcv['cleanedreview_3'].values)\n",
    "inputtest = vec.transform(inputtest['cleanedreview_3'].values)"
   ]
  },
  {
   "cell_type": "code",
   "execution_count": 52,
   "id": "2567e711-43c6-423b-b6ea-8342e82c6ecb",
   "metadata": {},
   "outputs": [
    {
     "data": {
      "text/plain": [
       "(14382, 23246)"
      ]
     },
     "execution_count": 52,
     "metadata": {},
     "output_type": "execute_result"
    }
   ],
   "source": [
    "inputtest.shape"
   ]
  },
  {
   "cell_type": "code",
   "execution_count": null,
   "id": "980b53f8-b7ad-40af-b09b-7e552255cda1",
   "metadata": {},
   "outputs": [],
   "source": []
  },
  {
   "cell_type": "code",
   "execution_count": null,
   "id": "7602cab0-0b25-47be-94a0-6ad47ac2b193",
   "metadata": {},
   "outputs": [],
   "source": []
  }
 ],
 "metadata": {
  "kernelspec": {
   "display_name": "Python 3 (ipykernel)",
   "language": "python",
   "name": "python3"
  },
  "language_info": {
   "codemirror_mode": {
    "name": "ipython",
    "version": 3
   },
   "file_extension": ".py",
   "mimetype": "text/x-python",
   "name": "python",
   "nbconvert_exporter": "python",
   "pygments_lexer": "ipython3",
   "version": "3.12.3"
  }
 },
 "nbformat": 4,
 "nbformat_minor": 5
}
