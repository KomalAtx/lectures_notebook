{
 "cells": [
  {
   "cell_type": "code",
   "execution_count": 31,
   "id": "4894a0b2-f4ce-4623-9591-406ce626c1f1",
   "metadata": {},
   "outputs": [],
   "source": [
    "import pandas as pd\n",
    "from sklearn.feature_extraction.text import CountVectorizer"
   ]
  },
  {
   "cell_type": "code",
   "execution_count": 32,
   "id": "2b035132-7d9c-45f7-ab3b-2eb6c919a951",
   "metadata": {},
   "outputs": [],
   "source": [
    "list_feedbacks = ['this mobile is good', 'this mobile is not good', 'this mobile works fine and affordable', 'this mobile is cheap and is best']"
   ]
  },
  {
   "cell_type": "code",
   "execution_count": 33,
   "id": "fdead895-cd0e-42f2-ab06-3c902b73e4d3",
   "metadata": {},
   "outputs": [
    {
     "data": {
      "text/plain": [
       "['this mobile is good',\n",
       " 'this mobile is not good',\n",
       " 'this mobile works fine and affordable',\n",
       " 'this mobile is cheap and is best']"
      ]
     },
     "execution_count": 33,
     "metadata": {},
     "output_type": "execute_result"
    }
   ],
   "source": [
    "list_feedbacks"
   ]
  },
  {
   "cell_type": "code",
   "execution_count": 34,
   "id": "cacfe204-417b-4fa3-acd3-00126fd33481",
   "metadata": {},
   "outputs": [],
   "source": [
    "dict = {'review': ['this mobile is good', 'this mobile is not good', 'this mobile works fine and affordable', 'this mobile is cheap and is best']}"
   ]
  },
  {
   "cell_type": "code",
   "execution_count": 35,
   "id": "287d65f4-a71c-492f-aaac-af71eb645b2b",
   "metadata": {},
   "outputs": [],
   "source": [
    "Data = pd.DataFrame(dict)"
   ]
  },
  {
   "cell_type": "code",
   "execution_count": 36,
   "id": "a30ad92a-bf8d-44c2-bb2a-31574988e76c",
   "metadata": {},
   "outputs": [
    {
     "data": {
      "text/html": [
       "<div>\n",
       "<style scoped>\n",
       "    .dataframe tbody tr th:only-of-type {\n",
       "        vertical-align: middle;\n",
       "    }\n",
       "\n",
       "    .dataframe tbody tr th {\n",
       "        vertical-align: top;\n",
       "    }\n",
       "\n",
       "    .dataframe thead th {\n",
       "        text-align: right;\n",
       "    }\n",
       "</style>\n",
       "<table border=\"1\" class=\"dataframe\">\n",
       "  <thead>\n",
       "    <tr style=\"text-align: right;\">\n",
       "      <th></th>\n",
       "      <th>review</th>\n",
       "    </tr>\n",
       "  </thead>\n",
       "  <tbody>\n",
       "    <tr>\n",
       "      <th>0</th>\n",
       "      <td>this mobile is good</td>\n",
       "    </tr>\n",
       "    <tr>\n",
       "      <th>1</th>\n",
       "      <td>this mobile is not good</td>\n",
       "    </tr>\n",
       "    <tr>\n",
       "      <th>2</th>\n",
       "      <td>this mobile works fine and affordable</td>\n",
       "    </tr>\n",
       "    <tr>\n",
       "      <th>3</th>\n",
       "      <td>this mobile is cheap and is best</td>\n",
       "    </tr>\n",
       "  </tbody>\n",
       "</table>\n",
       "</div>"
      ],
      "text/plain": [
       "                                  review\n",
       "0                    this mobile is good\n",
       "1                this mobile is not good\n",
       "2  this mobile works fine and affordable\n",
       "3       this mobile is cheap and is best"
      ]
     },
     "execution_count": 36,
     "metadata": {},
     "output_type": "execute_result"
    }
   ],
   "source": [
    "Data"
   ]
  },
  {
   "cell_type": "code",
   "execution_count": 53,
   "id": "12ebb137-855f-43ae-b7ab-533aad02bc5d",
   "metadata": {},
   "outputs": [],
   "source": [
    "x = CountVectorizer(ngram_range=(1,2)).fit_transform(Data['review'].values)"
   ]
  },
  {
   "cell_type": "code",
   "execution_count": 54,
   "id": "9ef1cc9e-620f-4ca6-bc00-75c6843ecf6e",
   "metadata": {},
   "outputs": [
    {
     "data": {
      "text/plain": [
       "<4x24 sparse matrix of type '<class 'numpy.int64'>'\n",
       "\twith 39 stored elements in Compressed Sparse Row format>"
      ]
     },
     "execution_count": 54,
     "metadata": {},
     "output_type": "execute_result"
    }
   ],
   "source": [
    "x"
   ]
  },
  {
   "cell_type": "code",
   "execution_count": 55,
   "id": "8f013aba-0de0-42fd-8867-b4e0b90773f4",
   "metadata": {},
   "outputs": [
    {
     "data": {
      "text/plain": [
       "array([[0, 0, 0, 0, 0, 0, 0, 0, 0, 1, 1, 0, 0, 1, 0, 1, 1, 0, 0, 0, 1, 1,\n",
       "        0, 0],\n",
       "       [0, 0, 0, 0, 0, 0, 0, 0, 0, 1, 1, 0, 0, 0, 1, 1, 1, 0, 1, 1, 1, 1,\n",
       "        0, 0],\n",
       "       [1, 1, 1, 0, 0, 0, 0, 1, 1, 0, 0, 0, 0, 0, 0, 1, 0, 1, 0, 0, 1, 1,\n",
       "        1, 1],\n",
       "       [0, 1, 0, 1, 1, 1, 1, 0, 0, 0, 2, 1, 1, 0, 0, 1, 1, 0, 0, 0, 1, 1,\n",
       "        0, 0]])"
      ]
     },
     "execution_count": 55,
     "metadata": {},
     "output_type": "execute_result"
    }
   ],
   "source": [
    "x.toarray()"
   ]
  },
  {
   "cell_type": "code",
   "execution_count": 56,
   "id": "bac9a07e-3022-4615-aeb0-b51e1876ff5b",
   "metadata": {},
   "outputs": [],
   "source": [
    "v = CountVectorizer(ngram_range=(1,2)).fit(Data['review'].values)"
   ]
  },
  {
   "cell_type": "code",
   "execution_count": 57,
   "id": "0e6f79e1-192c-4c69-8ee9-e0e2e4665f62",
   "metadata": {},
   "outputs": [
    {
     "data": {
      "text/plain": [
       "array(['affordable', 'and', 'and affordable', 'and is', 'best', 'cheap',\n",
       "       'cheap and', 'fine', 'fine and', 'good', 'is', 'is best',\n",
       "       'is cheap', 'is good', 'is not', 'mobile', 'mobile is',\n",
       "       'mobile works', 'not', 'not good', 'this', 'this mobile', 'works',\n",
       "       'works fine'], dtype=object)"
      ]
     },
     "execution_count": 57,
     "metadata": {},
     "output_type": "execute_result"
    }
   ],
   "source": [
    "v.get_feature_names_out()"
   ]
  },
  {
   "cell_type": "code",
   "execution_count": null,
   "id": "483ad950-add0-44d0-9da4-e9f2bd9ed6e2",
   "metadata": {},
   "outputs": [],
   "source": []
  }
 ],
 "metadata": {
  "kernelspec": {
   "display_name": "Python 3 (ipykernel)",
   "language": "python",
   "name": "python3"
  },
  "language_info": {
   "codemirror_mode": {
    "name": "ipython",
    "version": 3
   },
   "file_extension": ".py",
   "mimetype": "text/x-python",
   "name": "python",
   "nbconvert_exporter": "python",
   "pygments_lexer": "ipython3",
   "version": "3.10.12"
  }
 },
 "nbformat": 4,
 "nbformat_minor": 5
}
