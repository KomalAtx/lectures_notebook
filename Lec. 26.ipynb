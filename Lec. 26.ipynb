{
 "cells": [
  {
   "cell_type": "code",
   "execution_count": 51,
   "id": "9ff3383a-9b1e-44eb-9e44-8ac32bebc1f0",
   "metadata": {},
   "outputs": [],
   "source": [
    "from nltk.stem.snowball import SnowballStemmer\n",
    "import pandas as pd"
   ]
  },
  {
   "cell_type": "code",
   "execution_count": 52,
   "id": "da174eb6-d703-4b93-8f06-739f3967eb5d",
   "metadata": {},
   "outputs": [],
   "source": [
    "p = ['university', 'universal', 'alumni', 'alumnus', 'flies', 'dies','died','mules','humbled']   #list"
   ]
  },
  {
   "cell_type": "code",
   "execution_count": 53,
   "id": "c305f0ae-9441-4995-99dd-f1b9bbe17ee5",
   "metadata": {},
   "outputs": [],
   "source": [
    "s = [SnowballStemmer(\"english\").stem(i) for i in p]      #stemmed list"
   ]
  },
  {
   "cell_type": "code",
   "execution_count": 54,
   "id": "85805d80-5110-495c-82c9-17029ff8a720",
   "metadata": {},
   "outputs": [
    {
     "data": {
      "text/plain": [
       "['univers',\n",
       " 'univers',\n",
       " 'alumni',\n",
       " 'alumnus',\n",
       " 'fli',\n",
       " 'die',\n",
       " 'die',\n",
       " 'mule',\n",
       " 'humbl']"
      ]
     },
     "execution_count": 54,
     "metadata": {},
     "output_type": "execute_result"
    }
   ],
   "source": [
    "s     #printing list"
   ]
  },
  {
   "cell_type": "code",
   "execution_count": 55,
   "id": "414ff06d-1ce9-4a17-9927-84c78f2f387c",
   "metadata": {},
   "outputs": [],
   "source": [
    "t = ' '.join(s)    #putting all the stemmed words in a single string"
   ]
  },
  {
   "cell_type": "code",
   "execution_count": 56,
   "id": "f3a955b0-b3d5-4c6c-902d-28b9b1a5fae6",
   "metadata": {},
   "outputs": [
    {
     "data": {
      "text/plain": [
       "'univers univers alumni alumnus fli die die mule humbl'"
      ]
     },
     "execution_count": 56,
     "metadata": {},
     "output_type": "execute_result"
    }
   ],
   "source": [
    "t    #printing the string"
   ]
  },
  {
   "cell_type": "code",
   "execution_count": 57,
   "id": "4f98a823-bdb6-4856-9071-2c63bcbb895d",
   "metadata": {},
   "outputs": [],
   "source": [
    "# using dataframe"
   ]
  },
  {
   "cell_type": "code",
   "execution_count": 58,
   "id": "a7e3db33-d73c-41b5-bc7a-fbc41d011a29",
   "metadata": {},
   "outputs": [],
   "source": [
    "dict = {'words' : ['university', 'universal', 'alumni', 'alumnus', 'flies', 'dies','died','mules','humbled']}"
   ]
  },
  {
   "cell_type": "code",
   "execution_count": 59,
   "id": "3d2ef8c8-ade3-4e5e-a076-7ef890b8d949",
   "metadata": {},
   "outputs": [],
   "source": [
    "data = pd.DataFrame(dict)"
   ]
  },
  {
   "cell_type": "code",
   "execution_count": 60,
   "id": "4c96fb65-e632-4840-9417-163fc58a013e",
   "metadata": {},
   "outputs": [
    {
     "data": {
      "text/html": [
       "<div>\n",
       "<style scoped>\n",
       "    .dataframe tbody tr th:only-of-type {\n",
       "        vertical-align: middle;\n",
       "    }\n",
       "\n",
       "    .dataframe tbody tr th {\n",
       "        vertical-align: top;\n",
       "    }\n",
       "\n",
       "    .dataframe thead th {\n",
       "        text-align: right;\n",
       "    }\n",
       "</style>\n",
       "<table border=\"1\" class=\"dataframe\">\n",
       "  <thead>\n",
       "    <tr style=\"text-align: right;\">\n",
       "      <th></th>\n",
       "      <th>words</th>\n",
       "    </tr>\n",
       "  </thead>\n",
       "  <tbody>\n",
       "    <tr>\n",
       "      <th>0</th>\n",
       "      <td>university</td>\n",
       "    </tr>\n",
       "    <tr>\n",
       "      <th>1</th>\n",
       "      <td>universal</td>\n",
       "    </tr>\n",
       "    <tr>\n",
       "      <th>2</th>\n",
       "      <td>alumni</td>\n",
       "    </tr>\n",
       "    <tr>\n",
       "      <th>3</th>\n",
       "      <td>alumnus</td>\n",
       "    </tr>\n",
       "    <tr>\n",
       "      <th>4</th>\n",
       "      <td>flies</td>\n",
       "    </tr>\n",
       "    <tr>\n",
       "      <th>5</th>\n",
       "      <td>dies</td>\n",
       "    </tr>\n",
       "    <tr>\n",
       "      <th>6</th>\n",
       "      <td>died</td>\n",
       "    </tr>\n",
       "    <tr>\n",
       "      <th>7</th>\n",
       "      <td>mules</td>\n",
       "    </tr>\n",
       "    <tr>\n",
       "      <th>8</th>\n",
       "      <td>humbled</td>\n",
       "    </tr>\n",
       "  </tbody>\n",
       "</table>\n",
       "</div>"
      ],
      "text/plain": [
       "        words\n",
       "0  university\n",
       "1   universal\n",
       "2      alumni\n",
       "3     alumnus\n",
       "4       flies\n",
       "5        dies\n",
       "6        died\n",
       "7       mules\n",
       "8     humbled"
      ]
     },
     "execution_count": 60,
     "metadata": {},
     "output_type": "execute_result"
    }
   ],
   "source": [
    "data"
   ]
  },
  {
   "cell_type": "code",
   "execution_count": 61,
   "id": "7e344993-909a-408f-8424-2e329134b0bb",
   "metadata": {},
   "outputs": [],
   "source": [
    "x = [SnowballStemmer(\"english\").stem(i) for i in data[\"words\"].values]"
   ]
  },
  {
   "cell_type": "code",
   "execution_count": 62,
   "id": "42970bc5-fa24-4171-bf2c-ed58734e3eae",
   "metadata": {},
   "outputs": [
    {
     "data": {
      "text/plain": [
       "['univers',\n",
       " 'univers',\n",
       " 'alumni',\n",
       " 'alumnus',\n",
       " 'fli',\n",
       " 'die',\n",
       " 'die',\n",
       " 'mule',\n",
       " 'humbl']"
      ]
     },
     "execution_count": 62,
     "metadata": {},
     "output_type": "execute_result"
    }
   ],
   "source": [
    "x"
   ]
  },
  {
   "cell_type": "code",
   "execution_count": null,
   "id": "18d179b9-0f7b-4b6a-8aac-feb88a5a3eb6",
   "metadata": {},
   "outputs": [],
   "source": []
  }
 ],
 "metadata": {
  "kernelspec": {
   "display_name": "Python 3 (ipykernel)",
   "language": "python",
   "name": "python3"
  },
  "language_info": {
   "codemirror_mode": {
    "name": "ipython",
    "version": 3
   },
   "file_extension": ".py",
   "mimetype": "text/x-python",
   "name": "python",
   "nbconvert_exporter": "python",
   "pygments_lexer": "ipython3",
   "version": "3.10.12"
  }
 },
 "nbformat": 4,
 "nbformat_minor": 5
}
