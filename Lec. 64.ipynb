{
 "cells": [
  {
   "cell_type": "code",
   "execution_count": 1,
   "id": "60f572b8-f4d9-4b68-b99e-b820e88b8939",
   "metadata": {},
   "outputs": [],
   "source": [
    "import pandas as pd\n",
    "import re\n",
    "import string\n",
    "from nltk.stem.snowball import SnowballStemmer"
   ]
  },
  {
   "cell_type": "code",
   "execution_count": 2,
   "id": "b2314b18-0c4c-4664-8dde-a8d734d419d1",
   "metadata": {},
   "outputs": [
    {
     "name": "stdout",
     "output_type": "stream",
     "text": [
      "(2000, 2)\n"
     ]
    }
   ],
   "source": [
    "# Reading the cleaned data file into a DataFrame and checking the shape\n",
    "datafile = pd.read_csv('AmazonMobileDataCleaned3.csv', nrows = 2000)\n",
    "print(datafile.shape)"
   ]
  },
  {
   "cell_type": "code",
   "execution_count": 3,
   "id": "ba1bf7d3-ca90-41c5-a5dd-6dfa052415bc",
   "metadata": {},
   "outputs": [
    {
     "data": {
      "text/plain": [
       "(2000, 2)"
      ]
     },
     "execution_count": 3,
     "metadata": {},
     "output_type": "execute_result"
    }
   ],
   "source": [
    "#splitting label (output) and feedback(input)\n",
    "label = datafile['decision_2'].values   #  output y is separated in a list called as label\n",
    "feedback = datafile.drop(['decision_2'], axis = 1)    #input x is separated in form of Dataframe only called as data \n",
    "datafile.shape"
   ]
  },
  {
   "cell_type": "code",
   "execution_count": 4,
   "id": "1a053a65-6bdb-46ff-8df9-5865706fa0ef",
   "metadata": {},
   "outputs": [
    {
     "name": "stdout",
     "output_type": "stream",
     "text": [
      "<class 'numpy.ndarray'>\n",
      "(2000,)\n"
     ]
    },
    {
     "data": {
      "text/plain": [
       "(None, None)"
      ]
     },
     "execution_count": 4,
     "metadata": {},
     "output_type": "execute_result"
    }
   ],
   "source": [
    "print(type(label)), print(label.shape)"
   ]
  },
  {
   "cell_type": "code",
   "execution_count": 5,
   "id": "9c9d7566-49c5-4037-97d1-c3a1c1f5c38a",
   "metadata": {},
   "outputs": [
    {
     "name": "stdout",
     "output_type": "stream",
     "text": [
      "<class 'pandas.core.frame.DataFrame'>\n",
      "(2000, 1)\n"
     ]
    },
    {
     "data": {
      "text/plain": [
       "(None, None)"
      ]
     },
     "execution_count": 5,
     "metadata": {},
     "output_type": "execute_result"
    }
   ],
   "source": [
    "print(type(feedback)), print(feedback.shape)"
   ]
  },
  {
   "cell_type": "code",
   "execution_count": 6,
   "id": "2ad6411b-d821-4f99-af9c-7824d68ade33",
   "metadata": {},
   "outputs": [
    {
     "name": "stdout",
     "output_type": "stream",
     "text": [
      "printing shapes\n",
      "(1600, 1)\n",
      "(1600,)\n",
      "(400, 1)\n",
      "(400,)\n",
      "---------------\n",
      "printing types\n",
      "<class 'pandas.core.frame.DataFrame'>\n",
      "<class 'numpy.ndarray'>\n",
      "<class 'pandas.core.frame.DataFrame'>\n",
      "<class 'numpy.ndarray'>\n"
     ]
    }
   ],
   "source": [
    "# split data into training, testing data\n",
    "from sklearn.model_selection import train_test_split   #class to split data\n",
    "\n",
    "x_train, x_test, y_train, y_test = train_test_split(feedback, label, test_size = 0.2, stratify = label)\n",
    "print(\"printing shapes\")\n",
    "print(x_train.shape)\n",
    "print(y_train.shape)\n",
    "print(x_test.shape)\n",
    "print(y_test.shape)\n",
    "\n",
    "print(\"---------------\")\n",
    "print(\"printing types\")\n",
    "print(type(x_train))\n",
    "print(type(y_train))\n",
    "print(type(x_test))\n",
    "print(type(y_test))"
   ]
  },
  {
   "cell_type": "code",
   "execution_count": 7,
   "id": "58eb2400-5417-49eb-bb9b-357fda93577c",
   "metadata": {},
   "outputs": [
    {
     "name": "stdout",
     "output_type": "stream",
     "text": [
      "After Vectorization on input\n",
      "printing shapes\n",
      "(1600, 1118)\n",
      "(400, 1118)\n",
      "output remained the same\n",
      "(1600,)\n",
      "(400,)\n",
      "---------------\n",
      "printing types\n",
      "<class 'scipy.sparse._csr.csr_matrix'>\n",
      "<class 'scipy.sparse._csr.csr_matrix'>\n",
      "<class 'numpy.ndarray'>\n",
      "<class 'numpy.ndarray'>\n"
     ]
    }
   ],
   "source": [
    "# converting Cleaned texts (feedbacks)into Bag of Words\n",
    "from sklearn.feature_extraction.text import CountVectorizer  \n",
    "\n",
    "vec = CountVectorizer(min_df = 10, ngram_range=(1,3))\n",
    "vec.fit(x_train['cleanedreview_3'].values)  #fitting is done only on training data\n",
    "\n",
    "#vec.transform(feedback['cleanedreview_3'].values)\n",
    "\n",
    "x_train_processed = vec.transform(x_train['cleanedreview_3'].values)  #input = cleaned feedbacks\n",
    "x_test_processed = vec.transform(x_test['cleanedreview_3'].values)    #output = Decision (1, 0)\n",
    "\n",
    "print(\"After Vectorization on input\")\n",
    "print(\"printing shapes\")\n",
    "print(x_train_processed.shape)\n",
    "print(x_test_processed.shape)\n",
    "print(\"output remained the same\")\n",
    "print(y_train.shape)\n",
    "print(y_test.shape)\n",
    "\n",
    "print(\"---------------\")\n",
    "print(\"printing types\")\n",
    "print(type(x_train_processed))\n",
    "print(type(x_test_processed))\n",
    "print(type(y_train))\n",
    "print(type(y_test))"
   ]
  },
  {
   "cell_type": "code",
   "execution_count": 8,
   "id": "9e2f1fe8-fdd6-476f-9298-cca997ce312e",
   "metadata": {},
   "outputs": [],
   "source": [
    "### K- Nearest Neighbour"
   ]
  },
  {
   "cell_type": "code",
   "execution_count": 9,
   "id": "1ecdd506-e5ea-483f-9578-ef4713f96216",
   "metadata": {},
   "outputs": [],
   "source": [
    "# Packages required\n",
    "\n",
    "from sklearn import model_selection\n",
    "from sklearn.model_selection import GridSearchCV\n",
    "from sklearn.neighbors import KNeighborsClassifier\n",
    "import numpy as np\n",
    "import pandas as pd\n",
    "import matplotlib.pyplot as plt"
   ]
  },
  {
   "cell_type": "code",
   "execution_count": 12,
   "id": "34cbc0a3-9869-4f1e-8a94-e8bda8f2e8e6",
   "metadata": {},
   "outputs": [
    {
     "name": "stdout",
     "output_type": "stream",
     "text": [
      "Best Parameters: {'n_neighbors': 19}\n",
      "Best Score (Accuracy) on Training data: 0.6704112223542056\n",
      "Best Model : KNeighborsClassifier(n_jobs=-1, n_neighbors=19)\n",
      "Score (Accuracy) on Testing Data: 0.7725\n",
      "   mean_fit_time  std_fit_time  mean_score_time  std_score_time  \\\n",
      "0       0.001285      0.000845         0.034866        0.012063   \n",
      "1       0.000762      0.000140         0.031916        0.001095   \n",
      "2       0.000583      0.000041         0.030196        0.000515   \n",
      "3       0.000627      0.000062         0.029587        0.000454   \n",
      "4       0.000608      0.000090         0.030496        0.000714   \n",
      "5       0.000571      0.000032         0.030998        0.000607   \n",
      "6       0.000558      0.000032         0.030325        0.000585   \n",
      "7       0.000544      0.000007         0.037772        0.007013   \n",
      "8       0.000588      0.000094         0.030387        0.000769   \n",
      "\n",
      "   param_n_neighbors               params  split0_test_score  \\\n",
      "0                  1   {'n_neighbors': 1}           0.553425   \n",
      "1                  3   {'n_neighbors': 3}           0.604870   \n",
      "2                  5   {'n_neighbors': 5}           0.637168   \n",
      "3                  7   {'n_neighbors': 7}           0.654364   \n",
      "4                  9   {'n_neighbors': 9}           0.680412   \n",
      "5                 11  {'n_neighbors': 11}           0.686323   \n",
      "6                 15  {'n_neighbors': 15}           0.693789   \n",
      "7                 19  {'n_neighbors': 19}           0.682561   \n",
      "8                 21  {'n_neighbors': 21}           0.679563   \n",
      "\n",
      "   split1_test_score  split2_test_score  split3_test_score  split4_test_score  \\\n",
      "0           0.574580           0.562532           0.567538           0.628882   \n",
      "1           0.635613           0.575089           0.583715           0.645031   \n",
      "2           0.665422           0.602749           0.635132           0.655750   \n",
      "3           0.667374           0.618389           0.649273           0.680355   \n",
      "4           0.674020           0.617908           0.667515           0.688727   \n",
      "5           0.674812           0.608434           0.662707           0.700294   \n",
      "6           0.674586           0.628627           0.666044           0.684371   \n",
      "7           0.666752           0.643306           0.669184           0.690254   \n",
      "8           0.659257           0.646077           0.661548           0.691866   \n",
      "\n",
      "   mean_test_score  std_test_score  rank_test_score  \n",
      "0         0.577391        0.026651                9  \n",
      "1         0.608864        0.027614                8  \n",
      "2         0.639244        0.021498                7  \n",
      "3         0.653951        0.020804                6  \n",
      "4         0.665716        0.024913                5  \n",
      "5         0.666514        0.031592                4  \n",
      "6         0.669484        0.022448                2  \n",
      "7         0.670411        0.016068                1  \n",
      "8         0.667662        0.016133                3  \n"
     ]
    },
    {
     "data": {
      "image/png": "[encoded data removed]",
      "text/plain": [
       "<Figure size 640x480 with 1 Axes>"
      ]
     },
     "metadata": {},
     "output_type": "display_data"
    }
   ],
   "source": [
    "# Finding the Best Model (best combination of parameters)  \n",
    "\n",
    "# Initialize the estimator (K- Nearest Neighbours) \n",
    "# In the context of GridSearchCV, the estimator is the model whose hyperparameters you want to optimize\n",
    "knn = KNeighborsClassifier(n_jobs=-1) \n",
    "\n",
    "param_grid = {'n_neighbors' : [1, 3, 5, 7, 9, 11, 15, 19, 21]}   #hyper-parameter grid\n",
    "# Grid is a dictionary where Keys : hyperparameter names, Values : lists of possible values. \n",
    "# (here we have only k in hyper-parameters) \n",
    "\n",
    "# Different Models M1, M2 .... means same K- Nearest Neighbours model with different combinations of hyperparamters values\n",
    "\n",
    "# Seting up the GridSearchCV \n",
    "# GridSearchCV = a grid of Models M1, M2, M3.... (K- Nearest Neighbours models with all possible combinations of hyper-parameters)\n",
    "grid_search = GridSearchCV(knn, param_grid,scoring = 'roc_auc')\n",
    "\n",
    "# Fitting the grid of models M1, M2, M3.... on training data\n",
    "grid_search.fit(x_train_processed, y_train)\n",
    "\n",
    "# Print best parameters, best score and best model\n",
    "print(f\"Best Parameters: {grid_search.best_params_}\")\n",
    "print(f\"Best Score (Accuracy) on Training data: {grid_search.best_score_}\") # Score (accuracy) from best combination of parameters (on training data)\n",
    "print(f\"Best Model : {grid_search.best_estimator_}\")\n",
    "\n",
    "# Evaluating accuracy of the best model (best combination of parameters)on the testing data\n",
    "best_model = grid_search.best_estimator_\n",
    "print(f\"Score (Accuracy) on Testing Data: {best_model.score(x_test_processed, y_test)}\") # Score (accuracy) (on testing data)\n",
    "\n",
    "# Access the cv_results_ attribute ( cv_results_ attribute is a dictionary that contains detailed information about the results of the grid search)\n",
    "cv_results_df = pd.DataFrame.from_dict(grid_search.cv_results_)\n",
    "\n",
    "# Printing the cv_results_ in the form of a DataFrame\n",
    "cv_results_df = cv_results_df.sort_values(['param_n_neighbors'])\n",
    "print(cv_results_df)\n",
    "\n",
    "#train_score = cv_results_df['mean_train_score']\n",
    "CV_accuracy = cv_results_df['mean_test_score']\n",
    "n_neighnors_values = cv_results_df['param_n_neighbors'] \n",
    "\n",
    "#plotting accuracy (auc) Vs. n_neighbors value\n",
    "plt.plot(n_neighnors_values, CV_accuracy, label = 'CV accuracy')   # auc = accuracy\n",
    "plt.scatter(n_neighnors_values, CV_accuracy, label = 'CV accuracy points')\n",
    "plt.legend()\n",
    "plt.xlabel('n neighnors values')\n",
    "plt.ylabel('accuracy')\n",
    "plt.title('Accuracy Vs. n neighbors values')\n",
    "plt.grid()\n",
    "plt.show()"
   ]
  },
  {
   "cell_type": "code",
   "execution_count": 14,
   "id": "90db74bd-3caa-4798-82fa-8ea87ad15aa5",
   "metadata": {},
   "outputs": [
    {
     "name": "stdout",
     "output_type": "stream",
     "text": [
      "Predicted output on Testing Data: [1 1 1 0 1 1 1 1 1 1 1 1 1 1 1 1 1 1 1 1 1 1 1 1 1 1 1 1 1 1 1 1 1 1 1 1 1\n",
      " 1 1 1 1 1 1 1 1 1 1 1 1 1 1 1 1 1 1 1 1 1 1 1 1 1 1 1 1 1 1 1 1 1 1 1 1 1\n",
      " 1 1 1 1 1 1 1 1 1 1 1 1 1 1 1 1 1 1 1 1 1 1 1 1 1 1 1 1 1 1 1 1 1 1 1 1 1\n",
      " 1 1 1 1 1 1 1 1 1 1 1 1 1 1 1 1 1 1 1 1 1 1 1 1 1 1 1 1 1 1 1 1 1 1 1 1 1\n",
      " 1 1 1 1 1 1 1 1 1 1 1 1 1 1 1 1 1 1 1 1 1 1 1 1 1 1 1 1 1 1 1 1 1 1 1 1 1\n",
      " 1 1 0 1 1 1 1 1 1 1 1 1 1 1 1 1 1 1 1 1 1 1 1 1 1 1 1 1 1 1 1 1 1 1 1 1 1\n",
      " 1 1 1 1 1 1 1 1 1 1 1 1 1 1 1 1 1 1 1 1 1 1 1 1 1 1 1 1 1 1 1 1 1 1 1 1 1\n",
      " 1 1 1 1 1 1 1 1 1 1 1 1 1 1 1 1 1 1 1 1 1 1 1 1 1 1 1 1 1 1 1 1 1 1 1 1 1\n",
      " 1 1 1 1 1 1 1 1 1 1 1 1 1 1 1 1 1 1 1 1 1 1 1 1 1 1 1 1 1 1 1 0 1 1 1 1 1\n",
      " 1 1 1 1 1 1 1 1 1 1 1 1 1 1 1 1 1 1 1 1 1 1 1 1 1 1 1 0 1 1 1 1 1 1 1 1 1\n",
      " 1 1 1 1 1 1 1 1 1 1 1 1 1 1 1 1 1 1 1 1 1 1 1 1 1 1 1 1 1 1]\n",
      "Predicted output as Prob. of Class 1 on Testing Data : [0.94736842 0.94736842 0.68421053 0.47368421 0.84210526 1.\n",
      " 0.73684211 1.         0.94736842 1.         0.94736842 0.94736842\n",
      " 1.         0.78947368 0.94736842 1.         0.63157895 1.\n",
      " 1.         1.         0.89473684 0.84210526 0.89473684 0.73684211\n",
      " 1.         0.94736842 0.94736842 0.68421053 0.89473684 0.94736842\n",
      " 1.         0.84210526 0.94736842 1.         1.         1.\n",
      " 1.         0.89473684 0.78947368 0.94736842 1.         0.57894737\n",
      " 0.89473684 0.94736842 1.         0.89473684 1.         0.89473684\n",
      " 0.94736842 0.89473684 0.84210526 0.94736842 1.         0.94736842\n",
      " 1.         0.89473684 0.89473684 0.94736842 0.94736842 0.57894737\n",
      " 1.         0.94736842 0.89473684 0.63157895 1.         0.78947368\n",
      " 0.89473684 0.94736842 0.94736842 0.84210526 0.94736842 0.94736842\n",
      " 0.89473684 1.         0.84210526 0.89473684 0.89473684 1.\n",
      " 1.         0.57894737 0.63157895 1.         0.89473684 1.\n",
      " 1.         0.89473684 0.94736842 1.         1.         0.78947368\n",
      " 1.         0.84210526 1.         1.         0.94736842 0.78947368\n",
      " 0.52631579 0.68421053 0.89473684 0.94736842 1.         0.89473684\n",
      " 1.         0.94736842 0.78947368 0.84210526 1.         0.84210526\n",
      " 1.         1.         1.         0.94736842 1.         1.\n",
      " 0.73684211 0.78947368 1.         0.68421053 1.         0.94736842\n",
      " 0.73684211 0.63157895 0.84210526 0.73684211 0.78947368 0.84210526\n",
      " 1.         0.84210526 0.94736842 1.         1.         1.\n",
      " 0.68421053 1.         0.63157895 0.73684211 1.         0.73684211\n",
      " 0.68421053 0.94736842 0.73684211 1.         0.94736842 1.\n",
      " 0.84210526 0.89473684 0.94736842 1.         0.78947368 0.94736842\n",
      " 0.63157895 0.94736842 0.89473684 0.94736842 1.         0.63157895\n",
      " 1.         0.94736842 0.73684211 0.57894737 1.         0.89473684\n",
      " 0.78947368 0.89473684 0.89473684 1.         1.         0.89473684\n",
      " 0.68421053 1.         1.         1.         0.68421053 0.73684211\n",
      " 0.94736842 1.         0.94736842 1.         0.89473684 0.84210526\n",
      " 0.89473684 0.84210526 0.63157895 1.         0.89473684 0.73684211\n",
      " 1.         0.42105263 1.         1.         1.         0.57894737\n",
      " 0.94736842 0.63157895 0.78947368 0.78947368 1.         1.\n",
      " 0.78947368 0.94736842 0.94736842 0.84210526 0.94736842 0.94736842\n",
      " 0.73684211 1.         0.78947368 0.78947368 0.84210526 0.68421053\n",
      " 0.94736842 0.84210526 0.94736842 1.         1.         0.89473684\n",
      " 0.84210526 0.94736842 0.78947368 0.73684211 1.         1.\n",
      " 0.73684211 0.78947368 0.94736842 0.63157895 0.63157895 0.89473684\n",
      " 0.78947368 0.89473684 0.68421053 0.94736842 1.         1.\n",
      " 0.68421053 0.94736842 1.         0.68421053 1.         0.84210526\n",
      " 0.94736842 0.94736842 0.73684211 0.68421053 0.94736842 1.\n",
      " 0.78947368 0.94736842 0.89473684 0.94736842 0.68421053 0.63157895\n",
      " 1.         0.94736842 0.89473684 1.         0.89473684 0.84210526\n",
      " 0.73684211 0.73684211 0.73684211 1.         0.89473684 0.63157895\n",
      " 0.89473684 0.78947368 0.94736842 0.89473684 0.78947368 1.\n",
      " 0.94736842 0.94736842 0.52631579 1.         0.94736842 0.89473684\n",
      " 1.         0.84210526 1.         0.89473684 0.73684211 0.68421053\n",
      " 0.89473684 0.63157895 0.78947368 0.63157895 0.94736842 0.78947368\n",
      " 0.84210526 0.73684211 0.94736842 0.84210526 0.68421053 1.\n",
      " 0.89473684 0.84210526 0.94736842 0.94736842 0.57894737 0.84210526\n",
      " 0.63157895 0.84210526 1.         0.84210526 1.         1.\n",
      " 1.         0.84210526 0.68421053 1.         0.73684211 1.\n",
      " 1.         0.52631579 0.89473684 1.         0.94736842 0.78947368\n",
      " 1.         0.94736842 0.68421053 0.68421053 0.89473684 0.89473684\n",
      " 0.68421053 1.         1.         0.36842105 0.89473684 0.73684211\n",
      " 0.84210526 0.68421053 1.         0.84210526 0.84210526 0.94736842\n",
      " 1.         0.63157895 0.94736842 0.94736842 1.         0.94736842\n",
      " 0.94736842 1.         0.73684211 1.         0.84210526 1.\n",
      " 0.84210526 0.94736842 0.94736842 0.84210526 0.94736842 1.\n",
      " 0.94736842 0.89473684 1.         0.63157895 0.89473684 0.57894737\n",
      " 0.36842105 0.63157895 0.94736842 0.89473684 0.63157895 1.\n",
      " 1.         0.68421053 0.89473684 0.94736842 0.68421053 0.94736842\n",
      " 0.73684211 0.94736842 1.         0.89473684 1.         0.89473684\n",
      " 0.78947368 1.         1.         1.         1.         1.\n",
      " 0.94736842 0.84210526 0.94736842 0.89473684 1.         1.\n",
      " 0.94736842 0.68421053 0.94736842 1.         1.         0.94736842\n",
      " 0.78947368 0.84210526 1.         0.57894737]\n"
     ]
    },
    {
     "data": {
      "image/png": "[encoded data removed]",
      "text/plain": [
       "<Figure size 640x480 with 1 Axes>"
      ]
     },
     "metadata": {},
     "output_type": "display_data"
    },
    {
     "name": "stdout",
     "output_type": "stream",
     "text": [
      "Best Threshold value T : 0.8947368421052632\n",
      "Value of TPR*(1-FPR) at T : 0.37884316629936055\n",
      "Predicted output on Testing Data considering Threshold T: [1, 1, 0, 0, 0, 1, 0, 1, 1, 1, 1, 1, 1, 0, 1, 1, 0, 1, 1, 1, 1, 0, 1, 0, 1, 1, 1, 0, 1, 1, 1, 0, 1, 1, 1, 1, 1, 1, 0, 1, 1, 0, 1, 1, 1, 1, 1, 1, 1, 1, 0, 1, 1, 1, 1, 1, 1, 1, 1, 0, 1, 1, 1, 0, 1, 0, 1, 1, 1, 0, 1, 1, 1, 1, 0, 1, 1, 1, 1, 0, 0, 1, 1, 1, 1, 1, 1, 1, 1, 0, 1, 0, 1, 1, 1, 0, 0, 0, 1, 1, 1, 1, 1, 1, 0, 0, 1, 0, 1, 1, 1, 1, 1, 1, 0, 0, 1, 0, 1, 1, 0, 0, 0, 0, 0, 0, 1, 0, 1, 1, 1, 1, 0, 1, 0, 0, 1, 0, 0, 1, 0, 1, 1, 1, 0, 1, 1, 1, 0, 1, 0, 1, 1, 1, 1, 0, 1, 1, 0, 0, 1, 1, 0, 1, 1, 1, 1, 1, 0, 1, 1, 1, 0, 0, 1, 1, 1, 1, 1, 0, 1, 0, 0, 1, 1, 0, 1, 0, 1, 1, 1, 0, 1, 0, 0, 0, 1, 1, 0, 1, 1, 0, 1, 1, 0, 1, 0, 0, 0, 0, 1, 0, 1, 1, 1, 1, 0, 1, 0, 0, 1, 1, 0, 0, 1, 0, 0, 1, 0, 1, 0, 1, 1, 1, 0, 1, 1, 0, 1, 0, 1, 1, 0, 0, 1, 1, 0, 1, 1, 1, 0, 0, 1, 1, 1, 1, 1, 0, 0, 0, 0, 1, 1, 0, 1, 0, 1, 1, 0, 1, 1, 1, 0, 1, 1, 1, 1, 0, 1, 1, 0, 0, 1, 0, 0, 0, 1, 0, 0, 0, 1, 0, 0, 1, 1, 0, 1, 1, 0, 0, 0, 0, 1, 0, 1, 1, 1, 0, 0, 1, 0, 1, 1, 0, 1, 1, 1, 0, 1, 1, 0, 0, 1, 1, 0, 1, 1, 0, 1, 0, 0, 0, 1, 0, 0, 1, 1, 0, 1, 1, 1, 1, 1, 1, 0, 1, 0, 1, 0, 1, 1, 0, 1, 1, 1, 1, 1, 0, 1, 0, 0, 0, 1, 1, 0, 1, 1, 0, 1, 1, 0, 1, 0, 1, 1, 1, 1, 1, 0, 1, 1, 1, 1, 1, 1, 0, 1, 1, 1, 1, 1, 0, 1, 1, 1, 1, 0, 0, 1, 0]\n"
     ]
    }
   ],
   "source": [
    "# For the Best Model M1, plotting TPR Vs. FPR Curve, finding the best Threshold value T, obtaining predicted output considering Threshold T \n",
    "\n",
    "from sklearn.metrics import roc_curve, auc\n",
    "\n",
    "knn_m1 = KNeighborsClassifier(n_neighbors = 19, n_jobs=-1) \n",
    "\n",
    "# Fitting the best Model M1 on training data\n",
    "knn_m1.fit(x_train_processed, y_train)\n",
    "\n",
    "#predicting output (class) , probabilities for class 1 on testing data\n",
    "y_test_pred = knn_m1.predict(x_test_processed)   #by default threshold value used in .predict() is 0.5\n",
    "print(f\"Predicted output on Testing Data: {y_test_pred}\")\n",
    "y_test_pred_prob = knn_m1.predict_proba(x_test_processed)[:, 1]  # \":\"represnts all rows, \"1\" represents second column\n",
    "print(f\"Predicted output as Prob. of Class 1 on Testing Data : {y_test_pred_prob}\")\n",
    "\n",
    "# Using roc_curve fn. that gives list of Threshold values, list of TPR values, list of FPR values\n",
    "FPR, TPR, Threshold = roc_curve(y_test, y_test_pred_prob)\n",
    "\n",
    "#plotting ROC Curve i.e TPR Vs. FPR (corresponding to each threshold value)\n",
    "plt.plot(FPR, TPR)   #in ROC auc (area under curve) represents nothing but accuracy\n",
    "plt.scatter(FPR, TPR)\n",
    "plt.xlabel('FPR')\n",
    "plt.ylabel('TPR')\n",
    "plt.title('TPR Vs. FPR')\n",
    "plt.grid()\n",
    "plt.show()\n",
    "\n",
    "#finding best Threshold Value T\n",
    "#def best_threshold_value(FPR, TPR, Threshold):\n",
    "T = Threshold[np.argmax(TPR*(1-FPR))]\n",
    "print(f\"Best Threshold value T : {T}\")\n",
    "print(f\"Value of TPR*(1-FPR) at T : {max(TPR*(1-FPR))}\")\n",
    "    #return T\n",
    "\n",
    "#predicting output (class) using threshold value T on testing data \n",
    "#def predict_output_using_T\n",
    "y_test_pred_using_T = []\n",
    "for i in y_test_pred_prob:\n",
    "    if i >= T: \n",
    "        y_test_pred_using_T.append(1)\n",
    "    else: \n",
    "        y_test_pred_using_T.append(0)\n",
    "print(f\"Predicted output on Testing Data considering Threshold T: {y_test_pred_using_T}\")\n",
    "#return ytest_pred_using_T\n"
   ]
  },
  {
   "cell_type": "code",
   "execution_count": 17,
   "id": "c3cf8921-b853-4811-b45f-9694ca95d60b",
   "metadata": {},
   "outputs": [
    {
     "name": "stdout",
     "output_type": "stream",
     "text": [
      "Confusion Matrix :\n",
      "[[ 49  40]\n",
      " [ 97 214]]\n",
      "type of confusion matrix: <class 'numpy.ndarray'>\n"
     ]
    },
    {
     "data": {
      "image/png": "[encoded data removed]",
      "text/plain": [
       "<Figure size 640x480 with 2 Axes>"
      ]
     },
     "metadata": {},
     "output_type": "display_data"
    },
    {
     "name": "stdout",
     "output_type": "stream",
     "text": [
      "Final accuracy as per confusion matrix: 0.6575\n"
     ]
    }
   ],
   "source": [
    "# For the Best Model M1, best Threshold value T, plotting confusion matrix (FPR, TPR, FNR, TNR)\n",
    "\n",
    "from sklearn.metrics import confusion_matrix\n",
    "import seaborn as sns     #for heatmap\n",
    "\n",
    "confusionmatrix = confusion_matrix(y_test, y_test_pred_using_T)\n",
    "print(f\"Confusion Matrix :\\n{confusionmatrix}\")\n",
    "print(f\"type of confusion matrix: {type(confusionmatrix)}\")   #a00 = TN , a01 = FP, a10 = FN, a11 = TP \n",
    "# Actuacl -> Vertical (0,1), Predicted -> Horizontal (0,1)\n",
    "\n",
    "#Visualizing confusion matrix using Seaborn library's heatmap function\n",
    "ax= sns.heatmap(confusionmatrix, annot=True, fmt='d', cmap='Blues')\n",
    "ax.set_ylim([0,2])\n",
    "#Customize the plot with additional settings from Matplotlib\n",
    "plt.xlabel('predicted values')\n",
    "plt.ylabel('actual values')\n",
    "plt.title('Confusion Matrix Heatmap')\n",
    "plt.show()\n",
    "\n",
    "# annot=True: Adds numerical annotations to each cell in the heatmap for better readability.\n",
    "# fmt='d': Specifies that the annotations should be formatted as integers.\n",
    "# cmap='Blues': Specifies the color map to use for the heatmap, in this case, shades of blue.\n",
    "\n",
    "from sklearn.metrics import accuracy_score\n",
    "\n",
    "print(f\"Final accuracy as per confusion matrix: {accuracy_score(y_test, y_test_pred_using_T)}\")"
   ]
  },
  {
   "cell_type": "code",
   "execution_count": null,
   "id": "606a28a9-17b0-4ebd-92c3-050ab97517ca",
   "metadata": {},
   "outputs": [],
   "source": []
  }
 ],
 "metadata": {
  "kernelspec": {
   "display_name": "Python 3 (ipykernel)",
   "language": "python",
   "name": "python3"
  },
  "language_info": {
   "codemirror_mode": {
    "name": "ipython",
    "version": 3
   },
   "file_extension": ".py",
   "mimetype": "text/x-python",
   "name": "python",
   "nbconvert_exporter": "python",
   "pygments_lexer": "ipython3",
   "version": "3.12.3"
  }
 },
 "nbformat": 4,
 "nbformat_minor": 5
}
