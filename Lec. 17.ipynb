{
 "cells": [
  {
   "cell_type": "code",
   "execution_count": 13,
   "id": "9fa3b060-4939-4f4b-9677-432a6626ac5f",
   "metadata": {},
   "outputs": [],
   "source": [
    "import pandas as pd"
   ]
  },
  {
   "cell_type": "code",
   "execution_count": 14,
   "id": "763126a4-9a65-4826-8be1-d1129b3c677f",
   "metadata": {},
   "outputs": [],
   "source": [
    "d = {'col1': [1,2,5],'col2': [3,4,5]}"
   ]
  },
  {
   "cell_type": "code",
   "execution_count": 15,
   "id": "4a4a18b1-d533-472e-a98c-8cb23432e817",
   "metadata": {},
   "outputs": [],
   "source": [
    "df = pd.DataFrame(data =d)"
   ]
  },
  {
   "cell_type": "code",
   "execution_count": 16,
   "id": "354b8a58-49ce-41b0-a9bd-dbfb38935102",
   "metadata": {},
   "outputs": [
    {
     "name": "stdout",
     "output_type": "stream",
     "text": [
      "   col1  col2\n",
      "0     1     3\n",
      "1     2     4\n",
      "2     5     5\n"
     ]
    }
   ],
   "source": [
    "print(df)"
   ]
  },
  {
   "cell_type": "code",
   "execution_count": 17,
   "id": "4f8ef9f8-6f2a-4853-8352-40913a024592",
   "metadata": {},
   "outputs": [
    {
     "name": "stdout",
     "output_type": "stream",
     "text": [
      "(3, 2)\n"
     ]
    }
   ],
   "source": [
    "print(df.shape)"
   ]
  },
  {
   "cell_type": "code",
   "execution_count": 18,
   "id": "40172f2f-2686-4171-98f8-f30851c51171",
   "metadata": {},
   "outputs": [],
   "source": [
    "df.drop(['col1'], axis = 1, inplace = True)"
   ]
  },
  {
   "cell_type": "code",
   "execution_count": 19,
   "id": "e13442b3-b9ad-4c39-8555-e351f0ed357b",
   "metadata": {},
   "outputs": [
    {
     "name": "stdout",
     "output_type": "stream",
     "text": [
      "   col2\n",
      "0     3\n",
      "1     4\n",
      "2     5\n"
     ]
    }
   ],
   "source": [
    "print(df)"
   ]
  },
  {
   "cell_type": "code",
   "execution_count": 20,
   "id": "47cad8e3-6804-4937-acb4-d87bfff07bb2",
   "metadata": {},
   "outputs": [
    {
     "name": "stdout",
     "output_type": "stream",
     "text": [
      "(3, 1)\n"
     ]
    }
   ],
   "source": [
    "print(df.shape)"
   ]
  },
  {
   "cell_type": "code",
   "execution_count": null,
   "id": "b24cc6e8-f93f-4a7c-a024-4909e17056bc",
   "metadata": {},
   "outputs": [],
   "source": []
  }
 ],
 "metadata": {
  "kernelspec": {
   "display_name": "Python 3 (ipykernel)",
   "language": "python",
   "name": "python3"
  },
  "language_info": {
   "codemirror_mode": {
    "name": "ipython",
    "version": 3
   },
   "file_extension": ".py",
   "mimetype": "text/x-python",
   "name": "python",
   "nbconvert_exporter": "python",
   "pygments_lexer": "ipython3",
   "version": "3.10.12"
  }
 },
 "nbformat": 4,
 "nbformat_minor": 5
}
