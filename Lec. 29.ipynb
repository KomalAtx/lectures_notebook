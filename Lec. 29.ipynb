{
 "cells": [
  {
   "cell_type": "code",
   "execution_count": 20,
   "id": "040e6cd0-d508-47b9-8205-59231876c2ea",
   "metadata": {},
   "outputs": [],
   "source": [
    "import pandas as pd\n",
    "from sklearn.feature_extraction.text import TfidfVectorizer"
   ]
  },
  {
   "cell_type": "code",
   "execution_count": 21,
   "id": "4a01a0e5-651b-4cd3-b017-9a10dd469ed7",
   "metadata": {},
   "outputs": [],
   "source": [
    "dict = {'review': ['this mobile is good', 'this mobile is not good', 'this mobile works fine and affordable', 'this mobile is cheap and is best']}"
   ]
  },
  {
   "cell_type": "code",
   "execution_count": 22,
   "id": "23f6ab97-e3e5-4ed4-87c3-c881d834d3e0",
   "metadata": {},
   "outputs": [],
   "source": [
    "data = pd.DataFrame(dict)"
   ]
  },
  {
   "cell_type": "code",
   "execution_count": 23,
   "id": "bb8bb3ad-1c0e-4c53-8a93-4d457449cfeb",
   "metadata": {},
   "outputs": [
    {
     "data": {
      "text/html": [
       "<div>\n",
       "<style scoped>\n",
       "    .dataframe tbody tr th:only-of-type {\n",
       "        vertical-align: middle;\n",
       "    }\n",
       "\n",
       "    .dataframe tbody tr th {\n",
       "        vertical-align: top;\n",
       "    }\n",
       "\n",
       "    .dataframe thead th {\n",
       "        text-align: right;\n",
       "    }\n",
       "</style>\n",
       "<table border=\"1\" class=\"dataframe\">\n",
       "  <thead>\n",
       "    <tr style=\"text-align: right;\">\n",
       "      <th></th>\n",
       "      <th>review</th>\n",
       "    </tr>\n",
       "  </thead>\n",
       "  <tbody>\n",
       "    <tr>\n",
       "      <th>0</th>\n",
       "      <td>this mobile is good</td>\n",
       "    </tr>\n",
       "    <tr>\n",
       "      <th>1</th>\n",
       "      <td>this mobile is not good</td>\n",
       "    </tr>\n",
       "    <tr>\n",
       "      <th>2</th>\n",
       "      <td>this mobile works fine and affordable</td>\n",
       "    </tr>\n",
       "    <tr>\n",
       "      <th>3</th>\n",
       "      <td>this mobile is cheap and is best</td>\n",
       "    </tr>\n",
       "  </tbody>\n",
       "</table>\n",
       "</div>"
      ],
      "text/plain": [
       "                                  review\n",
       "0                    this mobile is good\n",
       "1                this mobile is not good\n",
       "2  this mobile works fine and affordable\n",
       "3       this mobile is cheap and is best"
      ]
     },
     "execution_count": 23,
     "metadata": {},
     "output_type": "execute_result"
    }
   ],
   "source": [
    "data"
   ]
  },
  {
   "cell_type": "code",
   "execution_count": 24,
   "id": "5456db42-4691-433f-97a0-c5c2b052d0f8",
   "metadata": {},
   "outputs": [],
   "source": [
    "t = TfidfVectorizer().fit_transform(data['review'].values)"
   ]
  },
  {
   "cell_type": "code",
   "execution_count": 25,
   "id": "79c1e693-2fc4-4744-bf9c-c32532495da8",
   "metadata": {},
   "outputs": [
    {
     "data": {
      "text/plain": [
       "<4x11 sparse matrix of type '<class 'numpy.float64'>'\n",
       "\twith 21 stored elements in Compressed Sparse Row format>"
      ]
     },
     "execution_count": 25,
     "metadata": {},
     "output_type": "execute_result"
    }
   ],
   "source": [
    "t"
   ]
  },
  {
   "cell_type": "code",
   "execution_count": 26,
   "id": "e6fe83aa-a951-495a-8318-467f961b1c75",
   "metadata": {},
   "outputs": [
    {
     "data": {
      "text/plain": [
       "array([[0.        , 0.        , 0.        , 0.        , 0.        ,\n",
       "        0.6284927 , 0.50881901, 0.41599288, 0.        , 0.41599288,\n",
       "        0.        ],\n",
       "       [0.        , 0.        , 0.        , 0.        , 0.        ,\n",
       "        0.49144966, 0.39787085, 0.32528549, 0.62334157, 0.32528549,\n",
       "        0.        ],\n",
       "       [0.48992364, 0.38626142, 0.        , 0.        , 0.48992364,\n",
       "        0.        , 0.        , 0.25566248, 0.        , 0.25566248,\n",
       "        0.48992364],\n",
       "       [0.        , 0.36001383, 0.4566319 , 0.4566319 , 0.        ,\n",
       "        0.        , 0.58292445, 0.23828947, 0.        , 0.23828947,\n",
       "        0.        ]])"
      ]
     },
     "execution_count": 26,
     "metadata": {},
     "output_type": "execute_result"
    }
   ],
   "source": [
    "t.toarray()"
   ]
  },
  {
   "cell_type": "code",
   "execution_count": 27,
   "id": "0bca9306-176a-406a-896b-369b47e5211d",
   "metadata": {},
   "outputs": [],
   "source": [
    "v = TfidfVectorizer().fit(data['review'].values)"
   ]
  },
  {
   "cell_type": "code",
   "execution_count": 28,
   "id": "ad99359b-820c-4739-b800-7f05e62bf44f",
   "metadata": {},
   "outputs": [
    {
     "data": {
      "text/plain": [
       "array(['affordable', 'and', 'best', 'cheap', 'fine', 'good', 'is',\n",
       "       'mobile', 'not', 'this', 'works'], dtype=object)"
      ]
     },
     "execution_count": 28,
     "metadata": {},
     "output_type": "execute_result"
    }
   ],
   "source": [
    "v.get_feature_names_out()"
   ]
  },
  {
   "cell_type": "code",
   "execution_count": null,
   "id": "64cd64ca-d85c-4657-a56d-0444e22d1381",
   "metadata": {
    "editable": true,
    "slideshow": {
     "slide_type": ""
    },
    "tags": []
   },
   "outputs": [],
   "source": []
  }
 ],
 "metadata": {
  "kernelspec": {
   "display_name": "Python 3 (ipykernel)",
   "language": "python",
   "name": "python3"
  },
  "language_info": {
   "codemirror_mode": {
    "name": "ipython",
    "version": 3
   },
   "file_extension": ".py",
   "mimetype": "text/x-python",
   "name": "python",
   "nbconvert_exporter": "python",
   "pygments_lexer": "ipython3",
   "version": "3.10.12"
  }
 },
 "nbformat": 4,
 "nbformat_minor": 5
}
