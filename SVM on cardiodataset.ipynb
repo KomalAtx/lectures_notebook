{
 "cells": [
  {
   "cell_type": "code",
   "execution_count": 1,
   "id": "94176667-8ae4-499f-bad0-b2a0744d41b6",
   "metadata": {
    "editable": true,
    "slideshow": {
     "slide_type": ""
    },
    "tags": []
   },
   "outputs": [],
   "source": [
    "import pandas as pd\n",
    "import numpy as np"
   ]
  },
  {
   "cell_type": "code",
   "execution_count": 2,
   "id": "9d2b7078-95a0-49ec-808a-39b666f64a1b",
   "metadata": {},
   "outputs": [
    {
     "data": {
      "text/html": [
       "<div>\n",
       "<style scoped>\n",
       "    .dataframe tbody tr th:only-of-type {\n",
       "        vertical-align: middle;\n",
       "    }\n",
       "\n",
       "    .dataframe tbody tr th {\n",
       "        vertical-align: top;\n",
       "    }\n",
       "\n",
       "    .dataframe thead th {\n",
       "        text-align: right;\n",
       "    }\n",
       "</style>\n",
       "<table border=\"1\" class=\"dataframe\">\n",
       "  <thead>\n",
       "    <tr style=\"text-align: right;\">\n",
       "      <th></th>\n",
       "      <th>age</th>\n",
       "      <th>gender</th>\n",
       "      <th>height</th>\n",
       "      <th>weight</th>\n",
       "      <th>ap_hi</th>\n",
       "      <th>ap_lo</th>\n",
       "      <th>cholesterol</th>\n",
       "      <th>gluc</th>\n",
       "      <th>smoke</th>\n",
       "      <th>alco</th>\n",
       "      <th>active</th>\n",
       "      <th>cardio</th>\n",
       "    </tr>\n",
       "  </thead>\n",
       "  <tbody>\n",
       "    <tr>\n",
       "      <th>0</th>\n",
       "      <td>18393</td>\n",
       "      <td>male</td>\n",
       "      <td>168</td>\n",
       "      <td>62.0</td>\n",
       "      <td>110</td>\n",
       "      <td>80</td>\n",
       "      <td>chl_avg</td>\n",
       "      <td>glc_avg</td>\n",
       "      <td>0</td>\n",
       "      <td>0</td>\n",
       "      <td>1</td>\n",
       "      <td>0</td>\n",
       "    </tr>\n",
       "    <tr>\n",
       "      <th>1</th>\n",
       "      <td>20228</td>\n",
       "      <td>female</td>\n",
       "      <td>156</td>\n",
       "      <td>85.0</td>\n",
       "      <td>140</td>\n",
       "      <td>90</td>\n",
       "      <td>chl_high</td>\n",
       "      <td>glc_avg</td>\n",
       "      <td>0</td>\n",
       "      <td>0</td>\n",
       "      <td>1</td>\n",
       "      <td>1</td>\n",
       "    </tr>\n",
       "    <tr>\n",
       "      <th>2</th>\n",
       "      <td>18857</td>\n",
       "      <td>female</td>\n",
       "      <td>165</td>\n",
       "      <td>64.0</td>\n",
       "      <td>130</td>\n",
       "      <td>70</td>\n",
       "      <td>chl_high</td>\n",
       "      <td>glc_avg</td>\n",
       "      <td>0</td>\n",
       "      <td>0</td>\n",
       "      <td>0</td>\n",
       "      <td>1</td>\n",
       "    </tr>\n",
       "    <tr>\n",
       "      <th>3</th>\n",
       "      <td>17623</td>\n",
       "      <td>male</td>\n",
       "      <td>169</td>\n",
       "      <td>82.0</td>\n",
       "      <td>150</td>\n",
       "      <td>100</td>\n",
       "      <td>chl_avg</td>\n",
       "      <td>glc_avg</td>\n",
       "      <td>0</td>\n",
       "      <td>0</td>\n",
       "      <td>1</td>\n",
       "      <td>1</td>\n",
       "    </tr>\n",
       "    <tr>\n",
       "      <th>4</th>\n",
       "      <td>17474</td>\n",
       "      <td>female</td>\n",
       "      <td>156</td>\n",
       "      <td>56.0</td>\n",
       "      <td>100</td>\n",
       "      <td>60</td>\n",
       "      <td>chl_avg</td>\n",
       "      <td>glc_avg</td>\n",
       "      <td>0</td>\n",
       "      <td>0</td>\n",
       "      <td>0</td>\n",
       "      <td>0</td>\n",
       "    </tr>\n",
       "    <tr>\n",
       "      <th>...</th>\n",
       "      <td>...</td>\n",
       "      <td>...</td>\n",
       "      <td>...</td>\n",
       "      <td>...</td>\n",
       "      <td>...</td>\n",
       "      <td>...</td>\n",
       "      <td>...</td>\n",
       "      <td>...</td>\n",
       "      <td>...</td>\n",
       "      <td>...</td>\n",
       "      <td>...</td>\n",
       "      <td>...</td>\n",
       "    </tr>\n",
       "    <tr>\n",
       "      <th>67741</th>\n",
       "      <td>19240</td>\n",
       "      <td>male</td>\n",
       "      <td>168</td>\n",
       "      <td>76.0</td>\n",
       "      <td>120</td>\n",
       "      <td>80</td>\n",
       "      <td>chl_avg</td>\n",
       "      <td>glc_avg</td>\n",
       "      <td>1</td>\n",
       "      <td>0</td>\n",
       "      <td>1</td>\n",
       "      <td>0</td>\n",
       "    </tr>\n",
       "    <tr>\n",
       "      <th>67742</th>\n",
       "      <td>22601</td>\n",
       "      <td>female</td>\n",
       "      <td>158</td>\n",
       "      <td>126.0</td>\n",
       "      <td>140</td>\n",
       "      <td>90</td>\n",
       "      <td>chl_aboveavg</td>\n",
       "      <td>glc_aboveavg</td>\n",
       "      <td>0</td>\n",
       "      <td>0</td>\n",
       "      <td>1</td>\n",
       "      <td>1</td>\n",
       "    </tr>\n",
       "    <tr>\n",
       "      <th>67743</th>\n",
       "      <td>19066</td>\n",
       "      <td>male</td>\n",
       "      <td>183</td>\n",
       "      <td>105.0</td>\n",
       "      <td>180</td>\n",
       "      <td>90</td>\n",
       "      <td>chl_high</td>\n",
       "      <td>glc_avg</td>\n",
       "      <td>0</td>\n",
       "      <td>1</td>\n",
       "      <td>0</td>\n",
       "      <td>1</td>\n",
       "    </tr>\n",
       "    <tr>\n",
       "      <th>67744</th>\n",
       "      <td>22431</td>\n",
       "      <td>female</td>\n",
       "      <td>163</td>\n",
       "      <td>72.0</td>\n",
       "      <td>135</td>\n",
       "      <td>80</td>\n",
       "      <td>chl_avg</td>\n",
       "      <td>glc_aboveavg</td>\n",
       "      <td>0</td>\n",
       "      <td>0</td>\n",
       "      <td>0</td>\n",
       "      <td>1</td>\n",
       "    </tr>\n",
       "    <tr>\n",
       "      <th>67745</th>\n",
       "      <td>20540</td>\n",
       "      <td>female</td>\n",
       "      <td>170</td>\n",
       "      <td>72.0</td>\n",
       "      <td>120</td>\n",
       "      <td>80</td>\n",
       "      <td>chl_aboveavg</td>\n",
       "      <td>glc_avg</td>\n",
       "      <td>0</td>\n",
       "      <td>0</td>\n",
       "      <td>1</td>\n",
       "      <td>0</td>\n",
       "    </tr>\n",
       "  </tbody>\n",
       "</table>\n",
       "<p>67746 rows × 12 columns</p>\n",
       "</div>"
      ],
      "text/plain": [
       "         age  gender  height  weight  ap_hi  ap_lo   cholesterol  \\\n",
       "0      18393    male     168    62.0    110     80       chl_avg   \n",
       "1      20228  female     156    85.0    140     90      chl_high   \n",
       "2      18857  female     165    64.0    130     70      chl_high   \n",
       "3      17623    male     169    82.0    150    100       chl_avg   \n",
       "4      17474  female     156    56.0    100     60       chl_avg   \n",
       "...      ...     ...     ...     ...    ...    ...           ...   \n",
       "67741  19240    male     168    76.0    120     80       chl_avg   \n",
       "67742  22601  female     158   126.0    140     90  chl_aboveavg   \n",
       "67743  19066    male     183   105.0    180     90      chl_high   \n",
       "67744  22431  female     163    72.0    135     80       chl_avg   \n",
       "67745  20540  female     170    72.0    120     80  chl_aboveavg   \n",
       "\n",
       "               gluc  smoke  alco  active  cardio  \n",
       "0           glc_avg      0     0       1       0  \n",
       "1           glc_avg      0     0       1       1  \n",
       "2           glc_avg      0     0       0       1  \n",
       "3           glc_avg      0     0       1       1  \n",
       "4           glc_avg      0     0       0       0  \n",
       "...             ...    ...   ...     ...     ...  \n",
       "67741       glc_avg      1     0       1       0  \n",
       "67742  glc_aboveavg      0     0       1       1  \n",
       "67743       glc_avg      0     1       0       1  \n",
       "67744  glc_aboveavg      0     0       0       1  \n",
       "67745       glc_avg      0     0       1       0  \n",
       "\n",
       "[67746 rows x 12 columns]"
      ]
     },
     "execution_count": 2,
     "metadata": {},
     "output_type": "execute_result"
    }
   ],
   "source": [
    "datafile = pd.read_csv('cardiocleaned.csv')   #reading the cleaned dataset\n",
    "\n",
    "label = datafile['cardio'].values   #  output y is separated in a list called as label\n",
    "data = datafile.drop(['cardio'], axis = 1)    #input x is separated in form of Dataframe called as data \n",
    "datafile"
   ]
  },
  {
   "cell_type": "code",
   "execution_count": 3,
   "id": "8c179e6b-1d4a-410e-af13-a461662b56a2",
   "metadata": {},
   "outputs": [
    {
     "data": {
      "text/plain": [
       "numpy.ndarray"
      ]
     },
     "execution_count": 3,
     "metadata": {},
     "output_type": "execute_result"
    }
   ],
   "source": [
    "type(label)"
   ]
  },
  {
   "cell_type": "code",
   "execution_count": 4,
   "id": "c5a88918-b7d6-43bf-b2a0-eb42a8e24c2b",
   "metadata": {},
   "outputs": [
    {
     "data": {
      "text/plain": [
       "pandas.core.frame.DataFrame"
      ]
     },
     "execution_count": 4,
     "metadata": {},
     "output_type": "execute_result"
    }
   ],
   "source": [
    "type(data)"
   ]
  },
  {
   "cell_type": "code",
   "execution_count": 5,
   "id": "23120273-c41e-489f-a3a4-83f4012e2652",
   "metadata": {},
   "outputs": [],
   "source": [
    "# split data into training, validation, testing data\n",
    "from sklearn.model_selection import train_test_split   #class to split data\n",
    "\n",
    "inputtrain, inputtest, outputtrain, outputtest = train_test_split(data, label, test_size = 0.2, stratify = label)\n",
    "# inputtrain, inputcv, outputtrain, outputcv = train_test_split(inputtrain, outputtrain, test_size = 0.2, stratify = outputtrain)\n",
    "# # cv = cross- validation\n"
   ]
  },
  {
   "cell_type": "code",
   "execution_count": 6,
   "id": "57798770-cef1-4694-8220-c2877c8614ef",
   "metadata": {},
   "outputs": [
    {
     "data": {
      "text/plain": [
       "(54196, 11)"
      ]
     },
     "execution_count": 6,
     "metadata": {},
     "output_type": "execute_result"
    }
   ],
   "source": [
    "inputtrain.shape"
   ]
  },
  {
   "cell_type": "code",
   "execution_count": 7,
   "id": "0e83dc7e-6429-482a-8837-d0cba7fe77ff",
   "metadata": {},
   "outputs": [],
   "source": [
    "# inputcv.shape"
   ]
  },
  {
   "cell_type": "code",
   "execution_count": 8,
   "id": "86405afd-33ee-405f-b4dd-264e861bcee3",
   "metadata": {},
   "outputs": [
    {
     "data": {
      "text/plain": [
       "(13550, 11)"
      ]
     },
     "execution_count": 8,
     "metadata": {},
     "output_type": "execute_result"
    }
   ],
   "source": [
    "inputtest.shape"
   ]
  },
  {
   "cell_type": "code",
   "execution_count": 9,
   "id": "db517bea-e5ac-45aa-9aba-9fbbcf79ad35",
   "metadata": {},
   "outputs": [
    {
     "data": {
      "text/plain": [
       "(54196,)"
      ]
     },
     "execution_count": 9,
     "metadata": {},
     "output_type": "execute_result"
    }
   ],
   "source": [
    "outputtrain.shape"
   ]
  },
  {
   "cell_type": "code",
   "execution_count": 10,
   "id": "2d2b32ac-3ab2-4bd3-ad17-a7f59173047f",
   "metadata": {},
   "outputs": [
    {
     "data": {
      "text/plain": [
       "(13550,)"
      ]
     },
     "execution_count": 10,
     "metadata": {},
     "output_type": "execute_result"
    }
   ],
   "source": [
    "outputtest.shape"
   ]
  },
  {
   "cell_type": "code",
   "execution_count": 11,
   "id": "e297abbd-6628-470f-ab2f-efa25ba287f9",
   "metadata": {},
   "outputs": [
    {
     "data": {
      "text/plain": [
       "(pandas.core.frame.DataFrame, numpy.ndarray)"
      ]
     },
     "execution_count": 11,
     "metadata": {},
     "output_type": "execute_result"
    }
   ],
   "source": [
    "type(inputtrain), type(outputtrain)"
   ]
  },
  {
   "cell_type": "code",
   "execution_count": 12,
   "id": "ed4c9965-88d1-4d9e-a067-835687cef84c",
   "metadata": {},
   "outputs": [
    {
     "data": {
      "text/html": [
       "<div>\n",
       "<style scoped>\n",
       "    .dataframe tbody tr th:only-of-type {\n",
       "        vertical-align: middle;\n",
       "    }\n",
       "\n",
       "    .dataframe tbody tr th {\n",
       "        vertical-align: top;\n",
       "    }\n",
       "\n",
       "    .dataframe thead th {\n",
       "        text-align: right;\n",
       "    }\n",
       "</style>\n",
       "<table border=\"1\" class=\"dataframe\">\n",
       "  <thead>\n",
       "    <tr style=\"text-align: right;\">\n",
       "      <th></th>\n",
       "      <th>age</th>\n",
       "      <th>gender</th>\n",
       "      <th>height</th>\n",
       "      <th>weight</th>\n",
       "      <th>ap_hi</th>\n",
       "      <th>ap_lo</th>\n",
       "      <th>cholesterol</th>\n",
       "      <th>gluc</th>\n",
       "      <th>smoke</th>\n",
       "      <th>alco</th>\n",
       "      <th>active</th>\n",
       "    </tr>\n",
       "  </thead>\n",
       "  <tbody>\n",
       "    <tr>\n",
       "      <th>61670</th>\n",
       "      <td>18351</td>\n",
       "      <td>female</td>\n",
       "      <td>166</td>\n",
       "      <td>70.0</td>\n",
       "      <td>103</td>\n",
       "      <td>70</td>\n",
       "      <td>chl_avg</td>\n",
       "      <td>glc_avg</td>\n",
       "      <td>0</td>\n",
       "      <td>0</td>\n",
       "      <td>1</td>\n",
       "    </tr>\n",
       "    <tr>\n",
       "      <th>45252</th>\n",
       "      <td>22651</td>\n",
       "      <td>female</td>\n",
       "      <td>181</td>\n",
       "      <td>93.0</td>\n",
       "      <td>130</td>\n",
       "      <td>90</td>\n",
       "      <td>chl_aboveavg</td>\n",
       "      <td>glc_avg</td>\n",
       "      <td>0</td>\n",
       "      <td>0</td>\n",
       "      <td>0</td>\n",
       "    </tr>\n",
       "    <tr>\n",
       "      <th>14569</th>\n",
       "      <td>16866</td>\n",
       "      <td>male</td>\n",
       "      <td>165</td>\n",
       "      <td>62.0</td>\n",
       "      <td>120</td>\n",
       "      <td>80</td>\n",
       "      <td>chl_avg</td>\n",
       "      <td>glc_avg</td>\n",
       "      <td>0</td>\n",
       "      <td>0</td>\n",
       "      <td>1</td>\n",
       "    </tr>\n",
       "    <tr>\n",
       "      <th>29545</th>\n",
       "      <td>21801</td>\n",
       "      <td>female</td>\n",
       "      <td>157</td>\n",
       "      <td>70.0</td>\n",
       "      <td>110</td>\n",
       "      <td>80</td>\n",
       "      <td>chl_high</td>\n",
       "      <td>glc_avg</td>\n",
       "      <td>0</td>\n",
       "      <td>0</td>\n",
       "      <td>1</td>\n",
       "    </tr>\n",
       "    <tr>\n",
       "      <th>47080</th>\n",
       "      <td>22387</td>\n",
       "      <td>female</td>\n",
       "      <td>162</td>\n",
       "      <td>66.0</td>\n",
       "      <td>120</td>\n",
       "      <td>90</td>\n",
       "      <td>chl_avg</td>\n",
       "      <td>glc_avg</td>\n",
       "      <td>0</td>\n",
       "      <td>0</td>\n",
       "      <td>1</td>\n",
       "    </tr>\n",
       "    <tr>\n",
       "      <th>...</th>\n",
       "      <td>...</td>\n",
       "      <td>...</td>\n",
       "      <td>...</td>\n",
       "      <td>...</td>\n",
       "      <td>...</td>\n",
       "      <td>...</td>\n",
       "      <td>...</td>\n",
       "      <td>...</td>\n",
       "      <td>...</td>\n",
       "      <td>...</td>\n",
       "      <td>...</td>\n",
       "    </tr>\n",
       "    <tr>\n",
       "      <th>5950</th>\n",
       "      <td>22677</td>\n",
       "      <td>female</td>\n",
       "      <td>163</td>\n",
       "      <td>105.0</td>\n",
       "      <td>140</td>\n",
       "      <td>80</td>\n",
       "      <td>chl_high</td>\n",
       "      <td>glc_high</td>\n",
       "      <td>0</td>\n",
       "      <td>0</td>\n",
       "      <td>1</td>\n",
       "    </tr>\n",
       "    <tr>\n",
       "      <th>9939</th>\n",
       "      <td>21970</td>\n",
       "      <td>female</td>\n",
       "      <td>156</td>\n",
       "      <td>94.0</td>\n",
       "      <td>150</td>\n",
       "      <td>80</td>\n",
       "      <td>chl_aboveavg</td>\n",
       "      <td>glc_avg</td>\n",
       "      <td>0</td>\n",
       "      <td>0</td>\n",
       "      <td>1</td>\n",
       "    </tr>\n",
       "    <tr>\n",
       "      <th>31223</th>\n",
       "      <td>20952</td>\n",
       "      <td>male</td>\n",
       "      <td>175</td>\n",
       "      <td>105.0</td>\n",
       "      <td>120</td>\n",
       "      <td>80</td>\n",
       "      <td>chl_avg</td>\n",
       "      <td>glc_high</td>\n",
       "      <td>0</td>\n",
       "      <td>0</td>\n",
       "      <td>0</td>\n",
       "    </tr>\n",
       "    <tr>\n",
       "      <th>7007</th>\n",
       "      <td>19721</td>\n",
       "      <td>female</td>\n",
       "      <td>165</td>\n",
       "      <td>110.0</td>\n",
       "      <td>150</td>\n",
       "      <td>90</td>\n",
       "      <td>chl_high</td>\n",
       "      <td>glc_avg</td>\n",
       "      <td>0</td>\n",
       "      <td>0</td>\n",
       "      <td>1</td>\n",
       "    </tr>\n",
       "    <tr>\n",
       "      <th>66628</th>\n",
       "      <td>18024</td>\n",
       "      <td>female</td>\n",
       "      <td>170</td>\n",
       "      <td>83.0</td>\n",
       "      <td>110</td>\n",
       "      <td>70</td>\n",
       "      <td>chl_avg</td>\n",
       "      <td>glc_avg</td>\n",
       "      <td>0</td>\n",
       "      <td>0</td>\n",
       "      <td>1</td>\n",
       "    </tr>\n",
       "  </tbody>\n",
       "</table>\n",
       "<p>54196 rows × 11 columns</p>\n",
       "</div>"
      ],
      "text/plain": [
       "         age  gender  height  weight  ap_hi  ap_lo   cholesterol      gluc  \\\n",
       "61670  18351  female     166    70.0    103     70       chl_avg   glc_avg   \n",
       "45252  22651  female     181    93.0    130     90  chl_aboveavg   glc_avg   \n",
       "14569  16866    male     165    62.0    120     80       chl_avg   glc_avg   \n",
       "29545  21801  female     157    70.0    110     80      chl_high   glc_avg   \n",
       "47080  22387  female     162    66.0    120     90       chl_avg   glc_avg   \n",
       "...      ...     ...     ...     ...    ...    ...           ...       ...   \n",
       "5950   22677  female     163   105.0    140     80      chl_high  glc_high   \n",
       "9939   21970  female     156    94.0    150     80  chl_aboveavg   glc_avg   \n",
       "31223  20952    male     175   105.0    120     80       chl_avg  glc_high   \n",
       "7007   19721  female     165   110.0    150     90      chl_high   glc_avg   \n",
       "66628  18024  female     170    83.0    110     70       chl_avg   glc_avg   \n",
       "\n",
       "       smoke  alco  active  \n",
       "61670      0     0       1  \n",
       "45252      0     0       0  \n",
       "14569      0     0       1  \n",
       "29545      0     0       1  \n",
       "47080      0     0       1  \n",
       "...      ...   ...     ...  \n",
       "5950       0     0       1  \n",
       "9939       0     0       1  \n",
       "31223      0     0       0  \n",
       "7007       0     0       1  \n",
       "66628      0     0       1  \n",
       "\n",
       "[54196 rows x 11 columns]"
      ]
     },
     "execution_count": 12,
     "metadata": {},
     "output_type": "execute_result"
    }
   ],
   "source": [
    "inputtrain"
   ]
  },
  {
   "cell_type": "code",
   "execution_count": 13,
   "id": "5c12a818-b0c3-4caf-937c-ddd752049faf",
   "metadata": {},
   "outputs": [
    {
     "name": "stderr",
     "output_type": "stream",
     "text": [
      "/home/komal/anaconda3/envs/myenv/lib/python3.12/site-packages/sklearn/base.py:486: UserWarning: X has feature names, but MinMaxScaler was fitted without feature names\n",
      "  warnings.warn(\n"
     ]
    }
   ],
   "source": [
    "#scaling age (in days) (Numerical data) using Min-Max Scaler\n",
    "\n",
    "from sklearn.preprocessing import MinMaxScaler\n",
    "\n",
    "scale = MinMaxScaler()\n",
    "scale.fit(inputtrain['age'].values.reshape(-1,1)) \n",
    "\n",
    "inputtrain_age = scale.transform(inputtrain[['age']])  \n",
    "# inputcv_age = scale.transform(inputcv['age'].values.reshape(-1,1))\n",
    "inputtest_age = scale.transform(inputtest['age'].values.reshape(-1,1))"
   ]
  },
  {
   "cell_type": "code",
   "execution_count": 14,
   "id": "b6e4a47d-2ef3-4262-ad2d-a59fadd54e99",
   "metadata": {},
   "outputs": [
    {
     "data": {
      "text/plain": [
       "numpy.ndarray"
      ]
     },
     "execution_count": 14,
     "metadata": {},
     "output_type": "execute_result"
    }
   ],
   "source": [
    "type(inputtrain_age)"
   ]
  },
  {
   "cell_type": "code",
   "execution_count": 15,
   "id": "4ea4fadd-7b35-40d5-8c0c-96b414a82383",
   "metadata": {},
   "outputs": [
    {
     "data": {
      "text/plain": [
       "(54196, 1)"
      ]
     },
     "execution_count": 15,
     "metadata": {},
     "output_type": "execute_result"
    }
   ],
   "source": [
    "inputtrain_age.shape"
   ]
  },
  {
   "cell_type": "code",
   "execution_count": 16,
   "id": "d4abb776-6e4f-4241-8b28-28fe8afa2649",
   "metadata": {},
   "outputs": [],
   "source": [
    "# inputcv_age.shape"
   ]
  },
  {
   "cell_type": "code",
   "execution_count": 17,
   "id": "6df007a8-6bc7-43ce-9e89-a05bc1f17cf8",
   "metadata": {},
   "outputs": [
    {
     "data": {
      "text/plain": [
       "numpy.ndarray"
      ]
     },
     "execution_count": 17,
     "metadata": {},
     "output_type": "execute_result"
    }
   ],
   "source": [
    "type(outputtrain)"
   ]
  },
  {
   "cell_type": "code",
   "execution_count": 18,
   "id": "4ad01ff4-8337-48f7-8dc4-4a084a477674",
   "metadata": {},
   "outputs": [
    {
     "data": {
      "text/plain": [
       "(54196,)"
      ]
     },
     "execution_count": 18,
     "metadata": {},
     "output_type": "execute_result"
    }
   ],
   "source": [
    "outputtrain.shape"
   ]
  },
  {
   "cell_type": "code",
   "execution_count": 19,
   "id": "6a7ce9f1-738d-44cd-9a77-99378c2f8bfb",
   "metadata": {},
   "outputs": [],
   "source": [
    "# convert gender (categorical data) into One Hot Encoding\n",
    "\n",
    "from sklearn.feature_extraction.text import CountVectorizer  \n",
    "\n",
    "vec = CountVectorizer()\n",
    "vec.fit(inputtrain['gender'].values)\n",
    "\n",
    "inputtrain_gender = vec.transform(inputtrain['gender'].values)  \n",
    "# inputcv_gender = vec.transform(inputcv['gender'].values)\n",
    "inputtest_gender = vec.transform(inputtest['gender'].values)\n"
   ]
  },
  {
   "cell_type": "code",
   "execution_count": 20,
   "id": "adf454e2-78be-46e9-8ca3-b3cac8d66181",
   "metadata": {},
   "outputs": [
    {
     "data": {
      "text/plain": [
       "<54196x2 sparse matrix of type '<class 'numpy.int64'>'\n",
       "\twith 54196 stored elements in Compressed Sparse Row format>"
      ]
     },
     "execution_count": 20,
     "metadata": {},
     "output_type": "execute_result"
    }
   ],
   "source": [
    "inputtrain_gender"
   ]
  },
  {
   "cell_type": "code",
   "execution_count": 21,
   "id": "ddc101ab-ec36-45c5-8f25-b9ed5b5e5a70",
   "metadata": {},
   "outputs": [
    {
     "data": {
      "text/plain": [
       "scipy.sparse._csr.csr_matrix"
      ]
     },
     "execution_count": 21,
     "metadata": {},
     "output_type": "execute_result"
    }
   ],
   "source": [
    "type(inputtrain_gender)   #reshape(-1,1) convert sparse csr matrix into nparray"
   ]
  },
  {
   "cell_type": "code",
   "execution_count": 22,
   "id": "db0fc492-57a7-4da4-b318-1dfcdd0fc5ca",
   "metadata": {},
   "outputs": [
    {
     "data": {
      "text/plain": [
       "numpy.ndarray"
      ]
     },
     "execution_count": 22,
     "metadata": {},
     "output_type": "execute_result"
    }
   ],
   "source": [
    "type(inputtrain_gender.toarray())"
   ]
  },
  {
   "cell_type": "code",
   "execution_count": 23,
   "id": "b83ba15e-5bbc-4efc-86d6-f535cc162b45",
   "metadata": {},
   "outputs": [
    {
     "data": {
      "text/plain": [
       "array([[1, 0],\n",
       "       [1, 0],\n",
       "       [0, 1],\n",
       "       ...,\n",
       "       [0, 1],\n",
       "       [1, 0],\n",
       "       [1, 0]])"
      ]
     },
     "execution_count": 23,
     "metadata": {},
     "output_type": "execute_result"
    }
   ],
   "source": [
    "inputtrain_gender.toarray()"
   ]
  },
  {
   "cell_type": "code",
   "execution_count": 24,
   "id": "f44ee162-72b2-4c6c-b020-48e4e0c7907d",
   "metadata": {},
   "outputs": [
    {
     "data": {
      "text/plain": [
       "(54196, 2)"
      ]
     },
     "execution_count": 24,
     "metadata": {},
     "output_type": "execute_result"
    }
   ],
   "source": [
    "inputtrain_gender.toarray().shape"
   ]
  },
  {
   "cell_type": "code",
   "execution_count": 25,
   "id": "c7d71543-caa5-426b-9ae8-6f5ee47ccc09",
   "metadata": {},
   "outputs": [
    {
     "data": {
      "text/plain": [
       "(54196, 2)"
      ]
     },
     "execution_count": 25,
     "metadata": {},
     "output_type": "execute_result"
    }
   ],
   "source": [
    "inputtrain_gender.shape"
   ]
  },
  {
   "cell_type": "code",
   "execution_count": 26,
   "id": "5b790b73-1581-4800-817d-fbbd7a54192a",
   "metadata": {},
   "outputs": [],
   "source": [
    "#scaling height (in cm) (Numerical data) using Min-Max Scaler\n",
    "\n",
    "#from sklearn.preprocessing import MinMaxScaler\n",
    "\n",
    "scale = MinMaxScaler()\n",
    "scale.fit(inputtrain['height'].values.reshape(-1,1)) \n",
    "\n",
    "inputtrain_height = scale.transform(inputtrain['height'].values.reshape(-1,1))  \n",
    "# inputcv_height = scale.transform(inputcv['height'].values.reshape(-1,1))\n",
    "inputtest_height = scale.transform(inputtest['height'].values.reshape(-1,1))"
   ]
  },
  {
   "cell_type": "code",
   "execution_count": 27,
   "id": "95be0a57-bedb-4eaf-b239-d2d62778227e",
   "metadata": {},
   "outputs": [
    {
     "data": {
      "text/plain": [
       "numpy.ndarray"
      ]
     },
     "execution_count": 27,
     "metadata": {},
     "output_type": "execute_result"
    }
   ],
   "source": [
    "type(inputtrain_height)"
   ]
  },
  {
   "cell_type": "code",
   "execution_count": 28,
   "id": "e03b88be-63a6-4409-b860-c378426ff3da",
   "metadata": {},
   "outputs": [
    {
     "data": {
      "text/plain": [
       "(54196, 1)"
      ]
     },
     "execution_count": 28,
     "metadata": {},
     "output_type": "execute_result"
    }
   ],
   "source": [
    "inputtrain_height.shape"
   ]
  },
  {
   "cell_type": "code",
   "execution_count": 29,
   "id": "48839ab9-9fbc-4de2-908c-7923269d784a",
   "metadata": {},
   "outputs": [
    {
     "data": {
      "text/plain": [
       "array([[0.52873563],\n",
       "       [0.70114943],\n",
       "       [0.51724138],\n",
       "       ...,\n",
       "       [0.63218391],\n",
       "       [0.51724138],\n",
       "       [0.57471264]])"
      ]
     },
     "execution_count": 29,
     "metadata": {},
     "output_type": "execute_result"
    }
   ],
   "source": [
    "inputtrain_height"
   ]
  },
  {
   "cell_type": "code",
   "execution_count": 30,
   "id": "d322a923-f42a-47a4-a56d-2af74a45258b",
   "metadata": {},
   "outputs": [],
   "source": [
    "#scaling weight (in kg) (Numerical data) using Min-Max Scaler\n",
    "\n",
    "#from sklearn.preprocessing import MinMaxScaler\n",
    "\n",
    "scale = MinMaxScaler()\n",
    "scale.fit(inputtrain['weight'].values.reshape(-1,1)) \n",
    "\n",
    "inputtrain_weight = scale.transform(inputtrain['weight'].values.reshape(-1,1))  \n",
    "# inputcv_weight = scale.transform(inputcv['weight'].values.reshape(-1,1))\n",
    "inputtest_weight = scale.transform(inputtest['weight'].values.reshape(-1,1))"
   ]
  },
  {
   "cell_type": "code",
   "execution_count": 31,
   "id": "9d92b8ad-999e-4f14-8f22-32e0792bd9ed",
   "metadata": {},
   "outputs": [],
   "source": [
    "#scaling ap_lo (Numerical data) using Min-Max Scaler\n",
    "\n",
    "#from sklearn.preprocessing import MinMaxScaler\n",
    "\n",
    "scale = MinMaxScaler()\n",
    "scale.fit(inputtrain['ap_lo'].values.reshape(-1,1)) \n",
    "\n",
    "inputtrain_ap_lo = scale.transform(inputtrain['ap_lo'].values.reshape(-1,1))  \n",
    "# inputcv_ap_lo = scale.transform(inputcv['ap_lo'].values.reshape(-1,1))\n",
    "inputtest_ap_lo = scale.transform(inputtest['ap_lo'].values.reshape(-1,1))"
   ]
  },
  {
   "cell_type": "code",
   "execution_count": 32,
   "id": "645e88c5-4880-480f-ba61-e034ef4a314b",
   "metadata": {},
   "outputs": [],
   "source": [
    "# convert cholesterol (categorical data) into One Hot Encoding\n",
    "\n",
    "#from sklearn.feature_extraction.text import CountVectorizer  \n",
    "\n",
    "vec = CountVectorizer()\n",
    "vec.fit(inputtrain['cholesterol'].values)\n",
    "\n",
    "inputtrain_cholesterol = vec.transform(inputtrain['cholesterol'].values)  \n",
    "# inputcv_cholesterol = vec.transform(inputcv['cholesterol'].values)\n",
    "inputtest_cholesterol = vec.transform(inputtest['cholesterol'].values)"
   ]
  },
  {
   "cell_type": "code",
   "execution_count": 33,
   "id": "c9fb85cd-0e39-44e7-8235-83656ab62434",
   "metadata": {},
   "outputs": [],
   "source": [
    "# convert glucose (categorical data) into One Hot Encoding\n",
    "\n",
    "#from sklearn.feature_extraction.text import CountVectorizer  \n",
    "\n",
    "vec = CountVectorizer()\n",
    "vec.fit(inputtrain['gluc'].values)\n",
    "\n",
    "inputtrain_gluc = vec.transform(inputtrain['gluc'].values)  \n",
    "# inputcv_gluc = vec.transform(inputcv['gluc'].values)\n",
    "inputtest_gluc = vec.transform(inputtest['gluc'].values)"
   ]
  },
  {
   "cell_type": "code",
   "execution_count": 34,
   "id": "1f19e896-5a98-4631-8538-1c22e468a819",
   "metadata": {},
   "outputs": [],
   "source": [
    "# smoke (categorical data) binary only 0/1 (Yes/No) hence no need to convert into One Hot Encoding \n",
    "\n",
    "#just converting sparse csr matrix form in np array form\n",
    "\n",
    "inputtrain_smoke = inputtrain['smoke'].values.reshape(-1,1)\n",
    "# inputcv_smoke = inputcv['smoke'].values.reshape(-1,1)\n",
    "inputtest_smoke = inputtest['smoke'].values.reshape(-1,1)"
   ]
  },
  {
   "cell_type": "code",
   "execution_count": 35,
   "id": "3d6d94ed-5227-4f71-a4ba-ca8ef1cbe310",
   "metadata": {},
   "outputs": [],
   "source": [
    "# active, smoke, alcohol (categorical data) binary only 0/1 (Yes/No) hence no need to convert into One Hot Encoding \n",
    "\n",
    "#just converting sparse csr matrix form in np array form\n",
    "\n",
    "inputtrain_active = inputtrain['active'].values.reshape(-1,1)\n",
    "inputtest_active = inputtest['active'].values.reshape(-1,1)\n",
    "\n",
    "inputtrain_smoke = inputtrain['smoke'].values.reshape(-1,1)\n",
    "inputtest_smoke = inputtest['smoke'].values.reshape(-1,1)\n",
    "\n",
    "inputtrain_alco = inputtrain['alco'].values.reshape(-1,1)\n",
    "inputtest_alco = inputtest['alco'].values.reshape(-1,1)"
   ]
  },
  {
   "cell_type": "code",
   "execution_count": 36,
   "id": "e04b174a-aed2-418c-b4ae-d8a59f761f96",
   "metadata": {},
   "outputs": [
    {
     "data": {
      "text/html": [
       "<div>\n",
       "<style scoped>\n",
       "    .dataframe tbody tr th:only-of-type {\n",
       "        vertical-align: middle;\n",
       "    }\n",
       "\n",
       "    .dataframe tbody tr th {\n",
       "        vertical-align: top;\n",
       "    }\n",
       "\n",
       "    .dataframe thead th {\n",
       "        text-align: right;\n",
       "    }\n",
       "</style>\n",
       "<table border=\"1\" class=\"dataframe\">\n",
       "  <thead>\n",
       "    <tr style=\"text-align: right;\">\n",
       "      <th></th>\n",
       "      <th>age</th>\n",
       "      <th>gender</th>\n",
       "      <th>height</th>\n",
       "      <th>weight</th>\n",
       "      <th>ap_hi</th>\n",
       "      <th>ap_lo</th>\n",
       "      <th>cholesterol</th>\n",
       "      <th>gluc</th>\n",
       "      <th>smoke</th>\n",
       "      <th>alco</th>\n",
       "      <th>active</th>\n",
       "    </tr>\n",
       "  </thead>\n",
       "  <tbody>\n",
       "    <tr>\n",
       "      <th>61670</th>\n",
       "      <td>18351</td>\n",
       "      <td>female</td>\n",
       "      <td>166</td>\n",
       "      <td>70.0</td>\n",
       "      <td>103</td>\n",
       "      <td>70</td>\n",
       "      <td>chl_avg</td>\n",
       "      <td>glc_avg</td>\n",
       "      <td>0</td>\n",
       "      <td>0</td>\n",
       "      <td>1</td>\n",
       "    </tr>\n",
       "    <tr>\n",
       "      <th>45252</th>\n",
       "      <td>22651</td>\n",
       "      <td>female</td>\n",
       "      <td>181</td>\n",
       "      <td>93.0</td>\n",
       "      <td>130</td>\n",
       "      <td>90</td>\n",
       "      <td>chl_aboveavg</td>\n",
       "      <td>glc_avg</td>\n",
       "      <td>0</td>\n",
       "      <td>0</td>\n",
       "      <td>0</td>\n",
       "    </tr>\n",
       "    <tr>\n",
       "      <th>14569</th>\n",
       "      <td>16866</td>\n",
       "      <td>male</td>\n",
       "      <td>165</td>\n",
       "      <td>62.0</td>\n",
       "      <td>120</td>\n",
       "      <td>80</td>\n",
       "      <td>chl_avg</td>\n",
       "      <td>glc_avg</td>\n",
       "      <td>0</td>\n",
       "      <td>0</td>\n",
       "      <td>1</td>\n",
       "    </tr>\n",
       "    <tr>\n",
       "      <th>29545</th>\n",
       "      <td>21801</td>\n",
       "      <td>female</td>\n",
       "      <td>157</td>\n",
       "      <td>70.0</td>\n",
       "      <td>110</td>\n",
       "      <td>80</td>\n",
       "      <td>chl_high</td>\n",
       "      <td>glc_avg</td>\n",
       "      <td>0</td>\n",
       "      <td>0</td>\n",
       "      <td>1</td>\n",
       "    </tr>\n",
       "    <tr>\n",
       "      <th>47080</th>\n",
       "      <td>22387</td>\n",
       "      <td>female</td>\n",
       "      <td>162</td>\n",
       "      <td>66.0</td>\n",
       "      <td>120</td>\n",
       "      <td>90</td>\n",
       "      <td>chl_avg</td>\n",
       "      <td>glc_avg</td>\n",
       "      <td>0</td>\n",
       "      <td>0</td>\n",
       "      <td>1</td>\n",
       "    </tr>\n",
       "    <tr>\n",
       "      <th>...</th>\n",
       "      <td>...</td>\n",
       "      <td>...</td>\n",
       "      <td>...</td>\n",
       "      <td>...</td>\n",
       "      <td>...</td>\n",
       "      <td>...</td>\n",
       "      <td>...</td>\n",
       "      <td>...</td>\n",
       "      <td>...</td>\n",
       "      <td>...</td>\n",
       "      <td>...</td>\n",
       "    </tr>\n",
       "    <tr>\n",
       "      <th>5950</th>\n",
       "      <td>22677</td>\n",
       "      <td>female</td>\n",
       "      <td>163</td>\n",
       "      <td>105.0</td>\n",
       "      <td>140</td>\n",
       "      <td>80</td>\n",
       "      <td>chl_high</td>\n",
       "      <td>glc_high</td>\n",
       "      <td>0</td>\n",
       "      <td>0</td>\n",
       "      <td>1</td>\n",
       "    </tr>\n",
       "    <tr>\n",
       "      <th>9939</th>\n",
       "      <td>21970</td>\n",
       "      <td>female</td>\n",
       "      <td>156</td>\n",
       "      <td>94.0</td>\n",
       "      <td>150</td>\n",
       "      <td>80</td>\n",
       "      <td>chl_aboveavg</td>\n",
       "      <td>glc_avg</td>\n",
       "      <td>0</td>\n",
       "      <td>0</td>\n",
       "      <td>1</td>\n",
       "    </tr>\n",
       "    <tr>\n",
       "      <th>31223</th>\n",
       "      <td>20952</td>\n",
       "      <td>male</td>\n",
       "      <td>175</td>\n",
       "      <td>105.0</td>\n",
       "      <td>120</td>\n",
       "      <td>80</td>\n",
       "      <td>chl_avg</td>\n",
       "      <td>glc_high</td>\n",
       "      <td>0</td>\n",
       "      <td>0</td>\n",
       "      <td>0</td>\n",
       "    </tr>\n",
       "    <tr>\n",
       "      <th>7007</th>\n",
       "      <td>19721</td>\n",
       "      <td>female</td>\n",
       "      <td>165</td>\n",
       "      <td>110.0</td>\n",
       "      <td>150</td>\n",
       "      <td>90</td>\n",
       "      <td>chl_high</td>\n",
       "      <td>glc_avg</td>\n",
       "      <td>0</td>\n",
       "      <td>0</td>\n",
       "      <td>1</td>\n",
       "    </tr>\n",
       "    <tr>\n",
       "      <th>66628</th>\n",
       "      <td>18024</td>\n",
       "      <td>female</td>\n",
       "      <td>170</td>\n",
       "      <td>83.0</td>\n",
       "      <td>110</td>\n",
       "      <td>70</td>\n",
       "      <td>chl_avg</td>\n",
       "      <td>glc_avg</td>\n",
       "      <td>0</td>\n",
       "      <td>0</td>\n",
       "      <td>1</td>\n",
       "    </tr>\n",
       "  </tbody>\n",
       "</table>\n",
       "<p>54196 rows × 11 columns</p>\n",
       "</div>"
      ],
      "text/plain": [
       "         age  gender  height  weight  ap_hi  ap_lo   cholesterol      gluc  \\\n",
       "61670  18351  female     166    70.0    103     70       chl_avg   glc_avg   \n",
       "45252  22651  female     181    93.0    130     90  chl_aboveavg   glc_avg   \n",
       "14569  16866    male     165    62.0    120     80       chl_avg   glc_avg   \n",
       "29545  21801  female     157    70.0    110     80      chl_high   glc_avg   \n",
       "47080  22387  female     162    66.0    120     90       chl_avg   glc_avg   \n",
       "...      ...     ...     ...     ...    ...    ...           ...       ...   \n",
       "5950   22677  female     163   105.0    140     80      chl_high  glc_high   \n",
       "9939   21970  female     156    94.0    150     80  chl_aboveavg   glc_avg   \n",
       "31223  20952    male     175   105.0    120     80       chl_avg  glc_high   \n",
       "7007   19721  female     165   110.0    150     90      chl_high   glc_avg   \n",
       "66628  18024  female     170    83.0    110     70       chl_avg   glc_avg   \n",
       "\n",
       "       smoke  alco  active  \n",
       "61670      0     0       1  \n",
       "45252      0     0       0  \n",
       "14569      0     0       1  \n",
       "29545      0     0       1  \n",
       "47080      0     0       1  \n",
       "...      ...   ...     ...  \n",
       "5950       0     0       1  \n",
       "9939       0     0       1  \n",
       "31223      0     0       0  \n",
       "7007       0     0       1  \n",
       "66628      0     0       1  \n",
       "\n",
       "[54196 rows x 11 columns]"
      ]
     },
     "execution_count": 36,
     "metadata": {},
     "output_type": "execute_result"
    }
   ],
   "source": [
    "inputtrain"
   ]
  },
  {
   "cell_type": "code",
   "execution_count": 37,
   "id": "fcf96237-0c51-4d75-9e6d-2ef3ddd23d04",
   "metadata": {},
   "outputs": [
    {
     "data": {
      "text/plain": [
       "numpy.ndarray"
      ]
     },
     "execution_count": 37,
     "metadata": {},
     "output_type": "execute_result"
    }
   ],
   "source": [
    "type(inputtrain_smoke)"
   ]
  },
  {
   "cell_type": "code",
   "execution_count": 38,
   "id": "65174035-e128-4d80-be89-bd8d8ce09361",
   "metadata": {},
   "outputs": [
    {
     "data": {
      "text/plain": [
       "(54196, 1)"
      ]
     },
     "execution_count": 38,
     "metadata": {},
     "output_type": "execute_result"
    }
   ],
   "source": [
    "inputtrain_smoke.shape"
   ]
  },
  {
   "cell_type": "code",
   "execution_count": 39,
   "id": "026cfa9b-03dd-4fe6-abd6-db013118edef",
   "metadata": {},
   "outputs": [
    {
     "data": {
      "text/plain": [
       "numpy.ndarray"
      ]
     },
     "execution_count": 39,
     "metadata": {},
     "output_type": "execute_result"
    }
   ],
   "source": [
    "type(inputtrain_active)"
   ]
  },
  {
   "cell_type": "code",
   "execution_count": 40,
   "id": "8e40a15d-63b5-476a-bbc0-e1ff2166eb43",
   "metadata": {},
   "outputs": [
    {
     "data": {
      "text/plain": [
       "(54196, 1)"
      ]
     },
     "execution_count": 40,
     "metadata": {},
     "output_type": "execute_result"
    }
   ],
   "source": [
    "inputtrain_active.shape"
   ]
  },
  {
   "cell_type": "code",
   "execution_count": 41,
   "id": "c1f06be6-2e01-4f46-b22a-b911f4da0f09",
   "metadata": {},
   "outputs": [],
   "source": [
    "# stack arrays horizontally\n",
    "\n",
    "from scipy.sparse import hstack\n",
    "\n",
    "input_train = hstack((inputtrain_age, inputtrain_gender, inputtrain_height, inputtrain_weight, inputtrain_cholesterol, inputtrain_gluc, inputtrain_smoke , inputtrain_alco,inputtrain_active))\n",
    "# cv = hstack((inputcv_age, inputcv_gender, inputcv_height, inputcv_weight, inputcv_cholesterol, inputcv_gluc, inputcv_active))\n",
    "input_test = hstack((inputtest_age, inputtest_gender, inputtest_height, inputtest_weight, inputtest_cholesterol, inputtest_gluc,inputtest_smoke, inputtest_alco , inputtest_active))"
   ]
  },
  {
   "cell_type": "code",
   "execution_count": 42,
   "id": "a8d26231-5943-4731-998c-52c61c7a316a",
   "metadata": {},
   "outputs": [
    {
     "data": {
      "text/plain": [
       "<54196x14 sparse matrix of type '<class 'numpy.float64'>'\n",
       "\twith 376036 stored elements in COOrdinate format>"
      ]
     },
     "execution_count": 42,
     "metadata": {},
     "output_type": "execute_result"
    }
   ],
   "source": [
    "input_train"
   ]
  },
  {
   "cell_type": "code",
   "execution_count": 43,
   "id": "3ec365ed-6c8a-4190-a880-d25afadca5a4",
   "metadata": {},
   "outputs": [],
   "source": [
    "input_train = input_train.toarray()\n",
    "input_test = input_test.toarray()"
   ]
  },
  {
   "cell_type": "code",
   "execution_count": 44,
   "id": "9b5854a7-e201-409e-a05b-282c20c4bf94",
   "metadata": {},
   "outputs": [
    {
     "data": {
      "text/plain": [
       "array([0, 1, 1, ..., 1, 1, 0])"
      ]
     },
     "execution_count": 44,
     "metadata": {},
     "output_type": "execute_result"
    }
   ],
   "source": [
    "outputtrain"
   ]
  },
  {
   "cell_type": "code",
   "execution_count": 45,
   "id": "cefe4959-a87f-4d4d-81fd-0545453a7799",
   "metadata": {},
   "outputs": [
    {
     "data": {
      "text/plain": [
       "(54196, 14)"
      ]
     },
     "execution_count": 45,
     "metadata": {},
     "output_type": "execute_result"
    }
   ],
   "source": [
    "input_train.shape   #input data"
   ]
  },
  {
   "cell_type": "code",
   "execution_count": 46,
   "id": "5962e0d4-a02c-4614-b3cd-2427f126892c",
   "metadata": {},
   "outputs": [],
   "source": [
    "# cv.shape     #input data"
   ]
  },
  {
   "cell_type": "code",
   "execution_count": 47,
   "id": "b6c1d331-dc07-4bb6-ac3c-48956db582d4",
   "metadata": {},
   "outputs": [
    {
     "data": {
      "text/plain": [
       "(13550, 14)"
      ]
     },
     "execution_count": 47,
     "metadata": {},
     "output_type": "execute_result"
    }
   ],
   "source": [
    "input_test.shape     #input data"
   ]
  },
  {
   "cell_type": "code",
   "execution_count": 48,
   "id": "62ac9b77-0d30-47c5-885a-ea3665632368",
   "metadata": {},
   "outputs": [
    {
     "data": {
      "text/plain": [
       "((54196,), (13550,))"
      ]
     },
     "execution_count": 48,
     "metadata": {},
     "output_type": "execute_result"
    }
   ],
   "source": [
    "outputtrain.shape, outputtest.shape"
   ]
  },
  {
   "cell_type": "code",
   "execution_count": 49,
   "id": "b5a7ce8d-b520-43bf-9e91-93f4e879f503",
   "metadata": {},
   "outputs": [
    {
     "data": {
      "text/plain": [
       "(numpy.ndarray, numpy.ndarray)"
      ]
     },
     "execution_count": 49,
     "metadata": {},
     "output_type": "execute_result"
    }
   ],
   "source": [
    "type(outputtrain), type(outputtest)"
   ]
  },
  {
   "cell_type": "code",
   "execution_count": 50,
   "id": "8e1d9cd1-0ea5-41ed-85b0-617c3e6def45",
   "metadata": {},
   "outputs": [],
   "source": [
    "outputtrain = outputtrain.reshape(-1,1)\n",
    "outputtest = outputtest.reshape(-1,1)"
   ]
  },
  {
   "cell_type": "code",
   "execution_count": 51,
   "id": "8d8834f3-1cf5-4c91-8d66-9fb176e37f38",
   "metadata": {},
   "outputs": [],
   "source": [
    "outputtrain = outputtrain.ravel()"
   ]
  },
  {
   "cell_type": "code",
   "execution_count": 52,
   "id": "0506b1dd-2e45-495a-bcd3-c2ab649d88fe",
   "metadata": {},
   "outputs": [
    {
     "data": {
      "text/plain": [
       "(numpy.ndarray, numpy.ndarray)"
      ]
     },
     "execution_count": 52,
     "metadata": {},
     "output_type": "execute_result"
    }
   ],
   "source": [
    "type(outputtrain), type(outputtest)"
   ]
  },
  {
   "cell_type": "code",
   "execution_count": 53,
   "id": "0fe27069-2668-4cd7-85e4-87201ebdfe6c",
   "metadata": {},
   "outputs": [
    {
     "data": {
      "text/plain": [
       "((54196,), (13550, 1))"
      ]
     },
     "execution_count": 53,
     "metadata": {},
     "output_type": "execute_result"
    }
   ],
   "source": [
    "outputtrain.shape, outputtest.shape"
   ]
  },
  {
   "cell_type": "code",
   "execution_count": 54,
   "id": "1ee2f21c-2a72-4631-981f-d961fa3e96a1",
   "metadata": {},
   "outputs": [],
   "source": [
    "###### Support Vector Machine"
   ]
  },
  {
   "cell_type": "code",
   "execution_count": 77,
   "id": "f42e665d-10e9-46b0-a12a-06377c574ba7",
   "metadata": {},
   "outputs": [],
   "source": [
    "import numpy as np\n",
    "from sklearn import datasets\n",
    "from sklearn.svm import SVC\n",
    "from sklearn.metrics import accuracy_score, confusion_matrix, classification_report"
   ]
  },
  {
   "cell_type": "code",
   "execution_count": 56,
   "id": "6c72811f-fa6b-4c59-9075-307d73349ddc",
   "metadata": {
    "scrolled": true
   },
   "outputs": [],
   "source": [
    "svm_model = SVC(kernel = 'linear', random_state = 10)"
   ]
  },
  {
   "cell_type": "code",
   "execution_count": 57,
   "id": "bca43323-8bea-456d-8e16-22a3808dd5ef",
   "metadata": {},
   "outputs": [
    {
     "data": {
      "text/html": [
       "<style>#sk-container-id-1 {\n",
       "  /* Definition of color scheme common for light and dark mode */\n",
       "  --sklearn-color-text: black;\n",
       "  --sklearn-color-line: gray;\n",
       "  /* Definition of color scheme for unfitted estimators */\n",
       "  --sklearn-color-unfitted-level-0: #fff5e6;\n",
       "  --sklearn-color-unfitted-level-1: #f6e4d2;\n",
       "  --sklearn-color-unfitted-level-2: #ffe0b3;\n",
       "  --sklearn-color-unfitted-level-3: chocolate;\n",
       "  /* Definition of color scheme for fitted estimators */\n",
       "  --sklearn-color-fitted-level-0: #f0f8ff;\n",
       "  --sklearn-color-fitted-level-1: #d4ebff;\n",
       "  --sklearn-color-fitted-level-2: #b3dbfd;\n",
       "  --sklearn-color-fitted-level-3: cornflowerblue;\n",
       "\n",
       "  /* Specific color for light theme */\n",
       "  --sklearn-color-text-on-default-background: var(--sg-text-color, var(--theme-code-foreground, var(--jp-content-font-color1, black)));\n",
       "  --sklearn-color-background: var(--sg-background-color, var(--theme-background, var(--jp-layout-color0, white)));\n",
       "  --sklearn-color-border-box: var(--sg-text-color, var(--theme-code-foreground, var(--jp-content-font-color1, black)));\n",
       "  --sklearn-color-icon: #696969;\n",
       "\n",
       "  @media (prefers-color-scheme: dark) {\n",
       "    /* Redefinition of color scheme for dark theme */\n",
       "    --sklearn-color-text-on-default-background: var(--sg-text-color, var(--theme-code-foreground, var(--jp-content-font-color1, white)));\n",
       "    --sklearn-color-background: var(--sg-background-color, var(--theme-background, var(--jp-layout-color0, #111)));\n",
       "    --sklearn-color-border-box: var(--sg-text-color, var(--theme-code-foreground, var(--jp-content-font-color1, white)));\n",
       "    --sklearn-color-icon: #878787;\n",
       "  }\n",
       "}\n",
       "\n",
       "#sk-container-id-1 {\n",
       "  color: var(--sklearn-color-text);\n",
       "}\n",
       "\n",
       "#sk-container-id-1 pre {\n",
       "  padding: 0;\n",
       "}\n",
       "\n",
       "#sk-container-id-1 input.sk-hidden--visually {\n",
       "  border: 0;\n",
       "  clip: rect(1px 1px 1px 1px);\n",
       "  clip: rect(1px, 1px, 1px, 1px);\n",
       "  height: 1px;\n",
       "  margin: -1px;\n",
       "  overflow: hidden;\n",
       "  padding: 0;\n",
       "  position: absolute;\n",
       "  width: 1px;\n",
       "}\n",
       "\n",
       "#sk-container-id-1 div.sk-dashed-wrapped {\n",
       "  border: 1px dashed var(--sklearn-color-line);\n",
       "  margin: 0 0.4em 0.5em 0.4em;\n",
       "  box-sizing: border-box;\n",
       "  padding-bottom: 0.4em;\n",
       "  background-color: var(--sklearn-color-background);\n",
       "}\n",
       "\n",
       "#sk-container-id-1 div.sk-container {\n",
       "  /* jupyter's `normalize.less` sets `[hidden] { display: none; }`\n",
       "     but bootstrap.min.css set `[hidden] { display: none !important; }`\n",
       "     so we also need the `!important` here to be able to override the\n",
       "     default hidden behavior on the sphinx rendered scikit-learn.org.\n",
       "     See: https://github.com/scikit-learn/scikit-learn/issues/21755 */\n",
       "  display: inline-block !important;\n",
       "  position: relative;\n",
       "}\n",
       "\n",
       "#sk-container-id-1 div.sk-text-repr-fallback {\n",
       "  display: none;\n",
       "}\n",
       "\n",
       "div.sk-parallel-item,\n",
       "div.sk-serial,\n",
       "div.sk-item {\n",
       "  /* draw centered vertical line to link estimators */\n",
       "  background-image: linear-gradient(var(--sklearn-color-text-on-default-background), var(--sklearn-color-text-on-default-background));\n",
       "  background-size: 2px 100%;\n",
       "  background-repeat: no-repeat;\n",
       "  background-position: center center;\n",
       "}\n",
       "\n",
       "/* Parallel-specific style estimator block */\n",
       "\n",
       "#sk-container-id-1 div.sk-parallel-item::after {\n",
       "  content: \"\";\n",
       "  width: 100%;\n",
       "  border-bottom: 2px solid var(--sklearn-color-text-on-default-background);\n",
       "  flex-grow: 1;\n",
       "}\n",
       "\n",
       "#sk-container-id-1 div.sk-parallel {\n",
       "  display: flex;\n",
       "  align-items: stretch;\n",
       "  justify-content: center;\n",
       "  background-color: var(--sklearn-color-background);\n",
       "  position: relative;\n",
       "}\n",
       "\n",
       "#sk-container-id-1 div.sk-parallel-item {\n",
       "  display: flex;\n",
       "  flex-direction: column;\n",
       "}\n",
       "\n",
       "#sk-container-id-1 div.sk-parallel-item:first-child::after {\n",
       "  align-self: flex-end;\n",
       "  width: 50%;\n",
       "}\n",
       "\n",
       "#sk-container-id-1 div.sk-parallel-item:last-child::after {\n",
       "  align-self: flex-start;\n",
       "  width: 50%;\n",
       "}\n",
       "\n",
       "#sk-container-id-1 div.sk-parallel-item:only-child::after {\n",
       "  width: 0;\n",
       "}\n",
       "\n",
       "/* Serial-specific style estimator block */\n",
       "\n",
       "#sk-container-id-1 div.sk-serial {\n",
       "  display: flex;\n",
       "  flex-direction: column;\n",
       "  align-items: center;\n",
       "  background-color: var(--sklearn-color-background);\n",
       "  padding-right: 1em;\n",
       "  padding-left: 1em;\n",
       "}\n",
       "\n",
       "\n",
       "/* Toggleable style: style used for estimator/Pipeline/ColumnTransformer box that is\n",
       "clickable and can be expanded/collapsed.\n",
       "- Pipeline and ColumnTransformer use this feature and define the default style\n",
       "- Estimators will overwrite some part of the style using the `sk-estimator` class\n",
       "*/\n",
       "\n",
       "/* Pipeline and ColumnTransformer style (default) */\n",
       "\n",
       "#sk-container-id-1 div.sk-toggleable {\n",
       "  /* Default theme specific background. It is overwritten whether we have a\n",
       "  specific estimator or a Pipeline/ColumnTransformer */\n",
       "  background-color: var(--sklearn-color-background);\n",
       "}\n",
       "\n",
       "/* Toggleable label */\n",
       "#sk-container-id-1 label.sk-toggleable__label {\n",
       "  cursor: pointer;\n",
       "  display: block;\n",
       "  width: 100%;\n",
       "  margin-bottom: 0;\n",
       "  padding: 0.5em;\n",
       "  box-sizing: border-box;\n",
       "  text-align: center;\n",
       "}\n",
       "\n",
       "#sk-container-id-1 label.sk-toggleable__label-arrow:before {\n",
       "  /* Arrow on the left of the label */\n",
       "  content: \"▸\";\n",
       "  float: left;\n",
       "  margin-right: 0.25em;\n",
       "  color: var(--sklearn-color-icon);\n",
       "}\n",
       "\n",
       "#sk-container-id-1 label.sk-toggleable__label-arrow:hover:before {\n",
       "  color: var(--sklearn-color-text);\n",
       "}\n",
       "\n",
       "/* Toggleable content - dropdown */\n",
       "\n",
       "#sk-container-id-1 div.sk-toggleable__content {\n",
       "  max-height: 0;\n",
       "  max-width: 0;\n",
       "  overflow: hidden;\n",
       "  text-align: left;\n",
       "  /* unfitted */\n",
       "  background-color: var(--sklearn-color-unfitted-level-0);\n",
       "}\n",
       "\n",
       "#sk-container-id-1 div.sk-toggleable__content.fitted {\n",
       "  /* fitted */\n",
       "  background-color: var(--sklearn-color-fitted-level-0);\n",
       "}\n",
       "\n",
       "#sk-container-id-1 div.sk-toggleable__content pre {\n",
       "  margin: 0.2em;\n",
       "  border-radius: 0.25em;\n",
       "  color: var(--sklearn-color-text);\n",
       "  /* unfitted */\n",
       "  background-color: var(--sklearn-color-unfitted-level-0);\n",
       "}\n",
       "\n",
       "#sk-container-id-1 div.sk-toggleable__content.fitted pre {\n",
       "  /* unfitted */\n",
       "  background-color: var(--sklearn-color-fitted-level-0);\n",
       "}\n",
       "\n",
       "#sk-container-id-1 input.sk-toggleable__control:checked~div.sk-toggleable__content {\n",
       "  /* Expand drop-down */\n",
       "  max-height: 200px;\n",
       "  max-width: 100%;\n",
       "  overflow: auto;\n",
       "}\n",
       "\n",
       "#sk-container-id-1 input.sk-toggleable__control:checked~label.sk-toggleable__label-arrow:before {\n",
       "  content: \"▾\";\n",
       "}\n",
       "\n",
       "/* Pipeline/ColumnTransformer-specific style */\n",
       "\n",
       "#sk-container-id-1 div.sk-label input.sk-toggleable__control:checked~label.sk-toggleable__label {\n",
       "  color: var(--sklearn-color-text);\n",
       "  background-color: var(--sklearn-color-unfitted-level-2);\n",
       "}\n",
       "\n",
       "#sk-container-id-1 div.sk-label.fitted input.sk-toggleable__control:checked~label.sk-toggleable__label {\n",
       "  background-color: var(--sklearn-color-fitted-level-2);\n",
       "}\n",
       "\n",
       "/* Estimator-specific style */\n",
       "\n",
       "/* Colorize estimator box */\n",
       "#sk-container-id-1 div.sk-estimator input.sk-toggleable__control:checked~label.sk-toggleable__label {\n",
       "  /* unfitted */\n",
       "  background-color: var(--sklearn-color-unfitted-level-2);\n",
       "}\n",
       "\n",
       "#sk-container-id-1 div.sk-estimator.fitted input.sk-toggleable__control:checked~label.sk-toggleable__label {\n",
       "  /* fitted */\n",
       "  background-color: var(--sklearn-color-fitted-level-2);\n",
       "}\n",
       "\n",
       "#sk-container-id-1 div.sk-label label.sk-toggleable__label,\n",
       "#sk-container-id-1 div.sk-label label {\n",
       "  /* The background is the default theme color */\n",
       "  color: var(--sklearn-color-text-on-default-background);\n",
       "}\n",
       "\n",
       "/* On hover, darken the color of the background */\n",
       "#sk-container-id-1 div.sk-label:hover label.sk-toggleable__label {\n",
       "  color: var(--sklearn-color-text);\n",
       "  background-color: var(--sklearn-color-unfitted-level-2);\n",
       "}\n",
       "\n",
       "/* Label box, darken color on hover, fitted */\n",
       "#sk-container-id-1 div.sk-label.fitted:hover label.sk-toggleable__label.fitted {\n",
       "  color: var(--sklearn-color-text);\n",
       "  background-color: var(--sklearn-color-fitted-level-2);\n",
       "}\n",
       "\n",
       "/* Estimator label */\n",
       "\n",
       "#sk-container-id-1 div.sk-label label {\n",
       "  font-family: monospace;\n",
       "  font-weight: bold;\n",
       "  display: inline-block;\n",
       "  line-height: 1.2em;\n",
       "}\n",
       "\n",
       "#sk-container-id-1 div.sk-label-container {\n",
       "  text-align: center;\n",
       "}\n",
       "\n",
       "/* Estimator-specific */\n",
       "#sk-container-id-1 div.sk-estimator {\n",
       "  font-family: monospace;\n",
       "  border: 1px dotted var(--sklearn-color-border-box);\n",
       "  border-radius: 0.25em;\n",
       "  box-sizing: border-box;\n",
       "  margin-bottom: 0.5em;\n",
       "  /* unfitted */\n",
       "  background-color: var(--sklearn-color-unfitted-level-0);\n",
       "}\n",
       "\n",
       "#sk-container-id-1 div.sk-estimator.fitted {\n",
       "  /* fitted */\n",
       "  background-color: var(--sklearn-color-fitted-level-0);\n",
       "}\n",
       "\n",
       "/* on hover */\n",
       "#sk-container-id-1 div.sk-estimator:hover {\n",
       "  /* unfitted */\n",
       "  background-color: var(--sklearn-color-unfitted-level-2);\n",
       "}\n",
       "\n",
       "#sk-container-id-1 div.sk-estimator.fitted:hover {\n",
       "  /* fitted */\n",
       "  background-color: var(--sklearn-color-fitted-level-2);\n",
       "}\n",
       "\n",
       "/* Specification for estimator info (e.g. \"i\" and \"?\") */\n",
       "\n",
       "/* Common style for \"i\" and \"?\" */\n",
       "\n",
       ".sk-estimator-doc-link,\n",
       "a:link.sk-estimator-doc-link,\n",
       "a:visited.sk-estimator-doc-link {\n",
       "  float: right;\n",
       "  font-size: smaller;\n",
       "  line-height: 1em;\n",
       "  font-family: monospace;\n",
       "  background-color: var(--sklearn-color-background);\n",
       "  border-radius: 1em;\n",
       "  height: 1em;\n",
       "  width: 1em;\n",
       "  text-decoration: none !important;\n",
       "  margin-left: 1ex;\n",
       "  /* unfitted */\n",
       "  border: var(--sklearn-color-unfitted-level-1) 1pt solid;\n",
       "  color: var(--sklearn-color-unfitted-level-1);\n",
       "}\n",
       "\n",
       ".sk-estimator-doc-link.fitted,\n",
       "a:link.sk-estimator-doc-link.fitted,\n",
       "a:visited.sk-estimator-doc-link.fitted {\n",
       "  /* fitted */\n",
       "  border: var(--sklearn-color-fitted-level-1) 1pt solid;\n",
       "  color: var(--sklearn-color-fitted-level-1);\n",
       "}\n",
       "\n",
       "/* On hover */\n",
       "div.sk-estimator:hover .sk-estimator-doc-link:hover,\n",
       ".sk-estimator-doc-link:hover,\n",
       "div.sk-label-container:hover .sk-estimator-doc-link:hover,\n",
       ".sk-estimator-doc-link:hover {\n",
       "  /* unfitted */\n",
       "  background-color: var(--sklearn-color-unfitted-level-3);\n",
       "  color: var(--sklearn-color-background);\n",
       "  text-decoration: none;\n",
       "}\n",
       "\n",
       "div.sk-estimator.fitted:hover .sk-estimator-doc-link.fitted:hover,\n",
       ".sk-estimator-doc-link.fitted:hover,\n",
       "div.sk-label-container:hover .sk-estimator-doc-link.fitted:hover,\n",
       ".sk-estimator-doc-link.fitted:hover {\n",
       "  /* fitted */\n",
       "  background-color: var(--sklearn-color-fitted-level-3);\n",
       "  color: var(--sklearn-color-background);\n",
       "  text-decoration: none;\n",
       "}\n",
       "\n",
       "/* Span, style for the box shown on hovering the info icon */\n",
       ".sk-estimator-doc-link span {\n",
       "  display: none;\n",
       "  z-index: 9999;\n",
       "  position: relative;\n",
       "  font-weight: normal;\n",
       "  right: .2ex;\n",
       "  padding: .5ex;\n",
       "  margin: .5ex;\n",
       "  width: min-content;\n",
       "  min-width: 20ex;\n",
       "  max-width: 50ex;\n",
       "  color: var(--sklearn-color-text);\n",
       "  box-shadow: 2pt 2pt 4pt #999;\n",
       "  /* unfitted */\n",
       "  background: var(--sklearn-color-unfitted-level-0);\n",
       "  border: .5pt solid var(--sklearn-color-unfitted-level-3);\n",
       "}\n",
       "\n",
       ".sk-estimator-doc-link.fitted span {\n",
       "  /* fitted */\n",
       "  background: var(--sklearn-color-fitted-level-0);\n",
       "  border: var(--sklearn-color-fitted-level-3);\n",
       "}\n",
       "\n",
       ".sk-estimator-doc-link:hover span {\n",
       "  display: block;\n",
       "}\n",
       "\n",
       "/* \"?\"-specific style due to the `<a>` HTML tag */\n",
       "\n",
       "#sk-container-id-1 a.estimator_doc_link {\n",
       "  float: right;\n",
       "  font-size: 1rem;\n",
       "  line-height: 1em;\n",
       "  font-family: monospace;\n",
       "  background-color: var(--sklearn-color-background);\n",
       "  border-radius: 1rem;\n",
       "  height: 1rem;\n",
       "  width: 1rem;\n",
       "  text-decoration: none;\n",
       "  /* unfitted */\n",
       "  color: var(--sklearn-color-unfitted-level-1);\n",
       "  border: var(--sklearn-color-unfitted-level-1) 1pt solid;\n",
       "}\n",
       "\n",
       "#sk-container-id-1 a.estimator_doc_link.fitted {\n",
       "  /* fitted */\n",
       "  border: var(--sklearn-color-fitted-level-1) 1pt solid;\n",
       "  color: var(--sklearn-color-fitted-level-1);\n",
       "}\n",
       "\n",
       "/* On hover */\n",
       "#sk-container-id-1 a.estimator_doc_link:hover {\n",
       "  /* unfitted */\n",
       "  background-color: var(--sklearn-color-unfitted-level-3);\n",
       "  color: var(--sklearn-color-background);\n",
       "  text-decoration: none;\n",
       "}\n",
       "\n",
       "#sk-container-id-1 a.estimator_doc_link.fitted:hover {\n",
       "  /* fitted */\n",
       "  background-color: var(--sklearn-color-fitted-level-3);\n",
       "}\n",
       "</style><div id=\"sk-container-id-1\" class=\"sk-top-container\"><div class=\"sk-text-repr-fallback\"><pre>SVC(kernel=&#x27;linear&#x27;, random_state=10)</pre><b>In a Jupyter environment, please rerun this cell to show the HTML representation or trust the notebook. <br />On GitHub, the HTML representation is unable to render, please try loading this page with nbviewer.org.</b></div><div class=\"sk-container\" hidden><div class=\"sk-item\"><div class=\"sk-estimator fitted sk-toggleable\"><input class=\"sk-toggleable__control sk-hidden--visually\" id=\"sk-estimator-id-1\" type=\"checkbox\" checked><label for=\"sk-estimator-id-1\" class=\"sk-toggleable__label fitted sk-toggleable__label-arrow fitted\">&nbsp;&nbsp;SVC<a class=\"sk-estimator-doc-link fitted\" rel=\"noreferrer\" target=\"_blank\" href=\"https://scikit-learn.org/1.5/modules/generated/sklearn.svm.SVC.html\">?<span>Documentation for SVC</span></a><span class=\"sk-estimator-doc-link fitted\">i<span>Fitted</span></span></label><div class=\"sk-toggleable__content fitted\"><pre>SVC(kernel=&#x27;linear&#x27;, random_state=10)</pre></div> </div></div></div></div>"
      ],
      "text/plain": [
       "SVC(kernel='linear', random_state=10)"
      ]
     },
     "execution_count": 57,
     "metadata": {},
     "output_type": "execute_result"
    }
   ],
   "source": [
    "svm_model.fit(input_train, outputtrain)"
   ]
  },
  {
   "cell_type": "code",
   "execution_count": 58,
   "id": "c5441c06-2146-4f65-9c46-f8c0a819a563",
   "metadata": {},
   "outputs": [],
   "source": [
    "# make predictions on the test set."
   ]
  },
  {
   "cell_type": "code",
   "execution_count": 59,
   "id": "b87a4342-f114-4d3f-91a1-3eef045cab89",
   "metadata": {},
   "outputs": [],
   "source": [
    "y_pred = svm_model.predict(input_test)"
   ]
  },
  {
   "cell_type": "code",
   "execution_count": 60,
   "id": "f796ea95-40f7-44d6-84d2-42b436b0fd64",
   "metadata": {},
   "outputs": [],
   "source": [
    "#Evaluate the model's performance using various metrics"
   ]
  },
  {
   "cell_type": "code",
   "execution_count": 62,
   "id": "2c690ff2-8f51-4c6a-be6c-b0c7e4480f69",
   "metadata": {},
   "outputs": [],
   "source": [
    "# calculate accuracy\n",
    "accuracy = accuracy_score(y_pred,outputtest)"
   ]
  },
  {
   "cell_type": "code",
   "execution_count": 76,
   "id": "19baa2c5-bcee-47d3-b02e-60bcdba2f505",
   "metadata": {},
   "outputs": [
    {
     "name": "stdout",
     "output_type": "stream",
     "text": [
      "Accuracy : 64.69 %\n"
     ]
    }
   ],
   "source": [
    "print(f'Accuracy : {accuracy*100 :.2f} %')"
   ]
  },
  {
   "cell_type": "code",
   "execution_count": 78,
   "id": "63a68261-2369-4b60-a634-1e3cfdf893e6",
   "metadata": {},
   "outputs": [
    {
     "name": "stdout",
     "output_type": "stream",
     "text": [
      "Confusion Matrix:\n",
      "[[4707 2094]\n",
      " [2691 4058]]\n"
     ]
    }
   ],
   "source": [
    "# Confusion matrix\n",
    "conf_matrix = confusion_matrix(outputtest, y_pred)\n",
    "print('Confusion Matrix:')\n",
    "print(conf_matrix)"
   ]
  },
  {
   "cell_type": "code",
   "execution_count": 79,
   "id": "a3703050-f180-461d-b009-91e866466ec1",
   "metadata": {},
   "outputs": [],
   "source": [
    "# note that sum of all elements of the matrix is 13550"
   ]
  },
  {
   "cell_type": "code",
   "execution_count": 81,
   "id": "9a07f3d2-4aa3-4067-bd9e-fdc89d4ff1b3",
   "metadata": {},
   "outputs": [
    {
     "name": "stdout",
     "output_type": "stream",
     "text": [
      "Classification Report:\n",
      "              precision    recall  f1-score   support\n",
      "\n",
      "           0       0.64      0.69      0.66      6801\n",
      "           1       0.66      0.60      0.63      6749\n",
      "\n",
      "    accuracy                           0.65     13550\n",
      "   macro avg       0.65      0.65      0.65     13550\n",
      "weighted avg       0.65      0.65      0.65     13550\n",
      "\n"
     ]
    }
   ],
   "source": [
    "# Classification report\n",
    "class_report = classification_report(outputtest, y_pred)\n",
    "print('Classification Report:')\n",
    "print(class_report)"
   ]
  },
  {
   "cell_type": "code",
   "execution_count": null,
   "id": "319a34b7-3255-4da9-9423-93275be16721",
   "metadata": {},
   "outputs": [],
   "source": []
  }
 ],
 "metadata": {
  "kernelspec": {
   "display_name": "Python 3 (ipykernel)",
   "language": "python",
   "name": "python3"
  },
  "language_info": {
   "codemirror_mode": {
    "name": "ipython",
    "version": 3
   },
   "file_extension": ".py",
   "mimetype": "text/x-python",
   "name": "python",
   "nbconvert_exporter": "python",
   "pygments_lexer": "ipython3",
   "version": "3.12.3"
  }
 },
 "nbformat": 4,
 "nbformat_minor": 5
}
