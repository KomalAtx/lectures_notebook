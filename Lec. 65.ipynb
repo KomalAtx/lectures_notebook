{
 "cells": [
  {
   "cell_type": "code",
   "execution_count": 1,
   "id": "94176667-8ae4-499f-bad0-b2a0744d41b6",
   "metadata": {
    "editable": true,
    "slideshow": {
     "slide_type": ""
    },
    "tags": []
   },
   "outputs": [],
   "source": [
    "import pandas as pd\n",
    "import numpy as np"
   ]
  },
  {
   "cell_type": "code",
   "execution_count": 2,
   "id": "9d2b7078-95a0-49ec-808a-39b666f64a1b",
   "metadata": {},
   "outputs": [
    {
     "data": {
      "text/html": [
       "<div>\n",
       "<style scoped>\n",
       "    .dataframe tbody tr th:only-of-type {\n",
       "        vertical-align: middle;\n",
       "    }\n",
       "\n",
       "    .dataframe tbody tr th {\n",
       "        vertical-align: top;\n",
       "    }\n",
       "\n",
       "    .dataframe thead th {\n",
       "        text-align: right;\n",
       "    }\n",
       "</style>\n",
       "<table border=\"1\" class=\"dataframe\">\n",
       "  <thead>\n",
       "    <tr style=\"text-align: right;\">\n",
       "      <th></th>\n",
       "      <th>age</th>\n",
       "      <th>gender</th>\n",
       "      <th>height</th>\n",
       "      <th>weight</th>\n",
       "      <th>ap_hi</th>\n",
       "      <th>ap_lo</th>\n",
       "      <th>cholesterol</th>\n",
       "      <th>gluc</th>\n",
       "      <th>smoke</th>\n",
       "      <th>alco</th>\n",
       "      <th>active</th>\n",
       "      <th>cardio</th>\n",
       "    </tr>\n",
       "  </thead>\n",
       "  <tbody>\n",
       "    <tr>\n",
       "      <th>0</th>\n",
       "      <td>18393</td>\n",
       "      <td>male</td>\n",
       "      <td>168</td>\n",
       "      <td>62.0</td>\n",
       "      <td>110</td>\n",
       "      <td>80</td>\n",
       "      <td>chl_avg</td>\n",
       "      <td>glc_avg</td>\n",
       "      <td>0</td>\n",
       "      <td>0</td>\n",
       "      <td>1</td>\n",
       "      <td>0</td>\n",
       "    </tr>\n",
       "    <tr>\n",
       "      <th>1</th>\n",
       "      <td>20228</td>\n",
       "      <td>female</td>\n",
       "      <td>156</td>\n",
       "      <td>85.0</td>\n",
       "      <td>140</td>\n",
       "      <td>90</td>\n",
       "      <td>chl_high</td>\n",
       "      <td>glc_avg</td>\n",
       "      <td>0</td>\n",
       "      <td>0</td>\n",
       "      <td>1</td>\n",
       "      <td>1</td>\n",
       "    </tr>\n",
       "    <tr>\n",
       "      <th>2</th>\n",
       "      <td>18857</td>\n",
       "      <td>female</td>\n",
       "      <td>165</td>\n",
       "      <td>64.0</td>\n",
       "      <td>130</td>\n",
       "      <td>70</td>\n",
       "      <td>chl_high</td>\n",
       "      <td>glc_avg</td>\n",
       "      <td>0</td>\n",
       "      <td>0</td>\n",
       "      <td>0</td>\n",
       "      <td>1</td>\n",
       "    </tr>\n",
       "    <tr>\n",
       "      <th>3</th>\n",
       "      <td>17623</td>\n",
       "      <td>male</td>\n",
       "      <td>169</td>\n",
       "      <td>82.0</td>\n",
       "      <td>150</td>\n",
       "      <td>100</td>\n",
       "      <td>chl_avg</td>\n",
       "      <td>glc_avg</td>\n",
       "      <td>0</td>\n",
       "      <td>0</td>\n",
       "      <td>1</td>\n",
       "      <td>1</td>\n",
       "    </tr>\n",
       "    <tr>\n",
       "      <th>4</th>\n",
       "      <td>17474</td>\n",
       "      <td>female</td>\n",
       "      <td>156</td>\n",
       "      <td>56.0</td>\n",
       "      <td>100</td>\n",
       "      <td>60</td>\n",
       "      <td>chl_avg</td>\n",
       "      <td>glc_avg</td>\n",
       "      <td>0</td>\n",
       "      <td>0</td>\n",
       "      <td>0</td>\n",
       "      <td>0</td>\n",
       "    </tr>\n",
       "    <tr>\n",
       "      <th>...</th>\n",
       "      <td>...</td>\n",
       "      <td>...</td>\n",
       "      <td>...</td>\n",
       "      <td>...</td>\n",
       "      <td>...</td>\n",
       "      <td>...</td>\n",
       "      <td>...</td>\n",
       "      <td>...</td>\n",
       "      <td>...</td>\n",
       "      <td>...</td>\n",
       "      <td>...</td>\n",
       "      <td>...</td>\n",
       "    </tr>\n",
       "    <tr>\n",
       "      <th>67741</th>\n",
       "      <td>19240</td>\n",
       "      <td>male</td>\n",
       "      <td>168</td>\n",
       "      <td>76.0</td>\n",
       "      <td>120</td>\n",
       "      <td>80</td>\n",
       "      <td>chl_avg</td>\n",
       "      <td>glc_avg</td>\n",
       "      <td>1</td>\n",
       "      <td>0</td>\n",
       "      <td>1</td>\n",
       "      <td>0</td>\n",
       "    </tr>\n",
       "    <tr>\n",
       "      <th>67742</th>\n",
       "      <td>22601</td>\n",
       "      <td>female</td>\n",
       "      <td>158</td>\n",
       "      <td>126.0</td>\n",
       "      <td>140</td>\n",
       "      <td>90</td>\n",
       "      <td>chl_aboveavg</td>\n",
       "      <td>glc_aboveavg</td>\n",
       "      <td>0</td>\n",
       "      <td>0</td>\n",
       "      <td>1</td>\n",
       "      <td>1</td>\n",
       "    </tr>\n",
       "    <tr>\n",
       "      <th>67743</th>\n",
       "      <td>19066</td>\n",
       "      <td>male</td>\n",
       "      <td>183</td>\n",
       "      <td>105.0</td>\n",
       "      <td>180</td>\n",
       "      <td>90</td>\n",
       "      <td>chl_high</td>\n",
       "      <td>glc_avg</td>\n",
       "      <td>0</td>\n",
       "      <td>1</td>\n",
       "      <td>0</td>\n",
       "      <td>1</td>\n",
       "    </tr>\n",
       "    <tr>\n",
       "      <th>67744</th>\n",
       "      <td>22431</td>\n",
       "      <td>female</td>\n",
       "      <td>163</td>\n",
       "      <td>72.0</td>\n",
       "      <td>135</td>\n",
       "      <td>80</td>\n",
       "      <td>chl_avg</td>\n",
       "      <td>glc_aboveavg</td>\n",
       "      <td>0</td>\n",
       "      <td>0</td>\n",
       "      <td>0</td>\n",
       "      <td>1</td>\n",
       "    </tr>\n",
       "    <tr>\n",
       "      <th>67745</th>\n",
       "      <td>20540</td>\n",
       "      <td>female</td>\n",
       "      <td>170</td>\n",
       "      <td>72.0</td>\n",
       "      <td>120</td>\n",
       "      <td>80</td>\n",
       "      <td>chl_aboveavg</td>\n",
       "      <td>glc_avg</td>\n",
       "      <td>0</td>\n",
       "      <td>0</td>\n",
       "      <td>1</td>\n",
       "      <td>0</td>\n",
       "    </tr>\n",
       "  </tbody>\n",
       "</table>\n",
       "<p>67746 rows × 12 columns</p>\n",
       "</div>"
      ],
      "text/plain": [
       "         age  gender  height  weight  ap_hi  ap_lo   cholesterol  \\\n",
       "0      18393    male     168    62.0    110     80       chl_avg   \n",
       "1      20228  female     156    85.0    140     90      chl_high   \n",
       "2      18857  female     165    64.0    130     70      chl_high   \n",
       "3      17623    male     169    82.0    150    100       chl_avg   \n",
       "4      17474  female     156    56.0    100     60       chl_avg   \n",
       "...      ...     ...     ...     ...    ...    ...           ...   \n",
       "67741  19240    male     168    76.0    120     80       chl_avg   \n",
       "67742  22601  female     158   126.0    140     90  chl_aboveavg   \n",
       "67743  19066    male     183   105.0    180     90      chl_high   \n",
       "67744  22431  female     163    72.0    135     80       chl_avg   \n",
       "67745  20540  female     170    72.0    120     80  chl_aboveavg   \n",
       "\n",
       "               gluc  smoke  alco  active  cardio  \n",
       "0           glc_avg      0     0       1       0  \n",
       "1           glc_avg      0     0       1       1  \n",
       "2           glc_avg      0     0       0       1  \n",
       "3           glc_avg      0     0       1       1  \n",
       "4           glc_avg      0     0       0       0  \n",
       "...             ...    ...   ...     ...     ...  \n",
       "67741       glc_avg      1     0       1       0  \n",
       "67742  glc_aboveavg      0     0       1       1  \n",
       "67743       glc_avg      0     1       0       1  \n",
       "67744  glc_aboveavg      0     0       0       1  \n",
       "67745       glc_avg      0     0       1       0  \n",
       "\n",
       "[67746 rows x 12 columns]"
      ]
     },
     "execution_count": 2,
     "metadata": {},
     "output_type": "execute_result"
    }
   ],
   "source": [
    "datafile = pd.read_csv('cardiocleaned.csv')   #reading the cleaned dataset\n",
    "\n",
    "label = datafile['cardio'].values   #  y_ y is separated in a list called as label\n",
    "data = datafile.drop(['cardio'], axis = 1)    #input x is separated in form of Dataframe called as data \n",
    "datafile"
   ]
  },
  {
   "cell_type": "code",
   "execution_count": 3,
   "id": "23120273-c41e-489f-a3a4-83f4012e2652",
   "metadata": {},
   "outputs": [
    {
     "name": "stdout",
     "output_type": "stream",
     "text": [
      "(54196, 11) (13550, 11) (54196,) (13550,)\n"
     ]
    }
   ],
   "source": [
    "# split data into training, validation, testing data\n",
    "from sklearn.model_selection import train_test_split   #class to split data\n",
    "\n",
    "x_train, x_test, y_train, y_test = train_test_split(data, label, test_size = 0.2, stratify = label)\n",
    "\n",
    "print(x_train.shape, x_test.shape, y_train.shape, y_test.shape)\n"
   ]
  },
  {
   "cell_type": "code",
   "execution_count": 4,
   "id": "5c12a818-b0c3-4caf-937c-ddd752049faf",
   "metadata": {},
   "outputs": [
    {
     "name": "stdout",
     "output_type": "stream",
     "text": [
      "<class 'numpy.ndarray'> (54196, 1) <class 'numpy.ndarray'> (13550, 1)\n"
     ]
    },
    {
     "name": "stderr",
     "output_type": "stream",
     "text": [
      "/home/komal/anaconda3/envs/myenv/lib/python3.12/site-packages/sklearn/base.py:486: UserWarning: X has feature names, but MinMaxScaler was fitted without feature names\n",
      "  warnings.warn(\n"
     ]
    }
   ],
   "source": [
    "#scaling age (in days) , scaling height (in cm), weight (in kg), ap_hi, ap_lo (Numerical data) using Min-Max Scaler\n",
    "\n",
    "from sklearn.preprocessing import MinMaxScaler\n",
    "scale = MinMaxScaler()      #reshape(-1,1) convert sparse csr matrix into numpy array\n",
    "\n",
    "scale.fit(x_train['age'].values.reshape(-1,1)) \n",
    "x_train_age = scale.transform(x_train[['age']])  \n",
    "x_test_age = scale.transform(x_test['age'].values.reshape(-1,1))\n",
    "\n",
    "scale.fit(x_train['height'].values.reshape(-1,1)) \n",
    "x_train_height = scale.transform(x_train['height'].values.reshape(-1,1))  \n",
    "x_test_height = scale.transform(x_test['height'].values.reshape(-1,1))\n",
    "\n",
    "scale.fit(x_train['weight'].values.reshape(-1,1)) \n",
    "x_train_weight = scale.transform(x_train['weight'].values.reshape(-1,1))  \n",
    "x_test_weight = scale.transform(x_test['weight'].values.reshape(-1,1))\n",
    "\n",
    "scale.fit(x_train['ap_hi'].values.reshape(-1,1)) \n",
    "x_train_ap_hi = scale.transform(x_train['ap_hi'].values.reshape(-1,1))  \n",
    "x_test_ap_hi = scale.transform(x_test['ap_hi'].values.reshape(-1,1))\n",
    "\n",
    "scale.fit(x_train['ap_lo'].values.reshape(-1,1)) \n",
    "x_train_ap_lo = scale.transform(x_train['ap_lo'].values.reshape(-1,1))  \n",
    "x_test_ap_lo = scale.transform(x_test['ap_lo'].values.reshape(-1,1))\n",
    "\n",
    "print(type(x_train_age), x_train_age.shape, type(x_test_age), x_test_age.shape)"
   ]
  },
  {
   "cell_type": "code",
   "execution_count": 5,
   "id": "6a7ce9f1-738d-44cd-9a77-99378c2f8bfb",
   "metadata": {},
   "outputs": [
    {
     "name": "stdout",
     "output_type": "stream",
     "text": [
      "<class 'scipy.sparse._csr.csr_matrix'> (54196, 2) <class 'scipy.sparse._csr.csr_matrix'> (13550, 2)\n"
     ]
    }
   ],
   "source": [
    "# convert gender, cholesterol, glucose (categorical data) into One Hot Encoding\n",
    "\n",
    "from sklearn.feature_extraction.text import CountVectorizer  \n",
    "\n",
    "vec = CountVectorizer()\n",
    "\n",
    "vec.fit(x_train['gender'].values)\n",
    "x_train_gender = vec.transform(x_train['gender'].values)  \n",
    "x_test_gender = vec.transform(x_test['gender'].values)\n",
    "\n",
    "vec.fit(x_train['cholesterol'].values)\n",
    "x_train_cholesterol = vec.transform(x_train['cholesterol'].values)  \n",
    "x_test_cholesterol = vec.transform(x_test['cholesterol'].values)\n",
    "\n",
    "vec.fit(x_train['gluc'].values)\n",
    "x_train_gluc = vec.transform(x_train['gluc'].values)  \n",
    "x_test_gluc = vec.transform(x_test['gluc'].values)\n",
    "\n",
    "print(type(x_train_gender), x_train_gender.shape, type(x_test_gender), x_test_gender.shape)"
   ]
  },
  {
   "cell_type": "code",
   "execution_count": 6,
   "id": "1f19e896-5a98-4631-8538-1c22e468a819",
   "metadata": {},
   "outputs": [],
   "source": [
    "# smoke, alco, active, binary only 0/1 (Yes/No) hence no need to convert into One Hot Encoding or min max scaling\n",
    "\n",
    "#just taking separately and converting sparse csr matrix form in np array form\n",
    "\n",
    "x_train_smoke = x_train['smoke'].values.reshape(-1,1)\n",
    "x_test_smoke = x_test['smoke'].values.reshape(-1,1)\n",
    "\n",
    "x_train_alco = x_train['alco'].values.reshape(-1,1)\n",
    "x_test_alco = x_test['alco'].values.reshape(-1,1)\n",
    "\n",
    "x_train_active = x_train['active'].values.reshape(-1,1)\n",
    "x_test_active = x_test['active'].values.reshape(-1,1)"
   ]
  },
  {
   "cell_type": "code",
   "execution_count": 7,
   "id": "c1f06be6-2e01-4f46-b22a-b911f4da0f09",
   "metadata": {},
   "outputs": [
    {
     "name": "stdout",
     "output_type": "stream",
     "text": [
      "x_train_processed and x_test_processed type:  <class 'scipy.sparse._coo.coo_matrix'> <class 'scipy.sparse._coo.coo_matrix'> \n",
      "\n",
      "x_train_processed and x_test_processed type:  <class 'numpy.ndarray'> <class 'numpy.ndarray'>\n",
      "x_train_processed and x_test_processed shape:  (54196, 16) (13550, 16)\n",
      "\n",
      "Some random row of x_train_processed for checking:\n",
      "[0.92024777 1.         0.         0.32307692 0.05333333 0.38888889\n",
      " 0.35714286 0.         1.         0.         0.         1.\n",
      " 0.         0.         0.         0.        ]\n",
      "y_train and y_test type:  <class 'numpy.ndarray'> <class 'numpy.ndarray'>\n",
      "y_train and y_test shape:  (54196, 1) (13550, 1)\n"
     ]
    }
   ],
   "source": [
    "# stack arrays horizontally\n",
    "\n",
    "from scipy.sparse import hstack\n",
    "\n",
    "x_train_processed = hstack((x_train_age, x_train_gender, x_train_height, x_train_weight, x_train_ap_hi, x_train_ap_lo, x_train_cholesterol, x_train_gluc, x_train_smoke, x_train_alco, x_train_active))\n",
    "x_test_processed = hstack((x_test_age, x_test_gender, x_test_height, x_test_weight, x_test_ap_hi, x_test_ap_lo, x_test_cholesterol, x_test_gluc, x_test_smoke, x_test_alco, x_test_active))\n",
    "\n",
    "print(\"x_train_processed and x_test_processed type: \",type(x_train_processed), type(x_test_processed), \"\\n\")\n",
    "\n",
    "x_train_processed = x_train_processed.toarray()\n",
    "x_test_processed = x_test_processed.toarray()\n",
    "\n",
    "print(\"x_train_processed and x_test_processed type: \",type(x_train_processed), type(x_test_processed))\n",
    "print(\"x_train_processed and x_test_processed shape: \",x_train_processed.shape, x_test_processed.shape)\n",
    "\n",
    "print(f\"\\nSome random row of x_train_processed for checking:\\n{x_train_processed[38180]}\")\n",
    "\n",
    "y_train = y_train.reshape(-1,1)\n",
    "y_test = y_test.reshape(-1,1)\n",
    "\n",
    "print(\"y_train and y_test type: \",type(y_train), type(y_test))\n",
    "print(\"y_train and y_test shape: \",y_train.shape, y_test.shape)"
   ]
  },
  {
   "cell_type": "code",
   "execution_count": 31,
   "id": "6c72811f-fa6b-4c59-9075-307d73349ddc",
   "metadata": {
    "scrolled": true
   },
   "outputs": [],
   "source": [
    "### K Nearest Neighbor"
   ]
  },
  {
   "cell_type": "code",
   "execution_count": 32,
   "id": "bca43323-8bea-456d-8e16-22a3808dd5ef",
   "metadata": {},
   "outputs": [],
   "source": [
    "# Packages required\n",
    "\n",
    "import math\n",
    "from sklearn import model_selection\n",
    "from sklearn.model_selection  import GridSearchCV\n",
    "from sklearn. import   #it doesn't take count into consideration\n",
    "import numpy as np\n",
    "import pandas as pd\n",
    "import matplotlib.pyplot as plt"
   ]
  },
  {
   "cell_type": "code",
   "execution_count": 33,
   "id": "51f41031-9152-4be2-9b0e-31bffe587779",
   "metadata": {},
   "outputs": [
    {
     "name": "stdout",
     "output_type": "stream",
     "text": [
      "Predicted output on Testing Data: [0 0 0 ... 0 0 0]\n",
      "Confusion Matrix :\n",
      "[[5284 1517]\n",
      " [3093 3656]]\n"
     ]
    },
    {
     "name": "stderr",
     "output_type": "stream",
     "text": [
      "/home/komal/anaconda3/envs/myenv/lib/python3.12/site-packages/sklearn/utils/validation.py:1339: DataConversionWarning: A column-vector y was passed when a 1d array was expected. Please change the shape of y to (n_samples, ), for example using ravel().\n",
      "  y = column_or_1d(y, warn=True)\n"
     ]
    },
    {
     "data": {
      "image/png": "[encoded data removed]",
      "text/plain": [
       "<Figure size 640x480 with 2 Axes>"
      ]
     },
     "metadata": {},
     "output_type": "display_data"
    },
    {
     "name": "stdout",
     "output_type": "stream",
     "text": [
      "accuracy score :\n",
      "0.6597785977859778\n"
     ]
    }
   ],
   "source": [
    "\n",
    "naive_m1 = GaussianNB()\n",
    "\n",
    "# Fitting the Model M1 on training data\n",
    "naive_bayes_m1.fit(x_train_processed, y_train)\n",
    "\n",
    "#predicting output (class) on testing data\n",
    "y_test_pred = naive_bayes_m1.predict(x_test_processed)   \n",
    "print(f\"Predicted output on Testing Data: {y_test_pred}\")\n",
    "\n",
    "# Plotting confusion matrix (FPR, TPR, FNR, TNR)\n",
    "\n",
    "from sklearn.metrics import confusion_matrix, accuracy_score\n",
    "import seaborn as sns     #for heatmap\n",
    "\n",
    "### Confusion matrix\n",
    "confusionmatrix = confusion_matrix(y_test, y_test_pred)\n",
    "print(f\"Confusion Matrix :\\n{confusionmatrix}\") \n",
    "# Actuacl -> Vertical (0,1), Predicted -> Horizontal (0,1)\n",
    "\n",
    "#Visualizing confusion matrix using  Heat-map (Seaborn library's function)\n",
    "ax= sns.heatmap(confusionmatrix, annot=True, fmt='d', cmap='Blues')\n",
    "ax.set_ylim([0,2])\n",
    "#Customize the plot with additional settings from Matplotlib\n",
    "plt.xlabel('predicted values')\n",
    "plt.ylabel('actual values')\n",
    "plt.title('Confusion Matrix Heatmap')\n",
    "plt.show()\n",
    "\n",
    "# annot=True: Adds numerical annotations to each cell in the heatmap for better readability.\n",
    "# fmt='d': Specifies that the annotations should be formatted as integers.\n",
    "# cmap='Blues': Specifies the color map to use for the heatmap, in this case, shades of blue.\n",
    "\n",
    "### Accuracy Score\n",
    "accuracyscore = accuracy_score(y_test, y_test_pred)\n",
    "print(f\"accuracy score :\\n{accuracyscore}\")"
   ]
  },
  {
   "cell_type": "code",
   "execution_count": null,
   "id": "9346dae8-dec6-4afc-971a-1c9aab1c719a",
   "metadata": {},
   "outputs": [],
   "source": []
  },
  {
   "cell_type": "code",
   "execution_count": null,
   "id": "bacfd383-b320-40cc-8a7b-b8af79bce1bb",
   "metadata": {},
   "outputs": [],
   "source": []
  }
 ],
 "metadata": {
  "kernelspec": {
   "display_name": "Python 3 (ipykernel)",
   "language": "python",
   "name": "python3"
  },
  "language_info": {
   "codemirror_mode": {
    "name": "ipython",
    "version": 3
   },
   "file_extension": ".py",
   "mimetype": "text/x-python",
   "name": "python",
   "nbconvert_exporter": "python",
   "pygments_lexer": "ipython3",
   "version": "3.12.3"
  }
 },
 "nbformat": 4,
 "nbformat_minor": 5
}
