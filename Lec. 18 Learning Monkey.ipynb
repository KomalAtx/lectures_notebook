{
 "cells": [
  {
   "cell_type": "code",
   "execution_count": 47,
   "id": "806b423e-ecaa-4044-9e96-1ece48d05e83",
   "metadata": {},
   "outputs": [],
   "source": [
    "import pandas as pd\n",
    "import numpy as np\n",
    "import string"
   ]
  },
  {
   "cell_type": "code",
   "execution_count": 48,
   "id": "54e188ee-5a6a-4c21-9dff-c4241e29313c",
   "metadata": {},
   "outputs": [
    {
     "name": "stdout",
     "output_type": "stream",
     "text": [
      "(72311, 5)\n"
     ]
    }
   ],
   "source": [
    "#Reading the data file into a DataFrame and checking the shape\n",
    "data = pd.read_csv('/home/komal/Downloads/AmazonMobileDataUncleaned.csv', encoding = \"ISO-8859-1\")\n",
    "print(data.shape)"
   ]
  },
  {
   "cell_type": "code",
   "execution_count": 49,
   "id": "cb56154b-5796-4b40-a62c-78dfd11c6297",
   "metadata": {},
   "outputs": [
    {
     "name": "stdout",
     "output_type": "stream",
     "text": [
      "Index(['uncleanedreview', 'decision', 'Unnamed: 2', 'Unnamed: 3',\n",
      "       'Unnamed: 4'],\n",
      "      dtype='object')\n"
     ]
    }
   ],
   "source": [
    "print(data.columns)"
   ]
  },
  {
   "cell_type": "code",
   "execution_count": 50,
   "id": "c2c244bb-2bb4-4c24-9d8c-96d086581eff",
   "metadata": {},
   "outputs": [
    {
     "name": "stdout",
     "output_type": "stream",
     "text": [
      "(72311, 2)\n"
     ]
    }
   ],
   "source": [
    "data.drop(['Unnamed: 2','Unnamed: 3', 'Unnamed: 4'], axis=1,inplace=True)\n",
    "print(data.shape)"
   ]
  },
  {
   "cell_type": "code",
   "execution_count": 51,
   "id": "0db44b31-2310-40fe-88a0-f0a5cb871655",
   "metadata": {},
   "outputs": [
    {
     "data": {
      "text/plain": [
       "'!\"#$%&\\'()*+,-./:;<=>?@[\\\\]^_`{|}~'"
      ]
     },
     "execution_count": 51,
     "metadata": {},
     "output_type": "execute_result"
    }
   ],
   "source": [
    "string.punctuation"
   ]
  },
  {
   "cell_type": "code",
   "execution_count": 52,
   "id": "932495b5-d5f5-4621-b5a9-e6f462ebf174",
   "metadata": {},
   "outputs": [],
   "source": [
    "# Function to remove punctuations and digits from the text\n",
    "def removepunctuation(text):\n",
    "    p = set(string.punctuation) #p take all the punctuations displayed above\n",
    "    text = text.lower()    #convert text to lower case\n",
    "    words = text.split()   #split the text into a list of words\n",
    "    c_words_list = []\n",
    "    for i in range(10): #adding numbers from 0-9 to p\n",
    "        p.add(str(i))\n",
    "    for i in words:\n",
    "        t = ''.join([x for x in i.encode(\"ascii\",\"ignore\").decode(\"ascii\")if x not in p])\n",
    "        # (string).encode(\"ascii\",\"ignore\").decode(\"ascii\") means : first encode the string i Ascii char in bytes and ignore the non - Ascii char \n",
    "        # then decode the ascii characters. Note here each string i is a word eg. mobile so it has characters 'm' ,'o', 'b', 'i', 'l', 'e'.\n",
    "        c_words_list.append(t)\n",
    "        # eg. ctext = ['this','mobile','is','good']\n",
    "    cleaned_text = \" \".join([i for i in c_words_list])    #joining the cleaned words to sentence \n",
    "    return cleaned_text   #returns a string\n",
    "    # eg. cleaned_text = 'this mobile is good'"
   ]
  },
  {
   "cell_type": "code",
   "execution_count": 53,
   "id": "8b015bba-c3b6-40e6-aa51-bdb88e4d70e2",
   "metadata": {},
   "outputs": [],
   "source": [
    "uncleaned = [i  for i in data.uncleanedreview]     #list of uncleaned reviews \n",
    "cleaned = []    #list of cleaned reviews\n",
    "\n",
    "for i in uncleaned:\n",
    "    try: \n",
    "        creview = removepunctuation(i)   #calling function removepuctuation() that returnn a string\n",
    "        if len(creview) == 0: raise()\n",
    "        cleaned.append(creview)\n",
    "    except: \n",
    "        cleaned.append(\"NAN\")     \n",
    "    #list of cleaned reviews is ready"
   ]
  },
  {
   "cell_type": "code",
   "execution_count": 54,
   "id": "093a59ac-a8b4-414e-ba57-802a97309464",
   "metadata": {},
   "outputs": [
    {
     "name": "stdout",
     "output_type": "stream",
     "text": [
      "(72311, 3)\n"
     ]
    }
   ],
   "source": [
    "data['cleanedreview'] = cleaned    #attaching the cleaned reviews as a new column to the dataset\n",
    "print(data.shape)"
   ]
  },
  {
   "cell_type": "code",
   "execution_count": 55,
   "id": "482a7b89-af04-4d0b-a730-11d8a20ddea8",
   "metadata": {},
   "outputs": [
    {
     "data": {
      "text/html": [
       "<div>\n",
       "<style scoped>\n",
       "    .dataframe tbody tr th:only-of-type {\n",
       "        vertical-align: middle;\n",
       "    }\n",
       "\n",
       "    .dataframe tbody tr th {\n",
       "        vertical-align: top;\n",
       "    }\n",
       "\n",
       "    .dataframe thead th {\n",
       "        text-align: right;\n",
       "    }\n",
       "</style>\n",
       "<table border=\"1\" class=\"dataframe\">\n",
       "  <thead>\n",
       "    <tr style=\"text-align: right;\">\n",
       "      <th></th>\n",
       "      <th>uncleanedreview</th>\n",
       "      <th>decision</th>\n",
       "      <th>cleanedreview</th>\n",
       "    </tr>\n",
       "  </thead>\n",
       "  <tbody>\n",
       "    <tr>\n",
       "      <th>0</th>\n",
       "      <td>I had the Samsung A600 for awhile which is abs...</td>\n",
       "      <td>positive</td>\n",
       "      <td>i had the samsung a for awhile which is absolu...</td>\n",
       "    </tr>\n",
       "    <tr>\n",
       "      <th>1</th>\n",
       "      <td>Due to a software issue between Nokia and Spri...</td>\n",
       "      <td>positive</td>\n",
       "      <td>due to a software issue between nokia and spri...</td>\n",
       "    </tr>\n",
       "    <tr>\n",
       "      <th>2</th>\n",
       "      <td>This is a great, reliable phone. I also purcha...</td>\n",
       "      <td>positive</td>\n",
       "      <td>this is a great reliable phone i also purchase...</td>\n",
       "    </tr>\n",
       "    <tr>\n",
       "      <th>3</th>\n",
       "      <td>I love the phone and all, because I really did...</td>\n",
       "      <td>positive</td>\n",
       "      <td>i love the phone and all because i really did ...</td>\n",
       "    </tr>\n",
       "    <tr>\n",
       "      <th>4</th>\n",
       "      <td>The phone has been great for every purpose it ...</td>\n",
       "      <td>positive</td>\n",
       "      <td>the phone has been great for every purpose it ...</td>\n",
       "    </tr>\n",
       "    <tr>\n",
       "      <th>...</th>\n",
       "      <td>...</td>\n",
       "      <td>...</td>\n",
       "      <td>...</td>\n",
       "    </tr>\n",
       "    <tr>\n",
       "      <th>72306</th>\n",
       "      <td>b¹=º</td>\n",
       "      <td>NaN</td>\n",
       "      <td>b</td>\n",
       "    </tr>\n",
       "    <tr>\n",
       "      <th>72307</th>\n",
       "      <td>á@j\"·£òs</td>\n",
       "      <td>$\u0003vþh;ÛµfæKfy÷Dv2\u0013&lt;ò&amp;\u0017Àâ\u001c",
       "Iãß\u0019Û&gt;Ó¡¥(dÚê÷Öñê...</td>\n",
       "      <td>js</td>\n",
       "    </tr>\n",
       "    <tr>\n",
       "      <th>72308</th>\n",
       "      <td>$íò§«áç\u001c",
       "¶~ÐBø¢N\u001aú¥&lt;¸g¹ÑG)\u0013\u0001=#2KGF-AÝcð$Y´\u0012</td>\n",
       "      <td>NaN</td>\n",
       "      <td>bn\u001agg\u0013\u0001kgfacy\u0012</td>\n",
       "    </tr>\n",
       "    <tr>\n",
       "      <th>72309</th>\n",
       "      <td>þÿÛE\u0017©íÂ\u0013X×PEa5lKë</td>\n",
       "      <td>NaN</td>\n",
       "      <td>e\u0017\u0013xpealk</td>\n",
       "    </tr>\n",
       "    <tr>\n",
       "      <th>72310</th>\n",
       "      <td>?Ô!ä7B\u0007´}µë\\trÛ!â\u0006ÓÊ*\u0016</td>\n",
       "      <td>Âè¥Ç8\u0003Õ£Ãä</td>\n",
       "      <td>b\u0007 r\u0006\u0016</td>\n",
       "    </tr>\n",
       "  </tbody>\n",
       "</table>\n",
       "<p>72311 rows × 3 columns</p>\n",
       "</div>"
      ],
      "text/plain": [
       "                                         uncleanedreview  \\\n",
       "0      I had the Samsung A600 for awhile which is abs...   \n",
       "1      Due to a software issue between Nokia and Spri...   \n",
       "2      This is a great, reliable phone. I also purcha...   \n",
       "3      I love the phone and all, because I really did...   \n",
       "4      The phone has been great for every purpose it ...   \n",
       "...                                                  ...   \n",
       "72306                                               b¹=º   \n",
       "72307                                          á@j\"·£òs   \n",
       "72308     $íò§«áç\n",
       "¶~ÐBø¢N\u001aú¥<¸g¹ÑG)\u0013\u0001=#2KGF-AÝcð$Y´\u0012   \n",
       "72309                             þÿÛE\u0017©íÂ\u0013X×PEa5lKë   \n",
       "72310                           ?Ô!ä7B\u0007´}µë\\trÛ!â\u0006ÓÊ*\u0016   \n",
       "\n",
       "                                                decision  \\\n",
       "0                                               positive   \n",
       "1                                               positive   \n",
       "2                                               positive   \n",
       "3                                               positive   \n",
       "4                                               positive   \n",
       "...                                                  ...   \n",
       "72306                                                NaN   \n",
       "72307  $\u0003vþh;ÛµfæKfy÷Dv2\u0013<ò&\u0017Àâ\n",
       "Iãß\u0019Û>Ó¡¥(dÚê÷Öñê...   \n",
       "72308                                                NaN   \n",
       "72309                                                NaN   \n",
       "72310                                        Âè¥Ç8\u0003Õ£Ãä   \n",
       "\n",
       "                                           cleanedreview  \n",
       "0      i had the samsung a for awhile which is absolu...  \n",
       "1      due to a software issue between nokia and spri...  \n",
       "2      this is a great reliable phone i also purchase...  \n",
       "3      i love the phone and all because i really did ...  \n",
       "4      the phone has been great for every purpose it ...  \n",
       "...                                                  ...  \n",
       "72306                                                  b  \n",
       "72307                                                 js  \n",
       "72308                                     bn\u001agg\u0013\u0001kgfacy\u0012  \n",
       "72309                                         e\u0017\u0013xpealk  \n",
       "72310                                             b\u0007 r\u0006\u0016  \n",
       "\n",
       "[72311 rows x 3 columns]"
      ]
     },
     "execution_count": 55,
     "metadata": {},
     "output_type": "execute_result"
    }
   ],
   "source": [
    "data"
   ]
  },
  {
   "cell_type": "code",
   "execution_count": 56,
   "id": "901cf7da-4e84-47c1-8e44-0bd2271a853c",
   "metadata": {},
   "outputs": [
    {
     "name": "stdout",
     "output_type": "stream",
     "text": [
      "(72180, 3)\n",
      "(72180, 3)\n"
     ]
    }
   ],
   "source": [
    "#deleting rows that have only special symbols\n",
    "\n",
    "data.drop(data[data[\"cleanedreview\"]==\"NAN\"].index, axis = 0, inplace = True)    #deleting rows that have cleanedreview as NAN\n",
    "print(data.shape)\n",
    "data.reset_index(drop = True, inplace=True)   #after deleting rows index should be reset\n",
    "print(data.shape)"
   ]
  },
  {
   "cell_type": "code",
   "execution_count": 57,
   "id": "4d54f85f-c3a6-48de-a859-93638fcf8428",
   "metadata": {},
   "outputs": [
    {
     "data": {
      "text/html": [
       "<div>\n",
       "<style scoped>\n",
       "    .dataframe tbody tr th:only-of-type {\n",
       "        vertical-align: middle;\n",
       "    }\n",
       "\n",
       "    .dataframe tbody tr th {\n",
       "        vertical-align: top;\n",
       "    }\n",
       "\n",
       "    .dataframe thead th {\n",
       "        text-align: right;\n",
       "    }\n",
       "</style>\n",
       "<table border=\"1\" class=\"dataframe\">\n",
       "  <thead>\n",
       "    <tr style=\"text-align: right;\">\n",
       "      <th></th>\n",
       "      <th>uncleanedreview</th>\n",
       "      <th>decision</th>\n",
       "      <th>cleanedreview</th>\n",
       "    </tr>\n",
       "  </thead>\n",
       "  <tbody>\n",
       "    <tr>\n",
       "      <th>0</th>\n",
       "      <td>I had the Samsung A600 for awhile which is abs...</td>\n",
       "      <td>positive</td>\n",
       "      <td>i had the samsung a for awhile which is absolu...</td>\n",
       "    </tr>\n",
       "    <tr>\n",
       "      <th>1</th>\n",
       "      <td>Due to a software issue between Nokia and Spri...</td>\n",
       "      <td>positive</td>\n",
       "      <td>due to a software issue between nokia and spri...</td>\n",
       "    </tr>\n",
       "    <tr>\n",
       "      <th>2</th>\n",
       "      <td>This is a great, reliable phone. I also purcha...</td>\n",
       "      <td>positive</td>\n",
       "      <td>this is a great reliable phone i also purchase...</td>\n",
       "    </tr>\n",
       "    <tr>\n",
       "      <th>3</th>\n",
       "      <td>I love the phone and all, because I really did...</td>\n",
       "      <td>positive</td>\n",
       "      <td>i love the phone and all because i really did ...</td>\n",
       "    </tr>\n",
       "    <tr>\n",
       "      <th>4</th>\n",
       "      <td>The phone has been great for every purpose it ...</td>\n",
       "      <td>positive</td>\n",
       "      <td>the phone has been great for every purpose it ...</td>\n",
       "    </tr>\n",
       "    <tr>\n",
       "      <th>...</th>\n",
       "      <td>...</td>\n",
       "      <td>...</td>\n",
       "      <td>...</td>\n",
       "    </tr>\n",
       "    <tr>\n",
       "      <th>72175</th>\n",
       "      <td>b¹=º</td>\n",
       "      <td>NaN</td>\n",
       "      <td>b</td>\n",
       "    </tr>\n",
       "    <tr>\n",
       "      <th>72176</th>\n",
       "      <td>á@j\"·£òs</td>\n",
       "      <td>$\u0003vþh;ÛµfæKfy÷Dv2\u0013&lt;ò&amp;\u0017Àâ\u001c",
       "Iãß\u0019Û&gt;Ó¡¥(dÚê÷Öñê...</td>\n",
       "      <td>js</td>\n",
       "    </tr>\n",
       "    <tr>\n",
       "      <th>72177</th>\n",
       "      <td>$íò§«áç\u001c",
       "¶~ÐBø¢N\u001aú¥&lt;¸g¹ÑG)\u0013\u0001=#2KGF-AÝcð$Y´\u0012</td>\n",
       "      <td>NaN</td>\n",
       "      <td>bn\u001agg\u0013\u0001kgfacy\u0012</td>\n",
       "    </tr>\n",
       "    <tr>\n",
       "      <th>72178</th>\n",
       "      <td>þÿÛE\u0017©íÂ\u0013X×PEa5lKë</td>\n",
       "      <td>NaN</td>\n",
       "      <td>e\u0017\u0013xpealk</td>\n",
       "    </tr>\n",
       "    <tr>\n",
       "      <th>72179</th>\n",
       "      <td>?Ô!ä7B\u0007´}µë\\trÛ!â\u0006ÓÊ*\u0016</td>\n",
       "      <td>Âè¥Ç8\u0003Õ£Ãä</td>\n",
       "      <td>b\u0007 r\u0006\u0016</td>\n",
       "    </tr>\n",
       "  </tbody>\n",
       "</table>\n",
       "<p>72180 rows × 3 columns</p>\n",
       "</div>"
      ],
      "text/plain": [
       "                                         uncleanedreview  \\\n",
       "0      I had the Samsung A600 for awhile which is abs...   \n",
       "1      Due to a software issue between Nokia and Spri...   \n",
       "2      This is a great, reliable phone. I also purcha...   \n",
       "3      I love the phone and all, because I really did...   \n",
       "4      The phone has been great for every purpose it ...   \n",
       "...                                                  ...   \n",
       "72175                                               b¹=º   \n",
       "72176                                          á@j\"·£òs   \n",
       "72177     $íò§«áç\n",
       "¶~ÐBø¢N\u001aú¥<¸g¹ÑG)\u0013\u0001=#2KGF-AÝcð$Y´\u0012   \n",
       "72178                             þÿÛE\u0017©íÂ\u0013X×PEa5lKë   \n",
       "72179                           ?Ô!ä7B\u0007´}µë\\trÛ!â\u0006ÓÊ*\u0016   \n",
       "\n",
       "                                                decision  \\\n",
       "0                                               positive   \n",
       "1                                               positive   \n",
       "2                                               positive   \n",
       "3                                               positive   \n",
       "4                                               positive   \n",
       "...                                                  ...   \n",
       "72175                                                NaN   \n",
       "72176  $\u0003vþh;ÛµfæKfy÷Dv2\u0013<ò&\u0017Àâ\n",
       "Iãß\u0019Û>Ó¡¥(dÚê÷Öñê...   \n",
       "72177                                                NaN   \n",
       "72178                                                NaN   \n",
       "72179                                        Âè¥Ç8\u0003Õ£Ãä   \n",
       "\n",
       "                                           cleanedreview  \n",
       "0      i had the samsung a for awhile which is absolu...  \n",
       "1      due to a software issue between nokia and spri...  \n",
       "2      this is a great reliable phone i also purchase...  \n",
       "3      i love the phone and all because i really did ...  \n",
       "4      the phone has been great for every purpose it ...  \n",
       "...                                                  ...  \n",
       "72175                                                  b  \n",
       "72176                                                 js  \n",
       "72177                                     bn\u001agg\u0013\u0001kgfacy\u0012  \n",
       "72178                                         e\u0017\u0013xpealk  \n",
       "72179                                             b\u0007 r\u0006\u0016  \n",
       "\n",
       "[72180 rows x 3 columns]"
      ]
     },
     "execution_count": 57,
     "metadata": {},
     "output_type": "execute_result"
    }
   ],
   "source": [
    "data"
   ]
  },
  {
   "cell_type": "code",
   "execution_count": 58,
   "id": "c75799d7-36eb-4472-a8d9-0ab4e430852b",
   "metadata": {},
   "outputs": [],
   "source": [
    "data.to_csv('AmazonMobileDataCleaned.csv', index = None) "
   ]
  },
  {
   "cell_type": "code",
   "execution_count": null,
   "id": "6ab62b62-6619-4dcb-be4f-e51f8395ab01",
   "metadata": {},
   "outputs": [],
   "source": []
  }
 ],
 "metadata": {
  "kernelspec": {
   "display_name": "Python 3 (ipykernel)",
   "language": "python",
   "name": "python3"
  },
  "language_info": {
   "codemirror_mode": {
    "name": "ipython",
    "version": 3
   },
   "file_extension": ".py",
   "mimetype": "text/x-python",
   "name": "python",
   "nbconvert_exporter": "python",
   "pygments_lexer": "ipython3",
   "version": "3.10.12"
  }
 },
 "nbformat": 4,
 "nbformat_minor": 5
}
