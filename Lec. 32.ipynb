{
 "cells": [
  {
   "cell_type": "code",
   "execution_count": 1,
   "id": "f2eb575f-3142-4f0f-81cd-be5d73794f3b",
   "metadata": {},
   "outputs": [
    {
     "name": "stdout",
     "output_type": "stream",
     "text": [
      "Requirement already satisfied: gensim in /home/komal/Documents/python_virtual_env/komal_env/lib/python3.10/site-packages (4.3.2)\n",
      "Requirement already satisfied: numpy>=1.18.5 in /home/komal/Documents/python_virtual_env/komal_env/lib/python3.10/site-packages (from gensim) (1.26.4)\n",
      "Requirement already satisfied: scipy>=1.7.0 in /home/komal/Documents/python_virtual_env/komal_env/lib/python3.10/site-packages (from gensim) (1.10.1)\n",
      "Requirement already satisfied: smart-open>=1.8.1 in /home/komal/Documents/python_virtual_env/komal_env/lib/python3.10/site-packages (from gensim) (7.0.4)\n",
      "Requirement already satisfied: wrapt in /home/komal/Documents/python_virtual_env/komal_env/lib/python3.10/site-packages (from smart-open>=1.8.1->gensim) (1.16.0)\n"
     ]
    }
   ],
   "source": [
    "! pip install gensim"
   ]
  },
  {
   "cell_type": "code",
   "execution_count": 41,
   "id": "913dc4cb-5674-4049-a8de-969bd8adcf53",
   "metadata": {},
   "outputs": [
    {
     "name": "stdout",
     "output_type": "stream",
     "text": [
      "Requirement already satisfied: scipy==1.10.1 in /home/komal/Documents/python_virtual_env/komal_env/lib/python3.10/site-packages (1.10.1)\n",
      "Requirement already satisfied: numpy<1.27.0,>=1.19.5 in /home/komal/Documents/python_virtual_env/komal_env/lib/python3.10/site-packages (from scipy==1.10.1) (1.26.4)\n"
     ]
    }
   ],
   "source": [
    "!pip install scipy==1.10.1"
   ]
  },
  {
   "cell_type": "code",
   "execution_count": 42,
   "id": "2233a7eb-b840-4e72-98f9-028e3688d699",
   "metadata": {
    "editable": true,
    "slideshow": {
     "slide_type": ""
    },
    "tags": []
   },
   "outputs": [],
   "source": [
    "from gensim.models import Word2Vec\n",
    "import pandas as pd"
   ]
  },
  {
   "cell_type": "code",
   "execution_count": 43,
   "id": "54c59fc8-2868-44b3-a1fd-2a92dc15fce5",
   "metadata": {
    "editable": true,
    "slideshow": {
     "slide_type": ""
    },
    "tags": []
   },
   "outputs": [],
   "source": [
    "dict = {'review': ['this mobile is good', 'this mobile is not good', 'this mobile works fine and affordable', 'this mobile is cheap and is best']}"
   ]
  },
  {
   "cell_type": "code",
   "execution_count": 44,
   "id": "b0e01802-65c3-49f2-829b-19f2f611e7d9",
   "metadata": {},
   "outputs": [],
   "source": [
    "data = pd.DataFrame(dict)"
   ]
  },
  {
   "cell_type": "code",
   "execution_count": 45,
   "id": "ce96863f-fc7a-4711-b41f-e1cbfe67cfed",
   "metadata": {},
   "outputs": [
    {
     "data": {
      "text/html": [
       "<div>\n",
       "<style scoped>\n",
       "    .dataframe tbody tr th:only-of-type {\n",
       "        vertical-align: middle;\n",
       "    }\n",
       "\n",
       "    .dataframe tbody tr th {\n",
       "        vertical-align: top;\n",
       "    }\n",
       "\n",
       "    .dataframe thead th {\n",
       "        text-align: right;\n",
       "    }\n",
       "</style>\n",
       "<table border=\"1\" class=\"dataframe\">\n",
       "  <thead>\n",
       "    <tr style=\"text-align: right;\">\n",
       "      <th></th>\n",
       "      <th>review</th>\n",
       "    </tr>\n",
       "  </thead>\n",
       "  <tbody>\n",
       "    <tr>\n",
       "      <th>0</th>\n",
       "      <td>this mobile is good</td>\n",
       "    </tr>\n",
       "    <tr>\n",
       "      <th>1</th>\n",
       "      <td>this mobile is not good</td>\n",
       "    </tr>\n",
       "    <tr>\n",
       "      <th>2</th>\n",
       "      <td>this mobile works fine and affordable</td>\n",
       "    </tr>\n",
       "    <tr>\n",
       "      <th>3</th>\n",
       "      <td>this mobile is cheap and is best</td>\n",
       "    </tr>\n",
       "  </tbody>\n",
       "</table>\n",
       "</div>"
      ],
      "text/plain": [
       "                                  review\n",
       "0                    this mobile is good\n",
       "1                this mobile is not good\n",
       "2  this mobile works fine and affordable\n",
       "3       this mobile is cheap and is best"
      ]
     },
     "execution_count": 45,
     "metadata": {},
     "output_type": "execute_result"
    }
   ],
   "source": [
    "data"
   ]
  },
  {
   "cell_type": "code",
   "execution_count": 46,
   "id": "10a5cb09-4af5-41b5-98aa-fec403c561fd",
   "metadata": {},
   "outputs": [],
   "source": [
    "p = []\n",
    "for i in data['review'].values:\n",
    "    p.append(i.split())\n",
    "    "
   ]
  },
  {
   "cell_type": "code",
   "execution_count": 47,
   "id": "b0ac55ee-ac37-49a8-a2a8-1640630ef799",
   "metadata": {},
   "outputs": [
    {
     "data": {
      "text/plain": [
       "[['this', 'mobile', 'is', 'good'],\n",
       " ['this', 'mobile', 'is', 'not', 'good'],\n",
       " ['this', 'mobile', 'works', 'fine', 'and', 'affordable'],\n",
       " ['this', 'mobile', 'is', 'cheap', 'and', 'is', 'best']]"
      ]
     },
     "execution_count": 47,
     "metadata": {},
     "output_type": "execute_result"
    }
   ],
   "source": [
    "p"
   ]
  },
  {
   "cell_type": "code",
   "execution_count": 48,
   "id": "2bbd92b8-e16e-4cfd-a919-e48124216d7e",
   "metadata": {},
   "outputs": [],
   "source": [
    "t = Word2Vec(p, min_count = 1, vector_size = 50).wv"
   ]
  },
  {
   "cell_type": "code",
   "execution_count": 49,
   "id": "29aa72ba-c5aa-44c4-bc39-06fee3dd5757",
   "metadata": {},
   "outputs": [],
   "source": [
    "# 'min_count = 1' means Words that appear at least once in the corpus should be included in the vocabulary. Setting it to 1 includes all words.\n",
    "# 'vector_size = 50' means each word should be represented by a 50-dimensional vector.\n",
    "# .wv: Provides access to the learned word vectors.\n",
    "# (using the updated gensim library methods)"
   ]
  },
  {
   "cell_type": "code",
   "execution_count": 50,
   "id": "d001cfd4-10b7-4061-bceb-f802bc434660",
   "metadata": {},
   "outputs": [
    {
     "data": {
      "text/plain": [
       "<gensim.models.keyedvectors.KeyedVectors at 0x7ba20d7d1090>"
      ]
     },
     "execution_count": 50,
     "metadata": {},
     "output_type": "execute_result"
    }
   ],
   "source": [
    "t"
   ]
  },
  {
   "cell_type": "code",
   "execution_count": 51,
   "id": "1993036f-eb24-440e-b139-dc0485f65c8e",
   "metadata": {},
   "outputs": [
    {
     "data": {
      "text/plain": [
       "array([ 1.56351421e-02, -1.90203730e-02, -4.11062239e-04,  6.93839323e-03,\n",
       "       -1.87794445e-03,  1.67635437e-02,  1.80215668e-02,  1.30730132e-02,\n",
       "       -1.42324204e-03,  1.54208085e-02, -1.70686692e-02,  6.41421322e-03,\n",
       "       -9.27599426e-03, -1.01779103e-02,  7.17923651e-03,  1.07406788e-02,\n",
       "        1.55390287e-02, -1.15330126e-02,  1.48667218e-02,  1.32509926e-02,\n",
       "       -7.41960062e-03, -1.74912829e-02,  1.08749345e-02,  1.30195115e-02,\n",
       "       -1.57510047e-03, -1.34197120e-02, -1.41718509e-02, -4.99412045e-03,\n",
       "        1.02865072e-02, -7.33047491e-03, -1.87401194e-02,  7.65347946e-03,\n",
       "        9.76895820e-03, -1.28571270e-02,  2.41711619e-03, -4.14975407e-03,\n",
       "        4.88066689e-05, -1.97670180e-02,  5.38400887e-03, -9.50021297e-03,\n",
       "        2.17529293e-03, -3.15244915e-03,  4.39334614e-03, -1.57631524e-02,\n",
       "       -5.43436781e-03,  5.32639725e-03,  1.06933638e-02, -4.78302967e-03,\n",
       "       -1.90201886e-02,  9.01175756e-03], dtype=float32)"
      ]
     },
     "execution_count": 51,
     "metadata": {},
     "output_type": "execute_result"
    }
   ],
   "source": [
    "t['good']     #vector for the word 'good'"
   ]
  },
  {
   "cell_type": "code",
   "execution_count": 52,
   "id": "fee5f3b2-cc2b-4539-a442-7a35bb6e0bec",
   "metadata": {},
   "outputs": [
    {
     "data": {
      "text/plain": [
       "array([-0.01723938,  0.00733148,  0.01037977,  0.01148388,  0.01493384,\n",
       "       -0.01233535,  0.00221123,  0.01209456, -0.0056801 , -0.01234705,\n",
       "       -0.00082045, -0.0167379 , -0.01120002,  0.01420908,  0.00670508,\n",
       "        0.01445134,  0.01360049,  0.01506148, -0.00757831, -0.00112361,\n",
       "        0.00469675, -0.00903806,  0.01677746, -0.01971633,  0.01352928,\n",
       "        0.00582883, -0.00986566,  0.00879638, -0.00347915,  0.01342277,\n",
       "        0.0199297 , -0.00872489, -0.00119868, -0.01139127,  0.00770164,\n",
       "        0.00557325,  0.01378215,  0.01220219,  0.01907699,  0.01854683,\n",
       "        0.01579614, -0.01397901, -0.01831173, -0.00071151, -0.00619968,\n",
       "        0.01578863,  0.01187715, -0.00309133,  0.00302193,  0.00358008],\n",
       "      dtype=float32)"
      ]
     },
     "execution_count": 52,
     "metadata": {},
     "output_type": "execute_result"
    }
   ],
   "source": [
    "t['mobile']"
   ]
  },
  {
   "cell_type": "code",
   "execution_count": 55,
   "id": "bbdc75aa-226f-4581-9a9d-e123a9f2d866",
   "metadata": {},
   "outputs": [],
   "source": [
    "model = Word2Vec(p, min_count = 1, vector_size = 50)"
   ]
  },
  {
   "cell_type": "code",
   "execution_count": 68,
   "id": "d45ddeea-03d7-4e0c-a34c-5a2aa79b9828",
   "metadata": {},
   "outputs": [
    {
     "data": {
      "text/plain": [
       "['is',\n",
       " 'this',\n",
       " 'mobile',\n",
       " 'good',\n",
       " 'and',\n",
       " 'best',\n",
       " 'cheap',\n",
       " 'affordable',\n",
       " 'not',\n",
       " 'fine',\n",
       " 'works']"
      ]
     },
     "execution_count": 68,
     "metadata": {},
     "output_type": "execute_result"
    }
   ],
   "source": [
    "list(model.wv.key_to_index)  \n",
    "# Provides list of words or vocabulary, which is a dictionary mapping each word to its index (i.e. vector)in the model.\n",
    "# (using the updated gensim library methods)"
   ]
  },
  {
   "cell_type": "code",
   "execution_count": null,
   "id": "e1b39a37-d28f-40c2-a9b4-124fbe3c82a9",
   "metadata": {},
   "outputs": [],
   "source": []
  },
  {
   "cell_type": "code",
   "execution_count": null,
   "id": "f36685e4-ac25-4e81-ace8-acb8e98cd915",
   "metadata": {
    "editable": true,
    "slideshow": {
     "slide_type": ""
    },
    "tags": []
   },
   "outputs": [],
   "source": []
  }
 ],
 "metadata": {
  "kernelspec": {
   "display_name": "Python 3 (ipykernel)",
   "language": "python",
   "name": "python3"
  },
  "language_info": {
   "codemirror_mode": {
    "name": "ipython",
    "version": 3
   },
   "file_extension": ".py",
   "mimetype": "text/x-python",
   "name": "python",
   "nbconvert_exporter": "python",
   "pygments_lexer": "ipython3",
   "version": "3.10.12"
  }
 },
 "nbformat": 4,
 "nbformat_minor": 5
}
